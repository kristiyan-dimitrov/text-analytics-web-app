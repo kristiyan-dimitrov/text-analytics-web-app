{
 "cells": [
  {
   "cell_type": "code",
   "execution_count": 9,
   "metadata": {},
   "outputs": [],
   "source": [
    "import json\n",
    "import numpy as np\n",
    "import pandas as pd\n",
    "import matplotlib.pyplot as plt\n",
    "import missingno as msno\n",
    "import multiprocessing\n",
    "import seaborn as sns\n",
    "import pickle\n",
    "\n",
    "from gensim.corpora.dictionary import Dictionary\n",
    "\n",
    "# Label dimensionality reduction\n",
    "from sklearn.metrics.pairwise import cosine_similarity\n",
    "from sklearn.cluster import FeatureAgglomeration\n",
    "from gensim.models import LdaModel, LsiModel, RpModel\n",
    "from scipy.sparse import csr_matrix\n",
    "\n",
    "# Feature generation\n",
    "from sklearn.model_selection import train_test_split\n",
    "from sklearn.feature_extraction.text import CountVectorizer,TfidfVectorizer\n",
    "\n",
    "# Modelling\n",
    "from sklearn.linear_model import LogisticRegression, LogisticRegressionCV\n",
    "from sklearn.svm import LinearSVC\n",
    "from sklearn.svm import SVC\n",
    "from sklearn.ensemble import RandomForestClassifier\n",
    "from sklearn.multiclass import OneVsRestClassifier\n",
    "# Based on this post: https://stackoverflow.com/questions/42819460/what-is-the-difference-between-onevsrestclassifier-and-multioutputclassifier-in\n",
    "# it appears that OneVsRestClassifier works the same as MultiOutputClassifier in our case with binary Multi-Label classification.\n",
    "\n",
    "# from sklearn.multioutput import MultiOutputClassifier # For doing One-vs-Rest by training K number of binary classifiers where K = n_classes\n",
    "# # See docs: https://scikit-learn.org/stable/modules/multiclass.html\n",
    "\n",
    "# Deep Learning\n",
    "import keras\n",
    "import numpy as np\n",
    "import tensorflow as tf\n",
    "from keras import Model\n",
    "from keras.layers import Dense, Dropout, Embedding, Flatten, LSTM\n",
    "from keras.layers.convolutional import Conv1D, MaxPooling1D\n",
    "from keras.models import Sequential\n",
    "from keras.optimizers import Adam\n",
    "from keras.preprocessing.sequence import pad_sequences\n",
    "from keras.preprocessing.text import Tokenizer\n",
    "from keras.callbacks import EarlyStopping\n",
    "\n",
    "\n",
    "# Model Tuning\n",
    "from sklearn.model_selection import ParameterGrid, RandomizedSearchCV\n",
    "\n",
    "# Evaluation\n",
    "from sklearn.metrics import accuracy_score, precision_score, recall_score, f1_score, confusion_matrix, classification_report\n",
    "from sklearn.metrics import jaccard_score, hamming_loss, zero_one_loss, multilabel_confusion_matrix, roc_auc_score\n",
    "from sklearn.metrics import make_scorer"
   ]
  },
  {
   "cell_type": "code",
   "execution_count": 10,
   "metadata": {},
   "outputs": [],
   "source": [
    "with open('gensim_dictionary.pickle', 'rb') as f:\n",
    "    dictionary = pickle.load(f)\n",
    "    \n",
    "with open('tokenized_nostops_descriptions.pickle', 'rb') as f:\n",
    "    tokenized_descriptions = pickle.load(f)"
   ]
  },
  {
   "cell_type": "code",
   "execution_count": 11,
   "metadata": {},
   "outputs": [
    {
     "data": {
      "text/html": [
       "<div>\n",
       "<style scoped>\n",
       "    .dataframe tbody tr th:only-of-type {\n",
       "        vertical-align: middle;\n",
       "    }\n",
       "\n",
       "    .dataframe tbody tr th {\n",
       "        vertical-align: top;\n",
       "    }\n",
       "\n",
       "    .dataframe thead th {\n",
       "        text-align: right;\n",
       "    }\n",
       "</style>\n",
       "<table border=\"1\" class=\"dataframe\">\n",
       "  <thead>\n",
       "    <tr style=\"text-align: right;\">\n",
       "      <th></th>\n",
       "      <th>id</th>\n",
       "      <th>name</th>\n",
       "      <th>description</th>\n",
       "      <th>categories_Abstract Strategy</th>\n",
       "      <th>categories_Action / Dexterity</th>\n",
       "      <th>categories_Adventure</th>\n",
       "      <th>categories_Age of Reason</th>\n",
       "      <th>categories_American Civil War</th>\n",
       "      <th>categories_American Indian Wars</th>\n",
       "      <th>categories_American Revolutionary War</th>\n",
       "      <th>...</th>\n",
       "      <th>categories_Transportation</th>\n",
       "      <th>categories_Travel</th>\n",
       "      <th>categories_Trivia</th>\n",
       "      <th>categories_Video Game Theme</th>\n",
       "      <th>categories_Vietnam War</th>\n",
       "      <th>categories_Wargame</th>\n",
       "      <th>categories_Word Game</th>\n",
       "      <th>categories_World War I</th>\n",
       "      <th>categories_World War II</th>\n",
       "      <th>categories_Zombies</th>\n",
       "    </tr>\n",
       "  </thead>\n",
       "  <tbody>\n",
       "    <tr>\n",
       "      <th>0</th>\n",
       "      <td>174430</td>\n",
       "      <td>Gloomhaven</td>\n",
       "      <td>Gloomhaven  is a game of Euro-inspired tactica...</td>\n",
       "      <td>0</td>\n",
       "      <td>0</td>\n",
       "      <td>1</td>\n",
       "      <td>0</td>\n",
       "      <td>0</td>\n",
       "      <td>0</td>\n",
       "      <td>0</td>\n",
       "      <td>...</td>\n",
       "      <td>0</td>\n",
       "      <td>0</td>\n",
       "      <td>0</td>\n",
       "      <td>0</td>\n",
       "      <td>0</td>\n",
       "      <td>0</td>\n",
       "      <td>0</td>\n",
       "      <td>0</td>\n",
       "      <td>0</td>\n",
       "      <td>0</td>\n",
       "    </tr>\n",
       "  </tbody>\n",
       "</table>\n",
       "<p>1 rows × 86 columns</p>\n",
       "</div>"
      ],
      "text/plain": [
       "       id        name                                        description  \\\n",
       "0  174430  Gloomhaven  Gloomhaven  is a game of Euro-inspired tactica...   \n",
       "\n",
       "   categories_Abstract Strategy  categories_Action / Dexterity  \\\n",
       "0                             0                              0   \n",
       "\n",
       "   categories_Adventure  categories_Age of Reason  \\\n",
       "0                     1                         0   \n",
       "\n",
       "   categories_American Civil War  categories_American Indian Wars  \\\n",
       "0                              0                                0   \n",
       "\n",
       "   categories_American Revolutionary War  ...  categories_Transportation  \\\n",
       "0                                      0  ...                          0   \n",
       "\n",
       "   categories_Travel  categories_Trivia  categories_Video Game Theme  \\\n",
       "0                  0                  0                            0   \n",
       "\n",
       "   categories_Vietnam War  categories_Wargame  categories_Word Game  \\\n",
       "0                       0                   0                     0   \n",
       "\n",
       "   categories_World War I  categories_World War II  categories_Zombies  \n",
       "0                       0                        0                   0  \n",
       "\n",
       "[1 rows x 86 columns]"
      ]
     },
     "execution_count": 11,
     "metadata": {},
     "output_type": "execute_result"
    }
   ],
   "source": [
    "df = pd.read_pickle('../data/df_cats.pickle')\n",
    "df.head(1)"
   ]
  },
  {
   "cell_type": "code",
   "execution_count": 12,
   "metadata": {},
   "outputs": [
    {
     "name": "stdout",
     "output_type": "stream",
     "text": [
      "(17146,)\n",
      "(17146, 83)\n"
     ]
    }
   ],
   "source": [
    "raw_features = df.description\n",
    "labels = df.iloc[:, 3:]\n",
    "print(raw_features.shape)\n",
    "print(labels.shape)"
   ]
  },
  {
   "cell_type": "markdown",
   "metadata": {},
   "source": [
    "# Label dimensionality reduction"
   ]
  },
  {
   "cell_type": "code",
   "execution_count": 13,
   "metadata": {},
   "outputs": [
    {
     "data": {
      "text/plain": [
       "(83, 83)"
      ]
     },
     "execution_count": 13,
     "metadata": {},
     "output_type": "execute_result"
    }
   ],
   "source": [
    "cos_sim = cosine_similarity(labels.T); cos_sim.shape"
   ]
  },
  {
   "cell_type": "code",
   "execution_count": 14,
   "metadata": {},
   "outputs": [
    {
     "data": {
      "text/plain": [
       "(array([4.788e+03, 9.180e+02, 4.200e+02, 1.960e+02, 1.700e+02, 8.000e+01,\n",
       "        5.400e+01, 2.800e+01, 3.400e+01, 2.800e+01, 1.000e+01, 2.000e+01,\n",
       "        2.000e+01, 6.000e+00, 6.000e+00, 6.000e+00, 1.200e+01, 0.000e+00,\n",
       "        2.000e+00, 4.000e+00, 0.000e+00, 0.000e+00, 0.000e+00, 0.000e+00,\n",
       "        0.000e+00, 2.000e+00, 0.000e+00, 2.000e+00, 0.000e+00, 0.000e+00,\n",
       "        0.000e+00, 0.000e+00, 0.000e+00, 0.000e+00, 0.000e+00, 0.000e+00,\n",
       "        0.000e+00, 0.000e+00, 0.000e+00, 0.000e+00, 0.000e+00, 0.000e+00,\n",
       "        0.000e+00, 0.000e+00, 0.000e+00, 0.000e+00, 0.000e+00, 0.000e+00,\n",
       "        0.000e+00, 8.300e+01]),\n",
       " array([0.  , 0.02, 0.04, 0.06, 0.08, 0.1 , 0.12, 0.14, 0.16, 0.18, 0.2 ,\n",
       "        0.22, 0.24, 0.26, 0.28, 0.3 , 0.32, 0.34, 0.36, 0.38, 0.4 , 0.42,\n",
       "        0.44, 0.46, 0.48, 0.5 , 0.52, 0.54, 0.56, 0.58, 0.6 , 0.62, 0.64,\n",
       "        0.66, 0.68, 0.7 , 0.72, 0.74, 0.76, 0.78, 0.8 , 0.82, 0.84, 0.86,\n",
       "        0.88, 0.9 , 0.92, 0.94, 0.96, 0.98, 1.  ]),\n",
       " <a list of 50 Patch objects>)"
      ]
     },
     "execution_count": 14,
     "metadata": {},
     "output_type": "execute_result"
    },
    {
     "data": {
      "image/png": "[encoded data removed]",
      "text/plain": [
       "<Figure size 432x288 with 1 Axes>"
      ]
     },
     "metadata": {
      "needs_background": "light"
     },
     "output_type": "display_data"
    }
   ],
   "source": [
    "plt.hist(cos_sim.flatten(), bins=50)"
   ]
  },
  {
   "cell_type": "code",
   "execution_count": 15,
   "metadata": {},
   "outputs": [
    {
     "data": {
      "text/plain": [
       "<matplotlib.axes._subplots.AxesSubplot at 0x7fe5a113fd50>"
      ]
     },
     "execution_count": 15,
     "metadata": {},
     "output_type": "execute_result"
    },
    {
     "data": {
      "image/png": "[encoded data removed]",
      "text/plain": [
       "<Figure size 720x576 with 2 Axes>"
      ]
     },
     "metadata": {
      "needs_background": "light"
     },
     "output_type": "display_data"
    }
   ],
   "source": [
    "plt.figure(figsize=(10,8))\n",
    "sns.heatmap(cos_sim)"
   ]
  },
  {
   "cell_type": "code",
   "execution_count": null,
   "metadata": {},
   "outputs": [],
   "source": []
  },
  {
   "cell_type": "code",
   "execution_count": null,
   "metadata": {},
   "outputs": [],
   "source": []
  },
  {
   "cell_type": "markdown",
   "metadata": {},
   "source": [
    "### Feature Agglomeration"
   ]
  },
  {
   "cell_type": "markdown",
   "metadata": {},
   "source": [
    "\n",
    "<div class=\"alert alert-warning\">NOTE: This is problematic, because we lose the binary nature of the data => only relevant for DL approach? </div>\n"
   ]
  },
  {
   "cell_type": "code",
   "execution_count": 16,
   "metadata": {},
   "outputs": [
    {
     "data": {
      "text/plain": [
       "FeatureAgglomeration(affinity='cosine', linkage='average', n_clusters=20)"
      ]
     },
     "execution_count": 16,
     "metadata": {},
     "output_type": "execute_result"
    }
   ],
   "source": [
    "featAgg = FeatureAgglomeration(n_clusters=20\n",
    "                               , affinity = 'cosine'\n",
    "                               , linkage = 'average')\n",
    "\n",
    "featAgg.fit(labels)"
   ]
  },
  {
   "cell_type": "code",
   "execution_count": 17,
   "metadata": {},
   "outputs": [],
   "source": [
    "agg_labels = featAgg.transform(labels)"
   ]
  },
  {
   "cell_type": "code",
   "execution_count": 18,
   "metadata": {},
   "outputs": [
    {
     "data": {
      "text/plain": [
       "(17146, 20)"
      ]
     },
     "execution_count": 18,
     "metadata": {},
     "output_type": "execute_result"
    }
   ],
   "source": [
    "agg_labels.shape"
   ]
  },
  {
   "cell_type": "code",
   "execution_count": 19,
   "metadata": {},
   "outputs": [
    {
     "data": {
      "text/plain": [
       "array([[0.        , 0.        , 0.        , 0.        , 0.29411765,\n",
       "        0.        , 0.        , 0.        , 0.        , 0.        ],\n",
       "       [0.2       , 0.        , 0.        , 0.        , 0.        ,\n",
       "        0.        , 0.        , 0.        , 0.        , 0.        ],\n",
       "       [0.        , 0.16666667, 0.05882353, 0.        , 0.        ,\n",
       "        0.        , 0.        , 0.        , 0.        , 0.        ],\n",
       "       [0.2       , 0.25      , 0.        , 0.        , 0.11764706,\n",
       "        0.        , 0.        , 0.        , 0.        , 0.        ],\n",
       "       [0.        , 0.08333333, 0.        , 0.25      , 0.        ,\n",
       "        0.        , 0.        , 0.        , 0.        , 0.        ],\n",
       "       [0.        , 0.        , 0.        , 0.125     , 0.23529412,\n",
       "        0.        , 0.        , 0.33333333, 0.        , 0.        ],\n",
       "       [0.        , 0.16666667, 0.        , 0.        , 0.11764706,\n",
       "        0.        , 0.        , 0.        , 0.        , 0.        ],\n",
       "       [0.        , 0.16666667, 0.        , 0.        , 0.11764706,\n",
       "        0.        , 0.        , 0.        , 0.        , 0.        ],\n",
       "       [0.        , 0.33333333, 0.        , 0.125     , 0.11764706,\n",
       "        0.        , 0.        , 0.        , 0.        , 0.        ],\n",
       "       [0.        , 0.        , 0.05882353, 0.        , 0.        ,\n",
       "        0.        , 0.        , 0.        , 0.        , 0.        ]])"
      ]
     },
     "execution_count": 19,
     "metadata": {},
     "output_type": "execute_result"
    }
   ],
   "source": [
    "agg_labels[:10,:10]"
   ]
  },
  {
   "cell_type": "code",
   "execution_count": 20,
   "metadata": {},
   "outputs": [],
   "source": [
    "labels_restored = featAgg.inverse_transform(agg_labels)"
   ]
  },
  {
   "cell_type": "code",
   "execution_count": 21,
   "metadata": {},
   "outputs": [
    {
     "data": {
      "text/plain": [
       "(17146, 83)"
      ]
     },
     "execution_count": 21,
     "metadata": {},
     "output_type": "execute_result"
    }
   ],
   "source": [
    "labels_restored.shape"
   ]
  },
  {
   "cell_type": "code",
   "execution_count": 22,
   "metadata": {},
   "outputs": [
    {
     "data": {
      "text/plain": [
       "array([[0.        , 0.        , 0.29411765, ..., 0.        , 0.        ,\n",
       "        0.29411765],\n",
       "       [0.        , 0.        , 0.        , ..., 0.        , 0.        ,\n",
       "        0.        ],\n",
       "       [0.        , 0.05882353, 0.        , ..., 0.        , 0.        ,\n",
       "        0.        ],\n",
       "       ...,\n",
       "       [0.        , 0.05882353, 0.        , ..., 0.        , 0.        ,\n",
       "        0.        ],\n",
       "       [0.        , 0.11764706, 0.11764706, ..., 0.        , 0.        ,\n",
       "        0.11764706],\n",
       "       [0.5       , 0.05882353, 0.        , ..., 0.        , 0.        ,\n",
       "        0.        ]])"
      ]
     },
     "execution_count": 22,
     "metadata": {},
     "output_type": "execute_result"
    }
   ],
   "source": [
    "labels_restored"
   ]
  },
  {
   "cell_type": "markdown",
   "metadata": {},
   "source": [
    "## LDA (Latent Dirichlet Allocation)"
   ]
  },
  {
   "cell_type": "code",
   "execution_count": 23,
   "metadata": {},
   "outputs": [
    {
     "data": {
      "text/plain": [
       "<17146x83 sparse matrix of type '<class 'numpy.uint8'>'\n",
       "\twith 45335 stored elements in Compressed Sparse Row format>"
      ]
     },
     "execution_count": 23,
     "metadata": {},
     "output_type": "execute_result"
    }
   ],
   "source": [
    "# convert to sparse matrix (CSR method)\n",
    "S = csr_matrix(labels.values); S"
   ]
  },
  {
   "cell_type": "code",
   "execution_count": 24,
   "metadata": {},
   "outputs": [],
   "source": [
    "# The data needs to be in a specific format for LdaModel\n",
    "# More specifically, the format is list[list[(int,int)]] where the first int is the index of the category column and the second one is always 1\n",
    "# For example, here are the first 3 rows of transformed data:\n",
    "# [[(2, 1), (28, 1), (29, 1), (31, 1), (44, 1)],\n",
    "#  [(26, 1), (41, 1)],\n",
    "#  [(14, 1), (18, 1), (23, 1)],\n",
    "# Below I put the data in that format\n",
    "\n",
    "sparse_labels = []\n",
    "\n",
    "for sparse_row in S:\n",
    "    \n",
    "    new_row = []\n",
    "    \n",
    "    loc_of_1s = np.where(sparse_row.todense()==1)[1]\n",
    "    \n",
    "    for loc_of_1 in loc_of_1s:\n",
    "        \n",
    "        new_row.append((loc_of_1, 1))\n",
    "        \n",
    "    sparse_labels.append(new_row)"
   ]
  },
  {
   "cell_type": "code",
   "execution_count": 25,
   "metadata": {},
   "outputs": [],
   "source": [
    "lda = LdaModel(sparse_labels\n",
    "               , num_topics=20) # This sets the dimensionality we want\n",
    "\n",
    "vector = lda[sparse_labels]"
   ]
  },
  {
   "cell_type": "code",
   "execution_count": 26,
   "metadata": {},
   "outputs": [],
   "source": [
    "unpacked_topics = []\n",
    "for topic in vector:\n",
    "    unpacked_topics.append(topic)"
   ]
  },
  {
   "cell_type": "code",
   "execution_count": 27,
   "metadata": {},
   "outputs": [
    {
     "data": {
      "text/plain": [
       "17146"
      ]
     },
     "execution_count": 27,
     "metadata": {},
     "output_type": "execute_result"
    }
   ],
   "source": [
    "len(unpacked_topics)"
   ]
  },
  {
   "cell_type": "code",
   "execution_count": 28,
   "metadata": {},
   "outputs": [],
   "source": [
    "max_prob = []\n",
    "\n",
    "for unpacked_topic_indx in range(len(unpacked_topics)): #\n",
    "    max_prob.append(sum([tpl[1] for tpl in unpacked_topics[unpacked_topic_indx]]))"
   ]
  },
  {
   "cell_type": "code",
   "execution_count": 29,
   "metadata": {},
   "outputs": [
    {
     "data": {
      "text/plain": [
       "(array([3.330e+02, 6.970e+02, 3.010e+02, 1.320e+02, 7.800e+01, 1.800e+01,\n",
       "        5.000e+00, 2.000e+00, 0.000e+00, 1.558e+04]),\n",
       " array([0.84166461, 0.85749816, 0.87333171, 0.88916525, 0.9049988 ,\n",
       "        0.92083235, 0.93666589, 0.95249944, 0.96833299, 0.98416653,\n",
       "        1.00000008]),\n",
       " <a list of 10 Patch objects>)"
      ]
     },
     "execution_count": 29,
     "metadata": {},
     "output_type": "execute_result"
    },
    {
     "data": {
      "image/png": "[encoded data removed]",
      "text/plain": [
       "<Figure size 432x288 with 1 Axes>"
      ]
     },
     "metadata": {
      "needs_background": "light"
     },
     "output_type": "display_data"
    }
   ],
   "source": [
    "plt.hist(max_prob)"
   ]
  },
  {
   "cell_type": "markdown",
   "metadata": {},
   "source": [
    "\n",
    "<div class=\"alert alert-success\">NOTE: Apparently most games have 1 high probability latent topic. This is great! </div>\n"
   ]
  },
  {
   "cell_type": "code",
   "execution_count": 30,
   "metadata": {},
   "outputs": [
    {
     "name": "stdout",
     "output_type": "stream",
     "text": [
      "(17146, 20)\n"
     ]
    }
   ],
   "source": [
    "# Below we transform the LDA labels into a numpy array with 0s & 1s\n",
    "\n",
    "# Initializing new LDA labels\n",
    "lda_labels = np.zeros((labels.shape[0], 20)); \n",
    "print(lda_labels.shape)\n",
    "\n",
    "for unpacked_topic_idx in range(len(unpacked_topics)):\n",
    "    \n",
    "    mean_value = np.mean([tpl[1] for tpl in unpacked_topics[unpacked_topic_idx]])\n",
    "    \n",
    "    for tpl in unpacked_topics[unpacked_topic_idx]:\n",
    "        if tpl[1] >= mean_value:\n",
    "            lda_labels[unpacked_topic_idx, tpl[0]] = 1\n",
    "    "
   ]
  },
  {
   "cell_type": "code",
   "execution_count": 34,
   "metadata": {},
   "outputs": [
    {
     "data": {
      "text/plain": [
       "(array([    0.,  2000.,  4000.,  6000.,  8000., 10000.]),\n",
       " <a list of 6 Text yticklabel objects>)"
      ]
     },
     "execution_count": 34,
     "metadata": {},
     "output_type": "execute_result"
    },
    {
     "data": {
      "image/png": "[encoded data removed]",
      "text/plain": [
       "<Figure size 432x288 with 1 Axes>"
      ]
     },
     "metadata": {
      "needs_background": "light"
     },
     "output_type": "display_data"
    }
   ],
   "source": [
    "# It looks like most of the games now have 1, or 2 LDA labels\n",
    "plt.hist(np.sum(lda_labels, axis=1))\n",
    "plt.title('Number of LDA Labels per Game', fontsize=20)\n",
    "plt.ylabel('Number of Games', fontsize=20)\n",
    "plt.xlabel('Number of LDA labels', fontsize=20)\n",
    "plt.xticks(fontsize=12)\n",
    "plt.yticks(fontsize=12)"
   ]
  },
  {
   "cell_type": "markdown",
   "metadata": {},
   "source": [
    "## LSA(Latent Semantic Analysis)"
   ]
  },
  {
   "cell_type": "code",
   "execution_count": 176,
   "metadata": {},
   "outputs": [],
   "source": [
    "lsi = LsiModel(sparse_labels\n",
    "               , num_topics=20) # This sets the dimensionality we want\n",
    "\n",
    "vector = lsi[sparse_labels]"
   ]
  },
  {
   "cell_type": "code",
   "execution_count": 177,
   "metadata": {},
   "outputs": [],
   "source": [
    "unpacked_topics = []\n",
    "for topic in vector:\n",
    "    unpacked_topics.append(topic)"
   ]
  },
  {
   "cell_type": "code",
   "execution_count": 183,
   "metadata": {},
   "outputs": [
    {
     "data": {
      "text/plain": [
       "<BarContainer object of 20 artists>"
      ]
     },
     "execution_count": 183,
     "metadata": {},
     "output_type": "execute_result"
    },
    {
     "data": {
      "image/png": "[encoded data removed]",
      "text/plain": [
       "<Figure size 432x288 with 1 Axes>"
      ]
     },
     "metadata": {
      "needs_background": "light"
     },
     "output_type": "display_data"
    }
   ],
   "source": [
    "x = [tpl[0] for tpl in unpacked_topics[0]]\n",
    "y = [tpl[1] for tpl in unpacked_topics[0]]\n",
    "\n",
    "plt.bar(x=x, height=y)"
   ]
  },
  {
   "cell_type": "code",
   "execution_count": 184,
   "metadata": {},
   "outputs": [
    {
     "data": {
      "text/plain": [
       "<BarContainer object of 20 artists>"
      ]
     },
     "execution_count": 184,
     "metadata": {},
     "output_type": "execute_result"
    },
    {
     "data": {
      "image/png": "[encoded data removed]",
      "text/plain": [
       "<Figure size 432x288 with 1 Axes>"
      ]
     },
     "metadata": {
      "needs_background": "light"
     },
     "output_type": "display_data"
    }
   ],
   "source": [
    "x = [tpl[0] for tpl in unpacked_topics[1]]\n",
    "y = [tpl[1] for tpl in unpacked_topics[1]]\n",
    "\n",
    "plt.bar(x=x, height=y)"
   ]
  },
  {
   "cell_type": "code",
   "execution_count": 185,
   "metadata": {},
   "outputs": [
    {
     "data": {
      "text/plain": [
       "<BarContainer object of 20 artists>"
      ]
     },
     "execution_count": 185,
     "metadata": {},
     "output_type": "execute_result"
    },
    {
     "data": {
      "image/png": "[encoded data removed]",
      "text/plain": [
       "<Figure size 432x288 with 1 Axes>"
      ]
     },
     "metadata": {
      "needs_background": "light"
     },
     "output_type": "display_data"
    }
   ],
   "source": [
    "x = [tpl[0] for tpl in unpacked_topics[2]]\n",
    "y = [tpl[1] for tpl in unpacked_topics[2]]\n",
    "\n",
    "plt.bar(x=x, height=y)"
   ]
  },
  {
   "cell_type": "code",
   "execution_count": 186,
   "metadata": {},
   "outputs": [
    {
     "data": {
      "text/plain": [
       "<BarContainer object of 20 artists>"
      ]
     },
     "execution_count": 186,
     "metadata": {},
     "output_type": "execute_result"
    },
    {
     "data": {
      "image/png": "[encoded data removed]",
      "text/plain": [
       "<Figure size 432x288 with 1 Axes>"
      ]
     },
     "metadata": {
      "needs_background": "light"
     },
     "output_type": "display_data"
    }
   ],
   "source": [
    "x = [tpl[0] for tpl in unpacked_topics[3]]\n",
    "y = [tpl[1] for tpl in unpacked_topics[3]]\n",
    "\n",
    "plt.bar(x=x, height=y)"
   ]
  },
  {
   "cell_type": "code",
   "execution_count": 180,
   "metadata": {},
   "outputs": [
    {
     "data": {
      "text/plain": [
       "[(0, 0.6170664252322854),\n",
       " (1, -0.34703665326972744),\n",
       " (2, -1.6970238806495104),\n",
       " (3, 0.24334837581802027),\n",
       " (4, 0.307759472150887),\n",
       " (5, 0.16271267066459447),\n",
       " (6, -0.13236919368204517),\n",
       " (7, 0.31380301230132035),\n",
       " (8, 0.16112068911853822),\n",
       " (9, -0.07043144921385759),\n",
       " (10, 0.5572507253847757),\n",
       " (11, 0.6797817258165434),\n",
       " (12, 0.10267965461551251),\n",
       " (13, 0.12321747888782322),\n",
       " (14, 0.016518782709005447),\n",
       " (15, 0.17531544642139568),\n",
       " (16, 0.13171302944945665),\n",
       " (17, -0.12441682530268527),\n",
       " (18, -0.1819793109309722),\n",
       " (19, 0.2622614239908212)]"
      ]
     },
     "execution_count": 180,
     "metadata": {},
     "output_type": "execute_result"
    }
   ],
   "source": [
    "unpacked_topics[0]"
   ]
  },
  {
   "cell_type": "markdown",
   "metadata": {},
   "source": [
    "\n",
    "<div class=\"alert alert-warning\"> BELOW CODE IS NOT WORKING, NEED TO FIGURE OUT HEURISTIC FOR TRANSFORMING TO ONE-HOT ENCODING </div>\n"
   ]
  },
  {
   "cell_type": "code",
   "execution_count": 178,
   "metadata": {},
   "outputs": [
    {
     "data": {
      "text/plain": [
       "17146"
      ]
     },
     "execution_count": 178,
     "metadata": {},
     "output_type": "execute_result"
    }
   ],
   "source": [
    "len(unpacked_topics)"
   ]
  },
  {
   "cell_type": "code",
   "execution_count": 147,
   "metadata": {},
   "outputs": [],
   "source": [
    "max_prob = []\n",
    "\n",
    "for unpacked_topic_indx in range(len(unpacked_topics)): #\n",
    "    max_prob.append(sum([tpl[1] for tpl in unpacked_topics[unpacked_topic_indx]]))"
   ]
  },
  {
   "cell_type": "code",
   "execution_count": 150,
   "metadata": {},
   "outputs": [
    {
     "data": {
      "text/plain": [
       "(array([3.410e+02, 7.020e+02, 2.830e+02, 1.420e+02, 7.800e+01, 1.300e+01,\n",
       "        5.000e+00, 2.000e+00, 0.000e+00, 1.558e+04]),\n",
       " array([0.8416658 , 0.85749923, 0.87333266, 0.88916609, 0.90499952,\n",
       "        0.92083294, 0.93666637, 0.9524998 , 0.96833323, 0.98416666,\n",
       "        1.00000008]),\n",
       " <a list of 10 Patch objects>)"
      ]
     },
     "execution_count": 150,
     "metadata": {},
     "output_type": "execute_result"
    },
    {
     "data": {
      "image/png": "[encoded data removed]",
      "text/plain": [
       "<Figure size 432x288 with 1 Axes>"
      ]
     },
     "metadata": {
      "needs_background": "light"
     },
     "output_type": "display_data"
    }
   ],
   "source": [
    "plt.hist(max_prob)"
   ]
  },
  {
   "cell_type": "code",
   "execution_count": 167,
   "metadata": {},
   "outputs": [],
   "source": [
    "# Below we transform the LDA labels into a numpy array with 0s & 1s\n",
    "\n",
    "# Initializing new LDA labels\n",
    "lsi_labels = np.zeros((labels.shape[0], 20)); \n",
    "print(lsi_labels.shape)\n",
    "\n",
    "for unpacked_topic_idx in range(len(unpacked_topics)):\n",
    "    \n",
    "    mean_value = np.mean([tpl[1] for tpl in unpacked_topics[unpacked_topic_idx]])\n",
    "    \n",
    "    for tpl in unpacked_topics[unpacked_topic_idx]:\n",
    "        if tpl[1] >= mean_value:\n",
    "            lsi_labels[unpacked_topic_idx, tpl[0]] = 1\n",
    "    "
   ]
  },
  {
   "cell_type": "code",
   "execution_count": 175,
   "metadata": {},
   "outputs": [
    {
     "data": {
      "text/plain": [
       "(array([8498., 6610., 1868.,  170.]),\n",
       " array([1.  , 1.75, 2.5 , 3.25, 4.  ]),\n",
       " <a list of 4 Patch objects>)"
      ]
     },
     "execution_count": 175,
     "metadata": {},
     "output_type": "execute_result"
    },
    {
     "data": {
      "image/png": "[encoded data removed]",
      "text/plain": [
       "<Figure size 432x288 with 1 Axes>"
      ]
     },
     "metadata": {
      "needs_background": "light"
     },
     "output_type": "display_data"
    }
   ],
   "source": [
    "# It looks like most of the games now have 1, or 2 LDA labels\n",
    "plt.hist(np.sum(lda_labels, axis=1), bins=4)"
   ]
  },
  {
   "cell_type": "markdown",
   "metadata": {},
   "source": [
    "\n",
    "<div class=\"alert alert-warning\"> ABOVE CODE IS NOT WORKING, NEED TO FIGURE OUT HEURISTIC FOR TRANSFORMING TO ONE-HOT ENCODING </div>\n"
   ]
  },
  {
   "cell_type": "code",
   "execution_count": null,
   "metadata": {},
   "outputs": [],
   "source": []
  },
  {
   "cell_type": "code",
   "execution_count": null,
   "metadata": {},
   "outputs": [],
   "source": []
  },
  {
   "cell_type": "code",
   "execution_count": null,
   "metadata": {},
   "outputs": [],
   "source": []
  },
  {
   "cell_type": "code",
   "execution_count": null,
   "metadata": {},
   "outputs": [],
   "source": []
  },
  {
   "cell_type": "code",
   "execution_count": null,
   "metadata": {},
   "outputs": [],
   "source": []
  },
  {
   "cell_type": "code",
   "execution_count": null,
   "metadata": {},
   "outputs": [],
   "source": []
  },
  {
   "cell_type": "markdown",
   "metadata": {},
   "source": [
    "## Preparing features & labels"
   ]
  },
  {
   "cell_type": "code",
   "execution_count": 13,
   "metadata": {},
   "outputs": [],
   "source": [
    "# Need the tokenized descriptions as entire strings, not lists of tokens\n",
    "def stringify(description):\n",
    "    \n",
    "    return \" \".join(description)\n",
    "\n",
    "pool = multiprocessing.Pool(multiprocessing.cpu_count()) # \n",
    "\n",
    "preprocessed_description_strings = pool.map(stringify, tokenized_descriptions)\n",
    "\n",
    "pool.close()"
   ]
  },
  {
   "cell_type": "code",
   "execution_count": 14,
   "metadata": {},
   "outputs": [
    {
     "data": {
      "text/plain": [
       "'gloomhaven game euro inspired tactical combat persistent world shifting motives players take role wandering adventurer special set skills reasons traveling dark corner world players must work together necessity clear menacing dungeons forgotten ruins process enhance abilities experience loot discover new locations explore plunder expand ever branching story fueled decisions make game persistent changing world ideally played many game sessions scenario players make decisions determine story continues kind like choose adventure book playing scenario cooperative affair players fight automated monsters using innovative card system determine order play player turn turn player chooses two cards play hand number top card determines initiative round card also top bottom power player turn initiative order determine whether use top power one card bottom power vice versa players must careful though time permanently lose cards hands take long clear dungeon may end exhausted forced retreat'"
      ]
     },
     "execution_count": 14,
     "metadata": {},
     "output_type": "execute_result"
    }
   ],
   "source": [
    "# Example cleaned string\n",
    "preprocessed_description_strings[0]"
   ]
  },
  {
   "cell_type": "code",
   "execution_count": 19,
   "metadata": {},
   "outputs": [
    {
     "data": {
      "text/plain": [
       "<17146x2261 sparse matrix of type '<class 'numpy.int64'>'\n",
       "\twith 911393 stored elements in Compressed Sparse Row format>"
      ]
     },
     "execution_count": 19,
     "metadata": {},
     "output_type": "execute_result"
    }
   ],
   "source": [
    "# BOW unigrams\n",
    "count_vectorizer = CountVectorizer(lowercase=False, ngram_range =(1,1), max_df = .5, min_df = 100)\n",
    "unigram_bow_corpus = count_vectorizer.fit_transform(preprocessed_description_strings)\n",
    "unigram_bow_corpus"
   ]
  },
  {
   "cell_type": "code",
   "execution_count": 20,
   "metadata": {},
   "outputs": [
    {
     "data": {
      "text/plain": [
       "<17146x2773 sparse matrix of type '<class 'numpy.int64'>'\n",
       "\twith 1026904 stored elements in Compressed Sparse Row format>"
      ]
     },
     "execution_count": 20,
     "metadata": {},
     "output_type": "execute_result"
    }
   ],
   "source": [
    "# BOW unigrams & bigrams\n",
    "count_vectorizer = CountVectorizer(lowercase=False, ngram_range =(1,2), max_df = .5, min_df = 100)\n",
    "uni_and_bigram_bow_corpus = count_vectorizer.fit_transform(preprocessed_description_strings)\n",
    "uni_and_bigram_bow_corpus"
   ]
  },
  {
   "cell_type": "code",
   "execution_count": 21,
   "metadata": {},
   "outputs": [
    {
     "data": {
      "text/plain": [
       "<17146x2261 sparse matrix of type '<class 'numpy.float64'>'\n",
       "\twith 911393 stored elements in Compressed Sparse Row format>"
      ]
     },
     "execution_count": 21,
     "metadata": {},
     "output_type": "execute_result"
    }
   ],
   "source": [
    "# TFIDF unigrams\n",
    "tfidf_vectorizer = TfidfVectorizer(lowercase=False, ngram_range =(1,1), max_df = .5, min_df = 100)\n",
    "unigram_tfidf_corpus = tfidf_vectorizer.fit_transform(preprocessed_description_strings)\n",
    "unigram_tfidf_corpus"
   ]
  },
  {
   "cell_type": "code",
   "execution_count": 22,
   "metadata": {},
   "outputs": [
    {
     "data": {
      "text/plain": [
       "<17146x2773 sparse matrix of type '<class 'numpy.float64'>'\n",
       "\twith 1026904 stored elements in Compressed Sparse Row format>"
      ]
     },
     "execution_count": 22,
     "metadata": {},
     "output_type": "execute_result"
    }
   ],
   "source": [
    "# TFIDF unigrams and bigrams\n",
    "tfidf_vectorizer = TfidfVectorizer(lowercase=False, ngram_range =(1,2), max_df = .5, min_df = 100)\n",
    "uni_and_bigram_tfidf_corpus = tfidf_vectorizer.fit_transform(preprocessed_description_strings)\n",
    "uni_and_bigram_tfidf_corpus"
   ]
  },
  {
   "cell_type": "markdown",
   "metadata": {},
   "source": [
    "## Train_Test Split"
   ]
  },
  {
   "cell_type": "markdown",
   "metadata": {},
   "source": [
    "\n",
    "<div class=\"alert alert-warning\">NOTE: CURRENTLY JUST EXPERIMENTING WITH unigram_bow_corpus </div>\n"
   ]
  },
  {
   "cell_type": "code",
   "execution_count": 122,
   "metadata": {},
   "outputs": [
    {
     "name": "stdout",
     "output_type": "stream",
     "text": [
      "TRAINING DATA\n",
      "FEATURES  (13716, 2261)\n",
      "LABELS  (13716, 83)\n",
      "TEST DATA\n",
      "FEATURES  (3430, 2261)\n",
      "LABELS  (3430, 83)\n"
     ]
    }
   ],
   "source": [
    "indices = range(df.shape[0])\n",
    "\n",
    "train_indices, test_indices = train_test_split(indices, random_state=42, test_size=0.2, shuffle=True)\n",
    "\n",
    "X_train = unigram_bow_corpus[train_indices]\n",
    "y_train = labels.iloc[train_indices, :]\n",
    "\n",
    "X_test = unigram_bow_corpus[test_indices]\n",
    "y_test = labels.iloc[test_indices, :]\n",
    "\n",
    "print('TRAINING DATA')\n",
    "print('FEATURES ', X_train.shape)\n",
    "print('LABELS ', y_train.shape)\n",
    "\n",
    "print('TEST DATA')\n",
    "print('FEATURES ',X_test.shape)\n",
    "print('LABELS ', y_test.shape)"
   ]
  },
  {
   "cell_type": "markdown",
   "metadata": {},
   "source": [
    "# Modelling"
   ]
  },
  {
   "cell_type": "markdown",
   "metadata": {},
   "source": [
    "## RANDOM - FORESTS"
   ]
  },
  {
   "cell_type": "code",
   "execution_count": 169,
   "metadata": {},
   "outputs": [
    {
     "data": {
      "text/plain": [
       "RandomForestClassifier(random_state=42)"
      ]
     },
     "execution_count": 169,
     "metadata": {},
     "output_type": "execute_result"
    }
   ],
   "source": [
    "rf = RandomForestClassifier(random_state=42)\n",
    "rf.fit(X_train, y_train)"
   ]
  },
  {
   "cell_type": "markdown",
   "metadata": {},
   "source": [
    "\n",
    "<div class=\"alert alert-success\">NOTE: Much faster with n_jobs = -1 </div>\n"
   ]
  },
  {
   "cell_type": "code",
   "execution_count": 171,
   "metadata": {},
   "outputs": [
    {
     "name": "stdout",
     "output_type": "stream",
     "text": [
      "CPU times: user 1min 8s, sys: 1.12 s, total: 1min 9s\n",
      "Wall time: 1min 9s\n"
     ]
    },
    {
     "data": {
      "text/plain": [
       "RandomForestClassifier(random_state=42)"
      ]
     },
     "execution_count": 171,
     "metadata": {},
     "output_type": "execute_result"
    }
   ],
   "source": [
    "%%time\n",
    "rf = RandomForestClassifier(random_state=42)\n",
    "rf.fit(X_train, y_train)"
   ]
  },
  {
   "cell_type": "code",
   "execution_count": 172,
   "metadata": {},
   "outputs": [
    {
     "name": "stdout",
     "output_type": "stream",
     "text": [
      "CPU times: user 2min 23s, sys: 4.14 s, total: 2min 27s\n",
      "Wall time: 14.5 s\n"
     ]
    },
    {
     "data": {
      "text/plain": [
       "RandomForestClassifier(n_jobs=-1, random_state=42)"
      ]
     },
     "execution_count": 172,
     "metadata": {},
     "output_type": "execute_result"
    }
   ],
   "source": [
    "%%time\n",
    "rf = RandomForestClassifier(random_state=42\n",
    "                            , n_jobs = -1)\n",
    "rf.fit(X_train, y_train)"
   ]
  },
  {
   "cell_type": "markdown",
   "metadata": {},
   "source": [
    "## RandomCV Search"
   ]
  },
  {
   "cell_type": "code",
   "execution_count": 202,
   "metadata": {},
   "outputs": [],
   "source": [
    "rf_dict = {'n_estimators': [70, 100, 150, 200]\n",
    "           , 'max_depth': [None, 2,5,10]\n",
    "           , 'ccp_alpha': [0, .01, .1]\n",
    "          }"
   ]
  },
  {
   "cell_type": "code",
   "execution_count": 203,
   "metadata": {},
   "outputs": [
    {
     "data": {
      "text/plain": [
       "<sklearn.model_selection._search.ParameterGrid at 0x7fc8b7f7c990>"
      ]
     },
     "execution_count": 203,
     "metadata": {},
     "output_type": "execute_result"
    }
   ],
   "source": [
    "param_grid = ParameterGrid(rf_dict);param_grid"
   ]
  },
  {
   "cell_type": "code",
   "execution_count": 204,
   "metadata": {},
   "outputs": [],
   "source": [
    "rf = RandomForestClassifier(random_state=42\n",
    "                            , n_jobs = -1\n",
    "                            , verbose = 1\n",
    "                           )\n",
    "\n",
    "# Converts the metric function - jaccard_score - into something that RandomizedSearchCV can use to evaluate a given model\n",
    "jaccard_scorer = make_scorer(jaccard_score, average='micro')\n",
    "\n",
    "best_rf = RandomizedSearchCV(rf\n",
    "                             , rf_dict\n",
    "                             , n_iter=10\n",
    "                             , n_jobs = -1\n",
    "                             , cv=3\n",
    "                             , scoring=jaccard_scorer)\n",
    "\n"
   ]
  },
  {
   "cell_type": "markdown",
   "metadata": {},
   "source": [
    "## BOW - UNIGRAM CORPUS"
   ]
  },
  {
   "cell_type": "code",
   "execution_count": 205,
   "metadata": {},
   "outputs": [
    {
     "name": "stderr",
     "output_type": "stream",
     "text": [
      "[Parallel(n_jobs=-1)]: Using backend ThreadingBackend with 12 concurrent workers.\n",
      "[Parallel(n_jobs=-1)]: Done  26 tasks      | elapsed:    8.8s\n",
      "[Parallel(n_jobs=-1)]: Done 150 out of 150 | elapsed:   39.9s finished\n"
     ]
    },
    {
     "data": {
      "text/plain": [
       "RandomizedSearchCV(cv=3,\n",
       "                   estimator=RandomForestClassifier(n_jobs=-1, random_state=42,\n",
       "                                                    verbose=1),\n",
       "                   n_jobs=-1,\n",
       "                   param_distributions={'ccp_alpha': [0, 0.01, 0.1],\n",
       "                                        'max_depth': [None, 2, 5, 10],\n",
       "                                        'n_estimators': [70, 100, 150, 200]},\n",
       "                   scoring=make_scorer(jaccard_score, average=micro))"
      ]
     },
     "execution_count": 205,
     "metadata": {},
     "output_type": "execute_result"
    }
   ],
   "source": [
    "best_rf.fit(unigram_bow_corpus, labels)"
   ]
  },
  {
   "cell_type": "code",
   "execution_count": 210,
   "metadata": {},
   "outputs": [
    {
     "data": {
      "text/plain": [
       "{'n_estimators': 150, 'max_depth': None, 'ccp_alpha': 0}"
      ]
     },
     "execution_count": 210,
     "metadata": {},
     "output_type": "execute_result"
    }
   ],
   "source": [
    "# Best Random Forest Parameters\n",
    "best_rf.best_params_ # {'n_estimators': 150, 'max_depth': None, 'ccp_alpha': 0}"
   ]
  },
  {
   "cell_type": "code",
   "execution_count": 220,
   "metadata": {},
   "outputs": [
    {
     "data": {
      "text/plain": [
       "0.1917938689619385"
      ]
     },
     "execution_count": 220,
     "metadata": {},
     "output_type": "execute_result"
    }
   ],
   "source": [
    "# Top score\n",
    "best_rf.best_score_"
   ]
  },
  {
   "cell_type": "markdown",
   "metadata": {},
   "source": [
    "### The different parameter values that were tried and the corresponding results"
   ]
  },
  {
   "cell_type": "code",
   "execution_count": 216,
   "metadata": {},
   "outputs": [
    {
     "data": {
      "text/plain": [
       "array([0.00252974, 0.        , 0.        , 0.1915055 , 0.        ,\n",
       "       0.02180457, 0.        , 0.19179387, 0.02196535, 0.        ])"
      ]
     },
     "execution_count": 216,
     "metadata": {},
     "output_type": "execute_result"
    }
   ],
   "source": [
    "# These are the average scores over the 10 iterations (average over the 3 CV folds within a given iteration)\n",
    "best_rf.cv_results_['mean_test_score']"
   ]
  },
  {
   "cell_type": "code",
   "execution_count": 218,
   "metadata": {},
   "outputs": [
    {
     "data": {
      "text/plain": [
       "masked_array(data=[2, None, 10, None, 2, 5, 10, None, 5, None],\n",
       "             mask=[False, False, False, False, False, False, False, False,\n",
       "                   False, False],\n",
       "       fill_value='?',\n",
       "            dtype=object)"
      ]
     },
     "execution_count": 218,
     "metadata": {},
     "output_type": "execute_result"
    }
   ],
   "source": [
    "best_rf.cv_results_['param_max_depth']"
   ]
  },
  {
   "cell_type": "code",
   "execution_count": 223,
   "metadata": {},
   "outputs": [
    {
     "data": {
      "text/plain": [
       "masked_array(data=[150, 70, 70, 200, 100, 150, 100, 150, 100, 200],\n",
       "             mask=[False, False, False, False, False, False, False, False,\n",
       "                   False, False],\n",
       "       fill_value='?',\n",
       "            dtype=object)"
      ]
     },
     "execution_count": 223,
     "metadata": {},
     "output_type": "execute_result"
    }
   ],
   "source": [
    "best_rf.cv_results_['param_n_estimators']"
   ]
  },
  {
   "cell_type": "code",
   "execution_count": 224,
   "metadata": {},
   "outputs": [
    {
     "data": {
      "text/plain": [
       "masked_array(data=[0, 0.1, 0.01, 0, 0.01, 0, 0.1, 0, 0, 0.1],\n",
       "             mask=[False, False, False, False, False, False, False, False,\n",
       "                   False, False],\n",
       "       fill_value='?',\n",
       "            dtype=object)"
      ]
     },
     "execution_count": 224,
     "metadata": {},
     "output_type": "execute_result"
    }
   ],
   "source": [
    "best_rf.cv_results_['param_ccp_alpha']"
   ]
  },
  {
   "cell_type": "markdown",
   "metadata": {},
   "source": [
    "## BOW - UNIGRAM + BIGRAM"
   ]
  },
  {
   "cell_type": "code",
   "execution_count": 225,
   "metadata": {},
   "outputs": [
    {
     "name": "stderr",
     "output_type": "stream",
     "text": [
      "[Parallel(n_jobs=-1)]: Using backend ThreadingBackend with 12 concurrent workers.\n",
      "[Parallel(n_jobs=-1)]: Done  26 tasks      | elapsed:    2.6s\n",
      "[Parallel(n_jobs=-1)]: Done 150 out of 150 | elapsed:   10.3s finished\n"
     ]
    },
    {
     "data": {
      "text/plain": [
       "RandomizedSearchCV(cv=3,\n",
       "                   estimator=RandomForestClassifier(n_jobs=-1, random_state=42,\n",
       "                                                    verbose=1),\n",
       "                   n_jobs=-1,\n",
       "                   param_distributions={'ccp_alpha': [0, 0.01, 0.1],\n",
       "                                        'max_depth': [None, 2, 5, 10],\n",
       "                                        'n_estimators': [70, 100, 150, 200]},\n",
       "                   scoring=make_scorer(jaccard_score, average=micro))"
      ]
     },
     "execution_count": 225,
     "metadata": {},
     "output_type": "execute_result"
    }
   ],
   "source": [
    "best_rf.fit(uni_and_bigram_bow_corpus, labels)"
   ]
  },
  {
   "cell_type": "code",
   "execution_count": 228,
   "metadata": {},
   "outputs": [
    {
     "data": {
      "text/plain": [
       "{'n_estimators': 150, 'max_depth': 10, 'ccp_alpha': 0}"
      ]
     },
     "execution_count": 228,
     "metadata": {},
     "output_type": "execute_result"
    }
   ],
   "source": [
    "# Best Random Forest Parameters\n",
    "best_rf.best_params_"
   ]
  },
  {
   "cell_type": "code",
   "execution_count": 227,
   "metadata": {},
   "outputs": [
    {
     "data": {
      "text/plain": [
       "0.06529360773901653"
      ]
     },
     "execution_count": 227,
     "metadata": {},
     "output_type": "execute_result"
    }
   ],
   "source": [
    "# Top score\n",
    "best_rf.best_score_"
   ]
  },
  {
   "cell_type": "markdown",
   "metadata": {},
   "source": [
    "## TFIDF - Unigram_tfidf_corpus"
   ]
  },
  {
   "cell_type": "code",
   "execution_count": 229,
   "metadata": {},
   "outputs": [
    {
     "name": "stderr",
     "output_type": "stream",
     "text": [
      "[Parallel(n_jobs=-1)]: Using backend ThreadingBackend with 12 concurrent workers.\n",
      "[Parallel(n_jobs=-1)]: Done  26 tasks      | elapsed:   12.2s\n",
      "[Parallel(n_jobs=-1)]: Done 150 out of 150 | elapsed:   57.0s finished\n"
     ]
    },
    {
     "data": {
      "text/plain": [
       "RandomizedSearchCV(cv=3,\n",
       "                   estimator=RandomForestClassifier(n_jobs=-1, random_state=42,\n",
       "                                                    verbose=1),\n",
       "                   n_jobs=-1,\n",
       "                   param_distributions={'ccp_alpha': [0, 0.01, 0.1],\n",
       "                                        'max_depth': [None, 2, 5, 10],\n",
       "                                        'n_estimators': [70, 100, 150, 200]},\n",
       "                   scoring=make_scorer(jaccard_score, average=micro))"
      ]
     },
     "execution_count": 229,
     "metadata": {},
     "output_type": "execute_result"
    }
   ],
   "source": [
    "best_rf.fit(unigram_tfidf_corpus , labels)"
   ]
  },
  {
   "cell_type": "code",
   "execution_count": 230,
   "metadata": {},
   "outputs": [
    {
     "data": {
      "text/plain": [
       "{'n_estimators': 150, 'max_depth': None, 'ccp_alpha': 0}"
      ]
     },
     "execution_count": 230,
     "metadata": {},
     "output_type": "execute_result"
    }
   ],
   "source": [
    "# Best Random Forest Parameters\n",
    "best_rf.best_params_"
   ]
  },
  {
   "cell_type": "code",
   "execution_count": 231,
   "metadata": {},
   "outputs": [
    {
     "data": {
      "text/plain": [
       "0.19125782241746278"
      ]
     },
     "execution_count": 231,
     "metadata": {},
     "output_type": "execute_result"
    }
   ],
   "source": [
    "# Top score\n",
    "best_rf.best_score_"
   ]
  },
  {
   "cell_type": "markdown",
   "metadata": {},
   "source": [
    "## TFIDF - UNIGRAM + BIGRAM"
   ]
  },
  {
   "cell_type": "code",
   "execution_count": 232,
   "metadata": {},
   "outputs": [
    {
     "name": "stderr",
     "output_type": "stream",
     "text": [
      "[Parallel(n_jobs=-1)]: Using backend ThreadingBackend with 12 concurrent workers.\n",
      "[Parallel(n_jobs=-1)]: Done  26 tasks      | elapsed:    1.9s\n",
      "[Parallel(n_jobs=-1)]: Done 100 out of 100 | elapsed:    5.3s finished\n"
     ]
    },
    {
     "data": {
      "text/plain": [
       "RandomizedSearchCV(cv=3,\n",
       "                   estimator=RandomForestClassifier(n_jobs=-1, random_state=42,\n",
       "                                                    verbose=1),\n",
       "                   n_jobs=-1,\n",
       "                   param_distributions={'ccp_alpha': [0, 0.01, 0.1],\n",
       "                                        'max_depth': [None, 2, 5, 10],\n",
       "                                        'n_estimators': [70, 100, 150, 200]},\n",
       "                   scoring=make_scorer(jaccard_score, average=micro))"
      ]
     },
     "execution_count": 232,
     "metadata": {},
     "output_type": "execute_result"
    }
   ],
   "source": [
    "best_rf.fit(uni_and_bigram_tfidf_corpus, labels)"
   ]
  },
  {
   "cell_type": "code",
   "execution_count": 233,
   "metadata": {},
   "outputs": [
    {
     "data": {
      "text/plain": [
       "{'n_estimators': 100, 'max_depth': 10, 'ccp_alpha': 0}"
      ]
     },
     "execution_count": 233,
     "metadata": {},
     "output_type": "execute_result"
    }
   ],
   "source": [
    "# Best Random Forest Parameters\n",
    "best_rf.best_params_"
   ]
  },
  {
   "cell_type": "code",
   "execution_count": 234,
   "metadata": {},
   "outputs": [
    {
     "data": {
      "text/plain": [
       "0.06368836514927444"
      ]
     },
     "execution_count": 234,
     "metadata": {},
     "output_type": "execute_result"
    }
   ],
   "source": [
    "# Top score\n",
    "best_rf.best_score_"
   ]
  },
  {
   "cell_type": "markdown",
   "metadata": {},
   "source": [
    "\n",
    "<div class=\"alert alert-success\">It appears that max_depth = None with ccp_alpha=0 is best, but could potentially do with more n_estimators </div>\n"
   ]
  },
  {
   "cell_type": "markdown",
   "metadata": {},
   "source": [
    "### Checking just n_estimators"
   ]
  },
  {
   "cell_type": "code",
   "execution_count": 235,
   "metadata": {},
   "outputs": [],
   "source": [
    "rf_dict = {'n_estimators': [130, 150, 170, 200, 230]\n",
    "          }"
   ]
  },
  {
   "cell_type": "code",
   "execution_count": 236,
   "metadata": {},
   "outputs": [],
   "source": [
    "rf = RandomForestClassifier(random_state=42\n",
    "                            , n_jobs = -1\n",
    "                            , verbose = 1\n",
    "                           )\n",
    "\n",
    "# Converts the metric function - jaccard_score - into something that RandomizedSearchCV can use to evaluate a given model\n",
    "jaccard_scorer = make_scorer(jaccard_score, average='micro')\n",
    "\n",
    "best_rf = RandomizedSearchCV(rf\n",
    "                             , rf_dict\n",
    "                             , n_iter=5\n",
    "                             , n_jobs = -1\n",
    "                             , cv=3\n",
    "                             , scoring=jaccard_scorer)\n",
    "\n"
   ]
  },
  {
   "cell_type": "markdown",
   "metadata": {},
   "source": [
    "## BOW - UNIGRAM CORPUS"
   ]
  },
  {
   "cell_type": "code",
   "execution_count": 237,
   "metadata": {},
   "outputs": [
    {
     "name": "stderr",
     "output_type": "stream",
     "text": [
      "[Parallel(n_jobs=-1)]: Using backend ThreadingBackend with 12 concurrent workers.\n",
      "[Parallel(n_jobs=-1)]: Done  26 tasks      | elapsed:   11.2s\n",
      "[Parallel(n_jobs=-1)]: Done 150 out of 150 | elapsed:   50.2s finished\n"
     ]
    },
    {
     "data": {
      "text/plain": [
       "RandomizedSearchCV(cv=3,\n",
       "                   estimator=RandomForestClassifier(n_jobs=-1, random_state=42,\n",
       "                                                    verbose=1),\n",
       "                   n_iter=5, n_jobs=-1,\n",
       "                   param_distributions={'n_estimators': [130, 150, 170, 200,\n",
       "                                                         230]},\n",
       "                   scoring=make_scorer(jaccard_score, average=micro))"
      ]
     },
     "execution_count": 237,
     "metadata": {},
     "output_type": "execute_result"
    }
   ],
   "source": [
    "best_rf.fit(unigram_bow_corpus, labels)"
   ]
  },
  {
   "cell_type": "code",
   "execution_count": 238,
   "metadata": {},
   "outputs": [
    {
     "data": {
      "text/plain": [
       "{'n_estimators': 150}"
      ]
     },
     "execution_count": 238,
     "metadata": {},
     "output_type": "execute_result"
    }
   ],
   "source": [
    "# Best Random Forest Parameters\n",
    "best_rf.best_params_ "
   ]
  },
  {
   "cell_type": "code",
   "execution_count": 239,
   "metadata": {},
   "outputs": [
    {
     "data": {
      "text/plain": [
       "0.1917938689619385"
      ]
     },
     "execution_count": 239,
     "metadata": {},
     "output_type": "execute_result"
    }
   ],
   "source": [
    "# Top score\n",
    "best_rf.best_score_"
   ]
  },
  {
   "cell_type": "markdown",
   "metadata": {},
   "source": [
    "## BOW - UNIGRAM + BIGRAM"
   ]
  },
  {
   "cell_type": "code",
   "execution_count": 240,
   "metadata": {},
   "outputs": [
    {
     "name": "stderr",
     "output_type": "stream",
     "text": [
      "[Parallel(n_jobs=-1)]: Using backend ThreadingBackend with 12 concurrent workers.\n",
      "[Parallel(n_jobs=-1)]: Done  26 tasks      | elapsed:    8.4s\n",
      "[Parallel(n_jobs=-1)]: Done 176 tasks      | elapsed:   51.9s\n",
      "[Parallel(n_jobs=-1)]: Done 230 out of 230 | elapsed:  1.1min finished\n"
     ]
    },
    {
     "data": {
      "text/plain": [
       "RandomizedSearchCV(cv=3,\n",
       "                   estimator=RandomForestClassifier(n_jobs=-1, random_state=42,\n",
       "                                                    verbose=1),\n",
       "                   n_iter=5, n_jobs=-1,\n",
       "                   param_distributions={'n_estimators': [130, 150, 170, 200,\n",
       "                                                         230]},\n",
       "                   scoring=make_scorer(jaccard_score, average=micro))"
      ]
     },
     "execution_count": 240,
     "metadata": {},
     "output_type": "execute_result"
    }
   ],
   "source": [
    "best_rf.fit(uni_and_bigram_bow_corpus, labels)"
   ]
  },
  {
   "cell_type": "code",
   "execution_count": 241,
   "metadata": {},
   "outputs": [
    {
     "data": {
      "text/plain": [
       "{'n_estimators': 230}"
      ]
     },
     "execution_count": 241,
     "metadata": {},
     "output_type": "execute_result"
    }
   ],
   "source": [
    "# Best Random Forest Parameters\n",
    "best_rf.best_params_"
   ]
  },
  {
   "cell_type": "code",
   "execution_count": 242,
   "metadata": {},
   "outputs": [
    {
     "data": {
      "text/plain": [
       "0.19338024490508335"
      ]
     },
     "execution_count": 242,
     "metadata": {},
     "output_type": "execute_result"
    }
   ],
   "source": [
    "# Top score\n",
    "best_rf.best_score_"
   ]
  },
  {
   "cell_type": "markdown",
   "metadata": {},
   "source": [
    "## TFIDF - Unigram_tfidf_corpus"
   ]
  },
  {
   "cell_type": "code",
   "execution_count": 243,
   "metadata": {},
   "outputs": [
    {
     "name": "stderr",
     "output_type": "stream",
     "text": [
      "[Parallel(n_jobs=-1)]: Using backend ThreadingBackend with 12 concurrent workers.\n",
      "[Parallel(n_jobs=-1)]: Done  26 tasks      | elapsed:   10.5s\n",
      "[Parallel(n_jobs=-1)]: Done 150 out of 150 | elapsed:   48.2s finished\n"
     ]
    },
    {
     "data": {
      "text/plain": [
       "RandomizedSearchCV(cv=3,\n",
       "                   estimator=RandomForestClassifier(n_jobs=-1, random_state=42,\n",
       "                                                    verbose=1),\n",
       "                   n_iter=5, n_jobs=-1,\n",
       "                   param_distributions={'n_estimators': [130, 150, 170, 200,\n",
       "                                                         230]},\n",
       "                   scoring=make_scorer(jaccard_score, average=micro))"
      ]
     },
     "execution_count": 243,
     "metadata": {},
     "output_type": "execute_result"
    }
   ],
   "source": [
    "best_rf.fit(unigram_tfidf_corpus , labels)"
   ]
  },
  {
   "cell_type": "code",
   "execution_count": 244,
   "metadata": {},
   "outputs": [
    {
     "data": {
      "text/plain": [
       "{'n_estimators': 150}"
      ]
     },
     "execution_count": 244,
     "metadata": {},
     "output_type": "execute_result"
    }
   ],
   "source": [
    "# Best Random Forest Parameters\n",
    "best_rf.best_params_"
   ]
  },
  {
   "cell_type": "code",
   "execution_count": 245,
   "metadata": {},
   "outputs": [
    {
     "data": {
      "text/plain": [
       "0.19125782241746278"
      ]
     },
     "execution_count": 245,
     "metadata": {},
     "output_type": "execute_result"
    }
   ],
   "source": [
    "# Top score\n",
    "best_rf.best_score_"
   ]
  },
  {
   "cell_type": "markdown",
   "metadata": {},
   "source": [
    "## TFIDF - UNIGRAM + BIGRAM"
   ]
  },
  {
   "cell_type": "code",
   "execution_count": 246,
   "metadata": {},
   "outputs": [
    {
     "name": "stderr",
     "output_type": "stream",
     "text": [
      "[Parallel(n_jobs=-1)]: Using backend ThreadingBackend with 12 concurrent workers.\n",
      "[Parallel(n_jobs=-1)]: Done  26 tasks      | elapsed:    9.9s\n",
      "[Parallel(n_jobs=-1)]: Done 176 tasks      | elapsed:  1.0min\n",
      "[Parallel(n_jobs=-1)]: Done 230 out of 230 | elapsed:  1.3min finished\n"
     ]
    },
    {
     "data": {
      "text/plain": [
       "RandomizedSearchCV(cv=3,\n",
       "                   estimator=RandomForestClassifier(n_jobs=-1, random_state=42,\n",
       "                                                    verbose=1),\n",
       "                   n_iter=5, n_jobs=-1,\n",
       "                   param_distributions={'n_estimators': [130, 150, 170, 200,\n",
       "                                                         230]},\n",
       "                   scoring=make_scorer(jaccard_score, average=micro))"
      ]
     },
     "execution_count": 246,
     "metadata": {},
     "output_type": "execute_result"
    }
   ],
   "source": [
    "best_rf.fit(uni_and_bigram_tfidf_corpus, labels)"
   ]
  },
  {
   "cell_type": "code",
   "execution_count": 247,
   "metadata": {},
   "outputs": [
    {
     "data": {
      "text/plain": [
       "{'n_estimators': 230}"
      ]
     },
     "execution_count": 247,
     "metadata": {},
     "output_type": "execute_result"
    }
   ],
   "source": [
    "# Best Random Forest Parameters\n",
    "best_rf.best_params_"
   ]
  },
  {
   "cell_type": "code",
   "execution_count": 248,
   "metadata": {},
   "outputs": [
    {
     "data": {
      "text/plain": [
       "0.19480018667613816"
      ]
     },
     "execution_count": 248,
     "metadata": {},
     "output_type": "execute_result"
    }
   ],
   "source": [
    "# Top score\n",
    "best_rf.best_score_"
   ]
  },
  {
   "cell_type": "markdown",
   "metadata": {},
   "source": [
    "\n",
    "<div class=\"alert alert-success\">It appears that n_estimators=150 is best for the unigram corpuses, but n_estimators=230 (or potentially larger) for the uni+bigram corpuses </div>\n"
   ]
  },
  {
   "cell_type": "markdown",
   "metadata": {},
   "source": [
    "\n",
    "<div class=\"alert alert-success\">Also, the Jaccard Score appears to be a bit better on the uni+bigram corpus, but only a little bit </div>\n"
   ]
  },
  {
   "cell_type": "markdown",
   "metadata": {},
   "source": [
    "# Logistic Regression"
   ]
  },
  {
   "cell_type": "markdown",
   "metadata": {},
   "source": [
    "### Single Estimator in OVR"
   ]
  },
  {
   "cell_type": "code",
   "execution_count": 12,
   "metadata": {},
   "outputs": [],
   "source": [
    "# Single iteration\n",
    "lr = LogisticRegression(max_iter=1000)\n",
    "ovr = OneVsRestClassifier(lr).fit(X_train, y_train)"
   ]
  },
  {
   "cell_type": "code",
   "execution_count": 13,
   "metadata": {},
   "outputs": [
    {
     "data": {
      "text/plain": [
       "0.13294460641399417"
      ]
     },
     "execution_count": 13,
     "metadata": {},
     "output_type": "execute_result"
    }
   ],
   "source": [
    "ovr.score(X_test, y_test)"
   ]
  },
  {
   "cell_type": "code",
   "execution_count": 14,
   "metadata": {},
   "outputs": [],
   "source": [
    "y_pred_lr_ovr = ovr.predict(X_test)"
   ]
  },
  {
   "cell_type": "code",
   "execution_count": 15,
   "metadata": {},
   "outputs": [
    {
     "data": {
      "text/plain": [
       "0.35095874491574663"
      ]
     },
     "execution_count": 15,
     "metadata": {},
     "output_type": "execute_result"
    }
   ],
   "source": [
    "jaccard_score(y_test, y_pred_lr_ovr, average='micro')"
   ]
  },
  {
   "cell_type": "markdown",
   "metadata": {},
   "source": [
    "### OVR inside RandomizedSearchCV"
   ]
  },
  {
   "cell_type": "code",
   "execution_count": 23,
   "metadata": {},
   "outputs": [],
   "source": [
    "lr_dict = {'estimator__C': [2,1,.5,.1,.01,0]} # For clarification why there is \"estimator__\", see this SO post: https://stackoverflow.com/questions/12632992/gridsearch-for-an-estimator-inside-a-onevsrestclassifier\n",
    "\n",
    "lr = LogisticRegression( #n_jobs = -1\n",
    "                        random_state = 42\n",
    "                        , verbose = 0\n",
    "                        , max_iter = 1000)\n",
    "\n",
    "ovr = OneVsRestClassifier(lr) #, n_jobs = -1\n",
    "\n",
    "# Converts the metric function - jaccard_score - into something that RandomizedSearchCV can use to evaluate a given model\n",
    "jaccard_scorer = make_scorer(jaccard_score, average='micro')\n",
    "\n",
    "best_lr_ovr = RandomizedSearchCV(ovr\n",
    "                             , lr_dict\n",
    "                             , n_iter=5\n",
    "#                              , n_jobs = -1\n",
    "                             , cv=3\n",
    "                             , scoring=jaccard_scorer)"
   ]
  },
  {
   "cell_type": "markdown",
   "metadata": {},
   "source": [
    "#### BOW UNIGRAM CORPUS"
   ]
  },
  {
   "cell_type": "code",
   "execution_count": 24,
   "metadata": {},
   "outputs": [
    {
     "name": "stderr",
     "output_type": "stream",
     "text": [
      "/Users/kristiyan/opt/anaconda3/lib/python3.7/site-packages/sklearn/model_selection/_validation.py:552: FitFailedWarning: Estimator fit failed. The score on this train-test partition for these parameters will be set to nan. Details: \n",
      "Traceback (most recent call last):\n",
      "  File \"/Users/kristiyan/opt/anaconda3/lib/python3.7/site-packages/sklearn/model_selection/_validation.py\", line 531, in _fit_and_score\n",
      "    estimator.fit(X_train, y_train, **fit_params)\n",
      "  File \"/Users/kristiyan/opt/anaconda3/lib/python3.7/site-packages/sklearn/multiclass.py\", line 245, in fit\n",
      "    for i, column in enumerate(columns))\n",
      "  File \"/Users/kristiyan/opt/anaconda3/lib/python3.7/site-packages/joblib/parallel.py\", line 1029, in __call__\n",
      "    if self.dispatch_one_batch(iterator):\n",
      "  File \"/Users/kristiyan/opt/anaconda3/lib/python3.7/site-packages/joblib/parallel.py\", line 847, in dispatch_one_batch\n",
      "    self._dispatch(tasks)\n",
      "  File \"/Users/kristiyan/opt/anaconda3/lib/python3.7/site-packages/joblib/parallel.py\", line 765, in _dispatch\n",
      "    job = self._backend.apply_async(batch, callback=cb)\n",
      "  File \"/Users/kristiyan/opt/anaconda3/lib/python3.7/site-packages/joblib/_parallel_backends.py\", line 206, in apply_async\n",
      "    result = ImmediateResult(func)\n",
      "  File \"/Users/kristiyan/opt/anaconda3/lib/python3.7/site-packages/joblib/_parallel_backends.py\", line 570, in __init__\n",
      "    self.results = batch()\n",
      "  File \"/Users/kristiyan/opt/anaconda3/lib/python3.7/site-packages/joblib/parallel.py\", line 253, in __call__\n",
      "    for func, args, kwargs in self.items]\n",
      "  File \"/Users/kristiyan/opt/anaconda3/lib/python3.7/site-packages/joblib/parallel.py\", line 253, in <listcomp>\n",
      "    for func, args, kwargs in self.items]\n",
      "  File \"/Users/kristiyan/opt/anaconda3/lib/python3.7/site-packages/sklearn/multiclass.py\", line 81, in _fit_binary\n",
      "    estimator.fit(X, y)\n",
      "  File \"/Users/kristiyan/opt/anaconda3/lib/python3.7/site-packages/sklearn/linear_model/_logistic.py\", line 1417, in fit\n",
      "    for class_, warm_start_coef_ in zip(classes_, warm_start_coef))\n",
      "  File \"/Users/kristiyan/opt/anaconda3/lib/python3.7/site-packages/joblib/parallel.py\", line 1029, in __call__\n",
      "    if self.dispatch_one_batch(iterator):\n",
      "  File \"/Users/kristiyan/opt/anaconda3/lib/python3.7/site-packages/joblib/parallel.py\", line 847, in dispatch_one_batch\n",
      "    self._dispatch(tasks)\n",
      "  File \"/Users/kristiyan/opt/anaconda3/lib/python3.7/site-packages/joblib/parallel.py\", line 765, in _dispatch\n",
      "    job = self._backend.apply_async(batch, callback=cb)\n",
      "  File \"/Users/kristiyan/opt/anaconda3/lib/python3.7/site-packages/joblib/_parallel_backends.py\", line 206, in apply_async\n",
      "    result = ImmediateResult(func)\n",
      "  File \"/Users/kristiyan/opt/anaconda3/lib/python3.7/site-packages/joblib/_parallel_backends.py\", line 570, in __init__\n",
      "    self.results = batch()\n",
      "  File \"/Users/kristiyan/opt/anaconda3/lib/python3.7/site-packages/joblib/parallel.py\", line 253, in __call__\n",
      "    for func, args, kwargs in self.items]\n",
      "  File \"/Users/kristiyan/opt/anaconda3/lib/python3.7/site-packages/joblib/parallel.py\", line 253, in <listcomp>\n",
      "    for func, args, kwargs in self.items]\n",
      "  File \"/Users/kristiyan/opt/anaconda3/lib/python3.7/site-packages/sklearn/linear_model/_logistic.py\", line 759, in _logistic_regression_path\n",
      "    args=(X, target, 1. / C, sample_weight),\n",
      "ZeroDivisionError: float division by zero\n",
      "\n",
      "  FitFailedWarning)\n",
      "/Users/kristiyan/opt/anaconda3/lib/python3.7/site-packages/sklearn/model_selection/_validation.py:552: FitFailedWarning: Estimator fit failed. The score on this train-test partition for these parameters will be set to nan. Details: \n",
      "Traceback (most recent call last):\n",
      "  File \"/Users/kristiyan/opt/anaconda3/lib/python3.7/site-packages/sklearn/model_selection/_validation.py\", line 531, in _fit_and_score\n",
      "    estimator.fit(X_train, y_train, **fit_params)\n",
      "  File \"/Users/kristiyan/opt/anaconda3/lib/python3.7/site-packages/sklearn/multiclass.py\", line 245, in fit\n",
      "    for i, column in enumerate(columns))\n",
      "  File \"/Users/kristiyan/opt/anaconda3/lib/python3.7/site-packages/joblib/parallel.py\", line 1029, in __call__\n",
      "    if self.dispatch_one_batch(iterator):\n",
      "  File \"/Users/kristiyan/opt/anaconda3/lib/python3.7/site-packages/joblib/parallel.py\", line 847, in dispatch_one_batch\n",
      "    self._dispatch(tasks)\n",
      "  File \"/Users/kristiyan/opt/anaconda3/lib/python3.7/site-packages/joblib/parallel.py\", line 765, in _dispatch\n",
      "    job = self._backend.apply_async(batch, callback=cb)\n",
      "  File \"/Users/kristiyan/opt/anaconda3/lib/python3.7/site-packages/joblib/_parallel_backends.py\", line 206, in apply_async\n",
      "    result = ImmediateResult(func)\n",
      "  File \"/Users/kristiyan/opt/anaconda3/lib/python3.7/site-packages/joblib/_parallel_backends.py\", line 570, in __init__\n",
      "    self.results = batch()\n",
      "  File \"/Users/kristiyan/opt/anaconda3/lib/python3.7/site-packages/joblib/parallel.py\", line 253, in __call__\n",
      "    for func, args, kwargs in self.items]\n",
      "  File \"/Users/kristiyan/opt/anaconda3/lib/python3.7/site-packages/joblib/parallel.py\", line 253, in <listcomp>\n",
      "    for func, args, kwargs in self.items]\n",
      "  File \"/Users/kristiyan/opt/anaconda3/lib/python3.7/site-packages/sklearn/multiclass.py\", line 81, in _fit_binary\n",
      "    estimator.fit(X, y)\n",
      "  File \"/Users/kristiyan/opt/anaconda3/lib/python3.7/site-packages/sklearn/linear_model/_logistic.py\", line 1417, in fit\n",
      "    for class_, warm_start_coef_ in zip(classes_, warm_start_coef))\n",
      "  File \"/Users/kristiyan/opt/anaconda3/lib/python3.7/site-packages/joblib/parallel.py\", line 1029, in __call__\n",
      "    if self.dispatch_one_batch(iterator):\n",
      "  File \"/Users/kristiyan/opt/anaconda3/lib/python3.7/site-packages/joblib/parallel.py\", line 847, in dispatch_one_batch\n",
      "    self._dispatch(tasks)\n",
      "  File \"/Users/kristiyan/opt/anaconda3/lib/python3.7/site-packages/joblib/parallel.py\", line 765, in _dispatch\n",
      "    job = self._backend.apply_async(batch, callback=cb)\n",
      "  File \"/Users/kristiyan/opt/anaconda3/lib/python3.7/site-packages/joblib/_parallel_backends.py\", line 206, in apply_async\n",
      "    result = ImmediateResult(func)\n",
      "  File \"/Users/kristiyan/opt/anaconda3/lib/python3.7/site-packages/joblib/_parallel_backends.py\", line 570, in __init__\n",
      "    self.results = batch()\n",
      "  File \"/Users/kristiyan/opt/anaconda3/lib/python3.7/site-packages/joblib/parallel.py\", line 253, in __call__\n",
      "    for func, args, kwargs in self.items]\n",
      "  File \"/Users/kristiyan/opt/anaconda3/lib/python3.7/site-packages/joblib/parallel.py\", line 253, in <listcomp>\n",
      "    for func, args, kwargs in self.items]\n",
      "  File \"/Users/kristiyan/opt/anaconda3/lib/python3.7/site-packages/sklearn/linear_model/_logistic.py\", line 759, in _logistic_regression_path\n",
      "    args=(X, target, 1. / C, sample_weight),\n",
      "ZeroDivisionError: float division by zero\n",
      "\n",
      "  FitFailedWarning)\n",
      "/Users/kristiyan/opt/anaconda3/lib/python3.7/site-packages/sklearn/model_selection/_validation.py:552: FitFailedWarning: Estimator fit failed. The score on this train-test partition for these parameters will be set to nan. Details: \n",
      "Traceback (most recent call last):\n",
      "  File \"/Users/kristiyan/opt/anaconda3/lib/python3.7/site-packages/sklearn/model_selection/_validation.py\", line 531, in _fit_and_score\n",
      "    estimator.fit(X_train, y_train, **fit_params)\n",
      "  File \"/Users/kristiyan/opt/anaconda3/lib/python3.7/site-packages/sklearn/multiclass.py\", line 245, in fit\n",
      "    for i, column in enumerate(columns))\n",
      "  File \"/Users/kristiyan/opt/anaconda3/lib/python3.7/site-packages/joblib/parallel.py\", line 1029, in __call__\n",
      "    if self.dispatch_one_batch(iterator):\n",
      "  File \"/Users/kristiyan/opt/anaconda3/lib/python3.7/site-packages/joblib/parallel.py\", line 847, in dispatch_one_batch\n",
      "    self._dispatch(tasks)\n",
      "  File \"/Users/kristiyan/opt/anaconda3/lib/python3.7/site-packages/joblib/parallel.py\", line 765, in _dispatch\n",
      "    job = self._backend.apply_async(batch, callback=cb)\n",
      "  File \"/Users/kristiyan/opt/anaconda3/lib/python3.7/site-packages/joblib/_parallel_backends.py\", line 206, in apply_async\n",
      "    result = ImmediateResult(func)\n",
      "  File \"/Users/kristiyan/opt/anaconda3/lib/python3.7/site-packages/joblib/_parallel_backends.py\", line 570, in __init__\n",
      "    self.results = batch()\n",
      "  File \"/Users/kristiyan/opt/anaconda3/lib/python3.7/site-packages/joblib/parallel.py\", line 253, in __call__\n",
      "    for func, args, kwargs in self.items]\n",
      "  File \"/Users/kristiyan/opt/anaconda3/lib/python3.7/site-packages/joblib/parallel.py\", line 253, in <listcomp>\n",
      "    for func, args, kwargs in self.items]\n",
      "  File \"/Users/kristiyan/opt/anaconda3/lib/python3.7/site-packages/sklearn/multiclass.py\", line 81, in _fit_binary\n",
      "    estimator.fit(X, y)\n",
      "  File \"/Users/kristiyan/opt/anaconda3/lib/python3.7/site-packages/sklearn/linear_model/_logistic.py\", line 1417, in fit\n",
      "    for class_, warm_start_coef_ in zip(classes_, warm_start_coef))\n",
      "  File \"/Users/kristiyan/opt/anaconda3/lib/python3.7/site-packages/joblib/parallel.py\", line 1029, in __call__\n",
      "    if self.dispatch_one_batch(iterator):\n",
      "  File \"/Users/kristiyan/opt/anaconda3/lib/python3.7/site-packages/joblib/parallel.py\", line 847, in dispatch_one_batch\n",
      "    self._dispatch(tasks)\n",
      "  File \"/Users/kristiyan/opt/anaconda3/lib/python3.7/site-packages/joblib/parallel.py\", line 765, in _dispatch\n",
      "    job = self._backend.apply_async(batch, callback=cb)\n",
      "  File \"/Users/kristiyan/opt/anaconda3/lib/python3.7/site-packages/joblib/_parallel_backends.py\", line 206, in apply_async\n",
      "    result = ImmediateResult(func)\n",
      "  File \"/Users/kristiyan/opt/anaconda3/lib/python3.7/site-packages/joblib/_parallel_backends.py\", line 570, in __init__\n",
      "    self.results = batch()\n",
      "  File \"/Users/kristiyan/opt/anaconda3/lib/python3.7/site-packages/joblib/parallel.py\", line 253, in __call__\n",
      "    for func, args, kwargs in self.items]\n",
      "  File \"/Users/kristiyan/opt/anaconda3/lib/python3.7/site-packages/joblib/parallel.py\", line 253, in <listcomp>\n",
      "    for func, args, kwargs in self.items]\n",
      "  File \"/Users/kristiyan/opt/anaconda3/lib/python3.7/site-packages/sklearn/linear_model/_logistic.py\", line 759, in _logistic_regression_path\n",
      "    args=(X, target, 1. / C, sample_weight),\n",
      "ZeroDivisionError: float division by zero\n",
      "\n",
      "  FitFailedWarning)\n"
     ]
    },
    {
     "data": {
      "text/plain": [
       "RandomizedSearchCV(cv=3,\n",
       "                   estimator=OneVsRestClassifier(estimator=LogisticRegression(max_iter=1000,\n",
       "                                                                              random_state=42)),\n",
       "                   n_iter=5,\n",
       "                   param_distributions={'estimator__C': [2, 1, 0.5, 0.1, 0.01,\n",
       "                                                         0]},\n",
       "                   scoring=make_scorer(jaccard_score, average=micro))"
      ]
     },
     "execution_count": 24,
     "metadata": {},
     "output_type": "execute_result"
    }
   ],
   "source": [
    "best_lr_ovr.fit(unigram_bow_corpus, labels)"
   ]
  },
  {
   "cell_type": "code",
   "execution_count": 27,
   "metadata": {},
   "outputs": [
    {
     "data": {
      "text/plain": [
       "{'estimator__C': 0.5}"
      ]
     },
     "execution_count": 27,
     "metadata": {},
     "output_type": "execute_result"
    }
   ],
   "source": [
    "best_lr_ovr.best_params_"
   ]
  },
  {
   "cell_type": "code",
   "execution_count": 29,
   "metadata": {},
   "outputs": [
    {
     "data": {
      "text/plain": [
       "0.3358777980831083"
      ]
     },
     "execution_count": 29,
     "metadata": {},
     "output_type": "execute_result"
    }
   ],
   "source": [
    "best_lr_ovr.best_score_"
   ]
  },
  {
   "cell_type": "markdown",
   "metadata": {},
   "source": [
    "#### BOW UNI+BIGRAM CORPUS"
   ]
  },
  {
   "cell_type": "code",
   "execution_count": 30,
   "metadata": {},
   "outputs": [
    {
     "name": "stderr",
     "output_type": "stream",
     "text": [
      "/Users/kristiyan/opt/anaconda3/lib/python3.7/site-packages/sklearn/model_selection/_validation.py:552: FitFailedWarning: Estimator fit failed. The score on this train-test partition for these parameters will be set to nan. Details: \n",
      "Traceback (most recent call last):\n",
      "  File \"/Users/kristiyan/opt/anaconda3/lib/python3.7/site-packages/sklearn/model_selection/_validation.py\", line 531, in _fit_and_score\n",
      "    estimator.fit(X_train, y_train, **fit_params)\n",
      "  File \"/Users/kristiyan/opt/anaconda3/lib/python3.7/site-packages/sklearn/multiclass.py\", line 245, in fit\n",
      "    for i, column in enumerate(columns))\n",
      "  File \"/Users/kristiyan/opt/anaconda3/lib/python3.7/site-packages/joblib/parallel.py\", line 1029, in __call__\n",
      "    if self.dispatch_one_batch(iterator):\n",
      "  File \"/Users/kristiyan/opt/anaconda3/lib/python3.7/site-packages/joblib/parallel.py\", line 847, in dispatch_one_batch\n",
      "    self._dispatch(tasks)\n",
      "  File \"/Users/kristiyan/opt/anaconda3/lib/python3.7/site-packages/joblib/parallel.py\", line 765, in _dispatch\n",
      "    job = self._backend.apply_async(batch, callback=cb)\n",
      "  File \"/Users/kristiyan/opt/anaconda3/lib/python3.7/site-packages/joblib/_parallel_backends.py\", line 206, in apply_async\n",
      "    result = ImmediateResult(func)\n",
      "  File \"/Users/kristiyan/opt/anaconda3/lib/python3.7/site-packages/joblib/_parallel_backends.py\", line 570, in __init__\n",
      "    self.results = batch()\n",
      "  File \"/Users/kristiyan/opt/anaconda3/lib/python3.7/site-packages/joblib/parallel.py\", line 253, in __call__\n",
      "    for func, args, kwargs in self.items]\n",
      "  File \"/Users/kristiyan/opt/anaconda3/lib/python3.7/site-packages/joblib/parallel.py\", line 253, in <listcomp>\n",
      "    for func, args, kwargs in self.items]\n",
      "  File \"/Users/kristiyan/opt/anaconda3/lib/python3.7/site-packages/sklearn/multiclass.py\", line 81, in _fit_binary\n",
      "    estimator.fit(X, y)\n",
      "  File \"/Users/kristiyan/opt/anaconda3/lib/python3.7/site-packages/sklearn/linear_model/_logistic.py\", line 1417, in fit\n",
      "    for class_, warm_start_coef_ in zip(classes_, warm_start_coef))\n",
      "  File \"/Users/kristiyan/opt/anaconda3/lib/python3.7/site-packages/joblib/parallel.py\", line 1029, in __call__\n",
      "    if self.dispatch_one_batch(iterator):\n",
      "  File \"/Users/kristiyan/opt/anaconda3/lib/python3.7/site-packages/joblib/parallel.py\", line 847, in dispatch_one_batch\n",
      "    self._dispatch(tasks)\n",
      "  File \"/Users/kristiyan/opt/anaconda3/lib/python3.7/site-packages/joblib/parallel.py\", line 765, in _dispatch\n",
      "    job = self._backend.apply_async(batch, callback=cb)\n",
      "  File \"/Users/kristiyan/opt/anaconda3/lib/python3.7/site-packages/joblib/_parallel_backends.py\", line 206, in apply_async\n",
      "    result = ImmediateResult(func)\n",
      "  File \"/Users/kristiyan/opt/anaconda3/lib/python3.7/site-packages/joblib/_parallel_backends.py\", line 570, in __init__\n",
      "    self.results = batch()\n",
      "  File \"/Users/kristiyan/opt/anaconda3/lib/python3.7/site-packages/joblib/parallel.py\", line 253, in __call__\n",
      "    for func, args, kwargs in self.items]\n",
      "  File \"/Users/kristiyan/opt/anaconda3/lib/python3.7/site-packages/joblib/parallel.py\", line 253, in <listcomp>\n",
      "    for func, args, kwargs in self.items]\n",
      "  File \"/Users/kristiyan/opt/anaconda3/lib/python3.7/site-packages/sklearn/linear_model/_logistic.py\", line 759, in _logistic_regression_path\n",
      "    args=(X, target, 1. / C, sample_weight),\n",
      "ZeroDivisionError: float division by zero\n",
      "\n",
      "  FitFailedWarning)\n",
      "/Users/kristiyan/opt/anaconda3/lib/python3.7/site-packages/sklearn/model_selection/_validation.py:552: FitFailedWarning: Estimator fit failed. The score on this train-test partition for these parameters will be set to nan. Details: \n",
      "Traceback (most recent call last):\n",
      "  File \"/Users/kristiyan/opt/anaconda3/lib/python3.7/site-packages/sklearn/model_selection/_validation.py\", line 531, in _fit_and_score\n",
      "    estimator.fit(X_train, y_train, **fit_params)\n",
      "  File \"/Users/kristiyan/opt/anaconda3/lib/python3.7/site-packages/sklearn/multiclass.py\", line 245, in fit\n",
      "    for i, column in enumerate(columns))\n",
      "  File \"/Users/kristiyan/opt/anaconda3/lib/python3.7/site-packages/joblib/parallel.py\", line 1029, in __call__\n",
      "    if self.dispatch_one_batch(iterator):\n",
      "  File \"/Users/kristiyan/opt/anaconda3/lib/python3.7/site-packages/joblib/parallel.py\", line 847, in dispatch_one_batch\n",
      "    self._dispatch(tasks)\n",
      "  File \"/Users/kristiyan/opt/anaconda3/lib/python3.7/site-packages/joblib/parallel.py\", line 765, in _dispatch\n",
      "    job = self._backend.apply_async(batch, callback=cb)\n",
      "  File \"/Users/kristiyan/opt/anaconda3/lib/python3.7/site-packages/joblib/_parallel_backends.py\", line 206, in apply_async\n",
      "    result = ImmediateResult(func)\n",
      "  File \"/Users/kristiyan/opt/anaconda3/lib/python3.7/site-packages/joblib/_parallel_backends.py\", line 570, in __init__\n",
      "    self.results = batch()\n",
      "  File \"/Users/kristiyan/opt/anaconda3/lib/python3.7/site-packages/joblib/parallel.py\", line 253, in __call__\n",
      "    for func, args, kwargs in self.items]\n",
      "  File \"/Users/kristiyan/opt/anaconda3/lib/python3.7/site-packages/joblib/parallel.py\", line 253, in <listcomp>\n",
      "    for func, args, kwargs in self.items]\n",
      "  File \"/Users/kristiyan/opt/anaconda3/lib/python3.7/site-packages/sklearn/multiclass.py\", line 81, in _fit_binary\n",
      "    estimator.fit(X, y)\n",
      "  File \"/Users/kristiyan/opt/anaconda3/lib/python3.7/site-packages/sklearn/linear_model/_logistic.py\", line 1417, in fit\n",
      "    for class_, warm_start_coef_ in zip(classes_, warm_start_coef))\n",
      "  File \"/Users/kristiyan/opt/anaconda3/lib/python3.7/site-packages/joblib/parallel.py\", line 1029, in __call__\n",
      "    if self.dispatch_one_batch(iterator):\n",
      "  File \"/Users/kristiyan/opt/anaconda3/lib/python3.7/site-packages/joblib/parallel.py\", line 847, in dispatch_one_batch\n",
      "    self._dispatch(tasks)\n",
      "  File \"/Users/kristiyan/opt/anaconda3/lib/python3.7/site-packages/joblib/parallel.py\", line 765, in _dispatch\n",
      "    job = self._backend.apply_async(batch, callback=cb)\n",
      "  File \"/Users/kristiyan/opt/anaconda3/lib/python3.7/site-packages/joblib/_parallel_backends.py\", line 206, in apply_async\n",
      "    result = ImmediateResult(func)\n",
      "  File \"/Users/kristiyan/opt/anaconda3/lib/python3.7/site-packages/joblib/_parallel_backends.py\", line 570, in __init__\n",
      "    self.results = batch()\n",
      "  File \"/Users/kristiyan/opt/anaconda3/lib/python3.7/site-packages/joblib/parallel.py\", line 253, in __call__\n",
      "    for func, args, kwargs in self.items]\n",
      "  File \"/Users/kristiyan/opt/anaconda3/lib/python3.7/site-packages/joblib/parallel.py\", line 253, in <listcomp>\n",
      "    for func, args, kwargs in self.items]\n",
      "  File \"/Users/kristiyan/opt/anaconda3/lib/python3.7/site-packages/sklearn/linear_model/_logistic.py\", line 759, in _logistic_regression_path\n",
      "    args=(X, target, 1. / C, sample_weight),\n",
      "ZeroDivisionError: float division by zero\n",
      "\n",
      "  FitFailedWarning)\n",
      "/Users/kristiyan/opt/anaconda3/lib/python3.7/site-packages/sklearn/model_selection/_validation.py:552: FitFailedWarning: Estimator fit failed. The score on this train-test partition for these parameters will be set to nan. Details: \n",
      "Traceback (most recent call last):\n",
      "  File \"/Users/kristiyan/opt/anaconda3/lib/python3.7/site-packages/sklearn/model_selection/_validation.py\", line 531, in _fit_and_score\n",
      "    estimator.fit(X_train, y_train, **fit_params)\n",
      "  File \"/Users/kristiyan/opt/anaconda3/lib/python3.7/site-packages/sklearn/multiclass.py\", line 245, in fit\n",
      "    for i, column in enumerate(columns))\n",
      "  File \"/Users/kristiyan/opt/anaconda3/lib/python3.7/site-packages/joblib/parallel.py\", line 1029, in __call__\n",
      "    if self.dispatch_one_batch(iterator):\n",
      "  File \"/Users/kristiyan/opt/anaconda3/lib/python3.7/site-packages/joblib/parallel.py\", line 847, in dispatch_one_batch\n",
      "    self._dispatch(tasks)\n",
      "  File \"/Users/kristiyan/opt/anaconda3/lib/python3.7/site-packages/joblib/parallel.py\", line 765, in _dispatch\n",
      "    job = self._backend.apply_async(batch, callback=cb)\n",
      "  File \"/Users/kristiyan/opt/anaconda3/lib/python3.7/site-packages/joblib/_parallel_backends.py\", line 206, in apply_async\n",
      "    result = ImmediateResult(func)\n",
      "  File \"/Users/kristiyan/opt/anaconda3/lib/python3.7/site-packages/joblib/_parallel_backends.py\", line 570, in __init__\n",
      "    self.results = batch()\n",
      "  File \"/Users/kristiyan/opt/anaconda3/lib/python3.7/site-packages/joblib/parallel.py\", line 253, in __call__\n",
      "    for func, args, kwargs in self.items]\n",
      "  File \"/Users/kristiyan/opt/anaconda3/lib/python3.7/site-packages/joblib/parallel.py\", line 253, in <listcomp>\n",
      "    for func, args, kwargs in self.items]\n",
      "  File \"/Users/kristiyan/opt/anaconda3/lib/python3.7/site-packages/sklearn/multiclass.py\", line 81, in _fit_binary\n",
      "    estimator.fit(X, y)\n",
      "  File \"/Users/kristiyan/opt/anaconda3/lib/python3.7/site-packages/sklearn/linear_model/_logistic.py\", line 1417, in fit\n",
      "    for class_, warm_start_coef_ in zip(classes_, warm_start_coef))\n",
      "  File \"/Users/kristiyan/opt/anaconda3/lib/python3.7/site-packages/joblib/parallel.py\", line 1029, in __call__\n",
      "    if self.dispatch_one_batch(iterator):\n",
      "  File \"/Users/kristiyan/opt/anaconda3/lib/python3.7/site-packages/joblib/parallel.py\", line 847, in dispatch_one_batch\n",
      "    self._dispatch(tasks)\n",
      "  File \"/Users/kristiyan/opt/anaconda3/lib/python3.7/site-packages/joblib/parallel.py\", line 765, in _dispatch\n",
      "    job = self._backend.apply_async(batch, callback=cb)\n",
      "  File \"/Users/kristiyan/opt/anaconda3/lib/python3.7/site-packages/joblib/_parallel_backends.py\", line 206, in apply_async\n",
      "    result = ImmediateResult(func)\n",
      "  File \"/Users/kristiyan/opt/anaconda3/lib/python3.7/site-packages/joblib/_parallel_backends.py\", line 570, in __init__\n",
      "    self.results = batch()\n",
      "  File \"/Users/kristiyan/opt/anaconda3/lib/python3.7/site-packages/joblib/parallel.py\", line 253, in __call__\n",
      "    for func, args, kwargs in self.items]\n",
      "  File \"/Users/kristiyan/opt/anaconda3/lib/python3.7/site-packages/joblib/parallel.py\", line 253, in <listcomp>\n",
      "    for func, args, kwargs in self.items]\n",
      "  File \"/Users/kristiyan/opt/anaconda3/lib/python3.7/site-packages/sklearn/linear_model/_logistic.py\", line 759, in _logistic_regression_path\n",
      "    args=(X, target, 1. / C, sample_weight),\n",
      "ZeroDivisionError: float division by zero\n",
      "\n",
      "  FitFailedWarning)\n"
     ]
    },
    {
     "data": {
      "text/plain": [
       "RandomizedSearchCV(cv=3,\n",
       "                   estimator=OneVsRestClassifier(estimator=LogisticRegression(max_iter=1000,\n",
       "                                                                              random_state=42)),\n",
       "                   n_iter=5,\n",
       "                   param_distributions={'estimator__C': [2, 1, 0.5, 0.1, 0.01,\n",
       "                                                         0]},\n",
       "                   scoring=make_scorer(jaccard_score, average=micro))"
      ]
     },
     "execution_count": 30,
     "metadata": {},
     "output_type": "execute_result"
    }
   ],
   "source": [
    "best_lr_ovr.fit(uni_and_bigram_bow_corpus, labels)"
   ]
  },
  {
   "cell_type": "code",
   "execution_count": 31,
   "metadata": {},
   "outputs": [
    {
     "data": {
      "text/plain": [
       "{'estimator__C': 0.5}"
      ]
     },
     "execution_count": 31,
     "metadata": {},
     "output_type": "execute_result"
    }
   ],
   "source": [
    "best_lr_ovr.best_params_"
   ]
  },
  {
   "cell_type": "code",
   "execution_count": 32,
   "metadata": {},
   "outputs": [
    {
     "data": {
      "text/plain": [
       "0.34166566869407355"
      ]
     },
     "execution_count": 32,
     "metadata": {},
     "output_type": "execute_result"
    }
   ],
   "source": [
    "best_lr_ovr.best_score_"
   ]
  },
  {
   "cell_type": "markdown",
   "metadata": {},
   "source": [
    "#### TFIDF UNIGRAM CORPUS"
   ]
  },
  {
   "cell_type": "code",
   "execution_count": 33,
   "metadata": {},
   "outputs": [
    {
     "name": "stderr",
     "output_type": "stream",
     "text": [
      "/Users/kristiyan/opt/anaconda3/lib/python3.7/site-packages/sklearn/model_selection/_validation.py:552: FitFailedWarning: Estimator fit failed. The score on this train-test partition for these parameters will be set to nan. Details: \n",
      "Traceback (most recent call last):\n",
      "  File \"/Users/kristiyan/opt/anaconda3/lib/python3.7/site-packages/sklearn/model_selection/_validation.py\", line 531, in _fit_and_score\n",
      "    estimator.fit(X_train, y_train, **fit_params)\n",
      "  File \"/Users/kristiyan/opt/anaconda3/lib/python3.7/site-packages/sklearn/multiclass.py\", line 245, in fit\n",
      "    for i, column in enumerate(columns))\n",
      "  File \"/Users/kristiyan/opt/anaconda3/lib/python3.7/site-packages/joblib/parallel.py\", line 1029, in __call__\n",
      "    if self.dispatch_one_batch(iterator):\n",
      "  File \"/Users/kristiyan/opt/anaconda3/lib/python3.7/site-packages/joblib/parallel.py\", line 847, in dispatch_one_batch\n",
      "    self._dispatch(tasks)\n",
      "  File \"/Users/kristiyan/opt/anaconda3/lib/python3.7/site-packages/joblib/parallel.py\", line 765, in _dispatch\n",
      "    job = self._backend.apply_async(batch, callback=cb)\n",
      "  File \"/Users/kristiyan/opt/anaconda3/lib/python3.7/site-packages/joblib/_parallel_backends.py\", line 206, in apply_async\n",
      "    result = ImmediateResult(func)\n",
      "  File \"/Users/kristiyan/opt/anaconda3/lib/python3.7/site-packages/joblib/_parallel_backends.py\", line 570, in __init__\n",
      "    self.results = batch()\n",
      "  File \"/Users/kristiyan/opt/anaconda3/lib/python3.7/site-packages/joblib/parallel.py\", line 253, in __call__\n",
      "    for func, args, kwargs in self.items]\n",
      "  File \"/Users/kristiyan/opt/anaconda3/lib/python3.7/site-packages/joblib/parallel.py\", line 253, in <listcomp>\n",
      "    for func, args, kwargs in self.items]\n",
      "  File \"/Users/kristiyan/opt/anaconda3/lib/python3.7/site-packages/sklearn/multiclass.py\", line 81, in _fit_binary\n",
      "    estimator.fit(X, y)\n",
      "  File \"/Users/kristiyan/opt/anaconda3/lib/python3.7/site-packages/sklearn/linear_model/_logistic.py\", line 1417, in fit\n",
      "    for class_, warm_start_coef_ in zip(classes_, warm_start_coef))\n",
      "  File \"/Users/kristiyan/opt/anaconda3/lib/python3.7/site-packages/joblib/parallel.py\", line 1029, in __call__\n",
      "    if self.dispatch_one_batch(iterator):\n",
      "  File \"/Users/kristiyan/opt/anaconda3/lib/python3.7/site-packages/joblib/parallel.py\", line 847, in dispatch_one_batch\n",
      "    self._dispatch(tasks)\n",
      "  File \"/Users/kristiyan/opt/anaconda3/lib/python3.7/site-packages/joblib/parallel.py\", line 765, in _dispatch\n",
      "    job = self._backend.apply_async(batch, callback=cb)\n",
      "  File \"/Users/kristiyan/opt/anaconda3/lib/python3.7/site-packages/joblib/_parallel_backends.py\", line 206, in apply_async\n",
      "    result = ImmediateResult(func)\n",
      "  File \"/Users/kristiyan/opt/anaconda3/lib/python3.7/site-packages/joblib/_parallel_backends.py\", line 570, in __init__\n",
      "    self.results = batch()\n",
      "  File \"/Users/kristiyan/opt/anaconda3/lib/python3.7/site-packages/joblib/parallel.py\", line 253, in __call__\n",
      "    for func, args, kwargs in self.items]\n",
      "  File \"/Users/kristiyan/opt/anaconda3/lib/python3.7/site-packages/joblib/parallel.py\", line 253, in <listcomp>\n",
      "    for func, args, kwargs in self.items]\n",
      "  File \"/Users/kristiyan/opt/anaconda3/lib/python3.7/site-packages/sklearn/linear_model/_logistic.py\", line 759, in _logistic_regression_path\n",
      "    args=(X, target, 1. / C, sample_weight),\n",
      "ZeroDivisionError: float division by zero\n",
      "\n",
      "  FitFailedWarning)\n",
      "/Users/kristiyan/opt/anaconda3/lib/python3.7/site-packages/sklearn/model_selection/_validation.py:552: FitFailedWarning: Estimator fit failed. The score on this train-test partition for these parameters will be set to nan. Details: \n",
      "Traceback (most recent call last):\n",
      "  File \"/Users/kristiyan/opt/anaconda3/lib/python3.7/site-packages/sklearn/model_selection/_validation.py\", line 531, in _fit_and_score\n",
      "    estimator.fit(X_train, y_train, **fit_params)\n",
      "  File \"/Users/kristiyan/opt/anaconda3/lib/python3.7/site-packages/sklearn/multiclass.py\", line 245, in fit\n",
      "    for i, column in enumerate(columns))\n",
      "  File \"/Users/kristiyan/opt/anaconda3/lib/python3.7/site-packages/joblib/parallel.py\", line 1029, in __call__\n",
      "    if self.dispatch_one_batch(iterator):\n",
      "  File \"/Users/kristiyan/opt/anaconda3/lib/python3.7/site-packages/joblib/parallel.py\", line 847, in dispatch_one_batch\n",
      "    self._dispatch(tasks)\n",
      "  File \"/Users/kristiyan/opt/anaconda3/lib/python3.7/site-packages/joblib/parallel.py\", line 765, in _dispatch\n",
      "    job = self._backend.apply_async(batch, callback=cb)\n",
      "  File \"/Users/kristiyan/opt/anaconda3/lib/python3.7/site-packages/joblib/_parallel_backends.py\", line 206, in apply_async\n",
      "    result = ImmediateResult(func)\n",
      "  File \"/Users/kristiyan/opt/anaconda3/lib/python3.7/site-packages/joblib/_parallel_backends.py\", line 570, in __init__\n",
      "    self.results = batch()\n",
      "  File \"/Users/kristiyan/opt/anaconda3/lib/python3.7/site-packages/joblib/parallel.py\", line 253, in __call__\n",
      "    for func, args, kwargs in self.items]\n",
      "  File \"/Users/kristiyan/opt/anaconda3/lib/python3.7/site-packages/joblib/parallel.py\", line 253, in <listcomp>\n",
      "    for func, args, kwargs in self.items]\n",
      "  File \"/Users/kristiyan/opt/anaconda3/lib/python3.7/site-packages/sklearn/multiclass.py\", line 81, in _fit_binary\n",
      "    estimator.fit(X, y)\n",
      "  File \"/Users/kristiyan/opt/anaconda3/lib/python3.7/site-packages/sklearn/linear_model/_logistic.py\", line 1417, in fit\n",
      "    for class_, warm_start_coef_ in zip(classes_, warm_start_coef))\n",
      "  File \"/Users/kristiyan/opt/anaconda3/lib/python3.7/site-packages/joblib/parallel.py\", line 1029, in __call__\n",
      "    if self.dispatch_one_batch(iterator):\n",
      "  File \"/Users/kristiyan/opt/anaconda3/lib/python3.7/site-packages/joblib/parallel.py\", line 847, in dispatch_one_batch\n",
      "    self._dispatch(tasks)\n",
      "  File \"/Users/kristiyan/opt/anaconda3/lib/python3.7/site-packages/joblib/parallel.py\", line 765, in _dispatch\n",
      "    job = self._backend.apply_async(batch, callback=cb)\n",
      "  File \"/Users/kristiyan/opt/anaconda3/lib/python3.7/site-packages/joblib/_parallel_backends.py\", line 206, in apply_async\n",
      "    result = ImmediateResult(func)\n",
      "  File \"/Users/kristiyan/opt/anaconda3/lib/python3.7/site-packages/joblib/_parallel_backends.py\", line 570, in __init__\n",
      "    self.results = batch()\n",
      "  File \"/Users/kristiyan/opt/anaconda3/lib/python3.7/site-packages/joblib/parallel.py\", line 253, in __call__\n",
      "    for func, args, kwargs in self.items]\n",
      "  File \"/Users/kristiyan/opt/anaconda3/lib/python3.7/site-packages/joblib/parallel.py\", line 253, in <listcomp>\n",
      "    for func, args, kwargs in self.items]\n",
      "  File \"/Users/kristiyan/opt/anaconda3/lib/python3.7/site-packages/sklearn/linear_model/_logistic.py\", line 759, in _logistic_regression_path\n",
      "    args=(X, target, 1. / C, sample_weight),\n",
      "ZeroDivisionError: float division by zero\n",
      "\n",
      "  FitFailedWarning)\n",
      "/Users/kristiyan/opt/anaconda3/lib/python3.7/site-packages/sklearn/model_selection/_validation.py:552: FitFailedWarning: Estimator fit failed. The score on this train-test partition for these parameters will be set to nan. Details: \n",
      "Traceback (most recent call last):\n",
      "  File \"/Users/kristiyan/opt/anaconda3/lib/python3.7/site-packages/sklearn/model_selection/_validation.py\", line 531, in _fit_and_score\n",
      "    estimator.fit(X_train, y_train, **fit_params)\n",
      "  File \"/Users/kristiyan/opt/anaconda3/lib/python3.7/site-packages/sklearn/multiclass.py\", line 245, in fit\n",
      "    for i, column in enumerate(columns))\n",
      "  File \"/Users/kristiyan/opt/anaconda3/lib/python3.7/site-packages/joblib/parallel.py\", line 1029, in __call__\n",
      "    if self.dispatch_one_batch(iterator):\n",
      "  File \"/Users/kristiyan/opt/anaconda3/lib/python3.7/site-packages/joblib/parallel.py\", line 847, in dispatch_one_batch\n",
      "    self._dispatch(tasks)\n",
      "  File \"/Users/kristiyan/opt/anaconda3/lib/python3.7/site-packages/joblib/parallel.py\", line 765, in _dispatch\n",
      "    job = self._backend.apply_async(batch, callback=cb)\n",
      "  File \"/Users/kristiyan/opt/anaconda3/lib/python3.7/site-packages/joblib/_parallel_backends.py\", line 206, in apply_async\n",
      "    result = ImmediateResult(func)\n",
      "  File \"/Users/kristiyan/opt/anaconda3/lib/python3.7/site-packages/joblib/_parallel_backends.py\", line 570, in __init__\n",
      "    self.results = batch()\n",
      "  File \"/Users/kristiyan/opt/anaconda3/lib/python3.7/site-packages/joblib/parallel.py\", line 253, in __call__\n",
      "    for func, args, kwargs in self.items]\n",
      "  File \"/Users/kristiyan/opt/anaconda3/lib/python3.7/site-packages/joblib/parallel.py\", line 253, in <listcomp>\n",
      "    for func, args, kwargs in self.items]\n",
      "  File \"/Users/kristiyan/opt/anaconda3/lib/python3.7/site-packages/sklearn/multiclass.py\", line 81, in _fit_binary\n",
      "    estimator.fit(X, y)\n",
      "  File \"/Users/kristiyan/opt/anaconda3/lib/python3.7/site-packages/sklearn/linear_model/_logistic.py\", line 1417, in fit\n",
      "    for class_, warm_start_coef_ in zip(classes_, warm_start_coef))\n",
      "  File \"/Users/kristiyan/opt/anaconda3/lib/python3.7/site-packages/joblib/parallel.py\", line 1029, in __call__\n",
      "    if self.dispatch_one_batch(iterator):\n",
      "  File \"/Users/kristiyan/opt/anaconda3/lib/python3.7/site-packages/joblib/parallel.py\", line 847, in dispatch_one_batch\n",
      "    self._dispatch(tasks)\n",
      "  File \"/Users/kristiyan/opt/anaconda3/lib/python3.7/site-packages/joblib/parallel.py\", line 765, in _dispatch\n",
      "    job = self._backend.apply_async(batch, callback=cb)\n",
      "  File \"/Users/kristiyan/opt/anaconda3/lib/python3.7/site-packages/joblib/_parallel_backends.py\", line 206, in apply_async\n",
      "    result = ImmediateResult(func)\n",
      "  File \"/Users/kristiyan/opt/anaconda3/lib/python3.7/site-packages/joblib/_parallel_backends.py\", line 570, in __init__\n",
      "    self.results = batch()\n",
      "  File \"/Users/kristiyan/opt/anaconda3/lib/python3.7/site-packages/joblib/parallel.py\", line 253, in __call__\n",
      "    for func, args, kwargs in self.items]\n",
      "  File \"/Users/kristiyan/opt/anaconda3/lib/python3.7/site-packages/joblib/parallel.py\", line 253, in <listcomp>\n",
      "    for func, args, kwargs in self.items]\n",
      "  File \"/Users/kristiyan/opt/anaconda3/lib/python3.7/site-packages/sklearn/linear_model/_logistic.py\", line 759, in _logistic_regression_path\n",
      "    args=(X, target, 1. / C, sample_weight),\n",
      "ZeroDivisionError: float division by zero\n",
      "\n",
      "  FitFailedWarning)\n"
     ]
    },
    {
     "data": {
      "text/plain": [
       "RandomizedSearchCV(cv=3,\n",
       "                   estimator=OneVsRestClassifier(estimator=LogisticRegression(max_iter=1000,\n",
       "                                                                              random_state=42)),\n",
       "                   n_iter=5,\n",
       "                   param_distributions={'estimator__C': [2, 1, 0.5, 0.1, 0.01,\n",
       "                                                         0]},\n",
       "                   scoring=make_scorer(jaccard_score, average=micro))"
      ]
     },
     "execution_count": 33,
     "metadata": {},
     "output_type": "execute_result"
    }
   ],
   "source": [
    "best_lr_ovr.fit(unigram_tfidf_corpus, labels)"
   ]
  },
  {
   "cell_type": "code",
   "execution_count": 34,
   "metadata": {},
   "outputs": [
    {
     "data": {
      "text/plain": [
       "{'estimator__C': 1}"
      ]
     },
     "execution_count": 34,
     "metadata": {},
     "output_type": "execute_result"
    }
   ],
   "source": [
    "best_lr_ovr.best_params_"
   ]
  },
  {
   "cell_type": "code",
   "execution_count": 35,
   "metadata": {},
   "outputs": [
    {
     "data": {
      "text/plain": [
       "0.2677553984119441"
      ]
     },
     "execution_count": 35,
     "metadata": {},
     "output_type": "execute_result"
    }
   ],
   "source": [
    "best_lr_ovr.best_score_"
   ]
  },
  {
   "cell_type": "markdown",
   "metadata": {},
   "source": [
    "#### TFIDF UNI+BIGRAM CORPUS"
   ]
  },
  {
   "cell_type": "code",
   "execution_count": 36,
   "metadata": {},
   "outputs": [
    {
     "data": {
      "text/plain": [
       "RandomizedSearchCV(cv=3,\n",
       "                   estimator=OneVsRestClassifier(estimator=LogisticRegression(max_iter=1000,\n",
       "                                                                              random_state=42)),\n",
       "                   n_iter=5,\n",
       "                   param_distributions={'estimator__C': [2, 1, 0.5, 0.1, 0.01,\n",
       "                                                         0]},\n",
       "                   scoring=make_scorer(jaccard_score, average=micro))"
      ]
     },
     "execution_count": 36,
     "metadata": {},
     "output_type": "execute_result"
    }
   ],
   "source": [
    "best_lr_ovr.fit(uni_and_bigram_tfidf_corpus, labels)"
   ]
  },
  {
   "cell_type": "code",
   "execution_count": 37,
   "metadata": {},
   "outputs": [
    {
     "data": {
      "text/plain": [
       "{'estimator__C': 2}"
      ]
     },
     "execution_count": 37,
     "metadata": {},
     "output_type": "execute_result"
    }
   ],
   "source": [
    "best_lr_ovr.best_params_"
   ]
  },
  {
   "cell_type": "code",
   "execution_count": 38,
   "metadata": {},
   "outputs": [
    {
     "data": {
      "text/plain": [
       "0.30901622431582276"
      ]
     },
     "execution_count": 38,
     "metadata": {},
     "output_type": "execute_result"
    }
   ],
   "source": [
    "best_lr_ovr.best_score_"
   ]
  },
  {
   "cell_type": "markdown",
   "metadata": {},
   "source": [
    "\n",
    "<div class=\"alert alert-success\">Best performing appears to be BOW Uni+Bigram corpus with C=0.5 </div>\n"
   ]
  },
  {
   "cell_type": "markdown",
   "metadata": {},
   "source": [
    "# LinearSVC"
   ]
  },
  {
   "cell_type": "markdown",
   "metadata": {},
   "source": [
    "### Single Estimator in OVR"
   ]
  },
  {
   "cell_type": "code",
   "execution_count": 43,
   "metadata": {},
   "outputs": [
    {
     "name": "stdout",
     "output_type": "stream",
     "text": [
      "[LibLinear][LibLinear][LibLinear][LibLinear][LibLinear][LibLinear][LibLinear][LibLinear][LibLinear][LibLinear][LibLinear][LibLinear][LibLinear][LibLinear][LibLinear][LibLinear][LibLinear][LibLinear][LibLinear][LibLinear][LibLinear][LibLinear][LibLinear][LibLinear][LibLinear][LibLinear][LibLinear][LibLinear][LibLinear][LibLinear][LibLinear][LibLinear][LibLinear][LibLinear][LibLinear][LibLinear][LibLinear][LibLinear][LibLinear][LibLinear][LibLinear][LibLinear][LibLinear][LibLinear][LibLinear][LibLinear][LibLinear][LibLinear][LibLinear][LibLinear][LibLinear][LibLinear][LibLinear][LibLinear][LibLinear][LibLinear][LibLinear][LibLinear][LibLinear][LibLinear][LibLinear][LibLinear][LibLinear][LibLinear][LibLinear][LibLinear][LibLinear][LibLinear][LibLinear][LibLinear][LibLinear][LibLinear][LibLinear][LibLinear][LibLinear][LibLinear][LibLinear][LibLinear][LibLinear][LibLinear][LibLinear][LibLinear][LibLinear]"
     ]
    }
   ],
   "source": [
    "# Single iteration\n",
    "svm = LinearSVC(random_state=42\n",
    "                , max_iter = 50000\n",
    "                , verbose=1)\n",
    "ovr = OneVsRestClassifier(svm).fit(X_train, y_train)"
   ]
  },
  {
   "cell_type": "code",
   "execution_count": 44,
   "metadata": {},
   "outputs": [
    {
     "data": {
      "text/plain": [
       "0.0793002915451895"
      ]
     },
     "execution_count": 44,
     "metadata": {},
     "output_type": "execute_result"
    }
   ],
   "source": [
    "ovr.score(X_test, y_test)"
   ]
  },
  {
   "cell_type": "code",
   "execution_count": 45,
   "metadata": {},
   "outputs": [],
   "source": [
    "y_pred_svm_ovr = ovr.predict(X_test)"
   ]
  },
  {
   "cell_type": "code",
   "execution_count": 46,
   "metadata": {},
   "outputs": [
    {
     "data": {
      "text/plain": [
       "0.30012686118715365"
      ]
     },
     "execution_count": 46,
     "metadata": {},
     "output_type": "execute_result"
    }
   ],
   "source": [
    "jaccard_score(y_test, y_pred_svm_ovr, average='micro')"
   ]
  },
  {
   "cell_type": "markdown",
   "metadata": {},
   "source": [
    "### RandomizedSearchCV"
   ]
  },
  {
   "cell_type": "code",
   "execution_count": 51,
   "metadata": {},
   "outputs": [],
   "source": [
    "svm_dict = {'estimator__C': [2,1,.5,.1,.01,0]} # For clarification why there is \"estimator__\", see this SO post: https://stackoverflow.com/questions/12632992/gridsearch-for-an-estimator-inside-a-onevsrestclassifier\n",
    "\n",
    "svm = LinearSVC(#n_jobs = -1\n",
    "                random_state = 42\n",
    "                , verbose = 1\n",
    "                , max_iter = 50000)\n",
    "\n",
    "ovr = OneVsRestClassifier(svm, n_jobs = -1) #\n",
    "\n",
    "# Converts the metric function - jaccard_score - into something that RandomizedSearchCV can use to evaluate a given model\n",
    "jaccard_scorer = make_scorer(jaccard_score, average='micro')\n",
    "\n",
    "best_svm_ovr = RandomizedSearchCV(ovr\n",
    "                             , svm_dict\n",
    "                             , n_iter=5\n",
    "                             , n_jobs = -1\n",
    "                             , cv=3\n",
    "                             , scoring=jaccard_scorer)"
   ]
  },
  {
   "cell_type": "markdown",
   "metadata": {},
   "source": [
    "### BOW UNIGRAM CORPUS"
   ]
  },
  {
   "cell_type": "code",
   "execution_count": 52,
   "metadata": {},
   "outputs": [
    {
     "data": {
      "text/plain": [
       "RandomizedSearchCV(cv=3,\n",
       "                   estimator=OneVsRestClassifier(estimator=LinearSVC(max_iter=50000,\n",
       "                                                                     random_state=42,\n",
       "                                                                     verbose=1),\n",
       "                                                 n_jobs=-1),\n",
       "                   n_iter=5, n_jobs=-1,\n",
       "                   param_distributions={'estimator__C': [2, 1, 0.5, 0.1, 0.01,\n",
       "                                                         0]},\n",
       "                   scoring=make_scorer(jaccard_score, average=micro))"
      ]
     },
     "execution_count": 52,
     "metadata": {},
     "output_type": "execute_result"
    }
   ],
   "source": [
    "best_svm_ovr.fit(unigram_bow_corpus, labels)"
   ]
  },
  {
   "cell_type": "code",
   "execution_count": 53,
   "metadata": {},
   "outputs": [
    {
     "data": {
      "text/plain": [
       "{'estimator__C': 0.01}"
      ]
     },
     "execution_count": 53,
     "metadata": {},
     "output_type": "execute_result"
    }
   ],
   "source": [
    "best_svm_ovr.best_params_"
   ]
  },
  {
   "cell_type": "code",
   "execution_count": 54,
   "metadata": {},
   "outputs": [
    {
     "data": {
      "text/plain": [
       "0.33347006693731074"
      ]
     },
     "execution_count": 54,
     "metadata": {},
     "output_type": "execute_result"
    }
   ],
   "source": [
    "best_svm_ovr.best_score_"
   ]
  },
  {
   "cell_type": "markdown",
   "metadata": {},
   "source": [
    "### BOW UNI+BIGRAM CORPUS"
   ]
  },
  {
   "cell_type": "code",
   "execution_count": 55,
   "metadata": {},
   "outputs": [
    {
     "data": {
      "text/plain": [
       "RandomizedSearchCV(cv=3,\n",
       "                   estimator=OneVsRestClassifier(estimator=LinearSVC(max_iter=50000,\n",
       "                                                                     random_state=42,\n",
       "                                                                     verbose=1),\n",
       "                                                 n_jobs=-1),\n",
       "                   n_iter=5, n_jobs=-1,\n",
       "                   param_distributions={'estimator__C': [2, 1, 0.5, 0.1, 0.01,\n",
       "                                                         0]},\n",
       "                   scoring=make_scorer(jaccard_score, average=micro))"
      ]
     },
     "execution_count": 55,
     "metadata": {},
     "output_type": "execute_result"
    }
   ],
   "source": [
    "best_svm_ovr.fit(uni_and_bigram_bow_corpus, labels)"
   ]
  },
  {
   "cell_type": "code",
   "execution_count": 56,
   "metadata": {},
   "outputs": [
    {
     "data": {
      "text/plain": [
       "{'estimator__C': 0.1}"
      ]
     },
     "execution_count": 56,
     "metadata": {},
     "output_type": "execute_result"
    }
   ],
   "source": [
    "best_svm_ovr.best_params_"
   ]
  },
  {
   "cell_type": "code",
   "execution_count": 57,
   "metadata": {},
   "outputs": [
    {
     "data": {
      "text/plain": [
       "0.3285471551655335"
      ]
     },
     "execution_count": 57,
     "metadata": {},
     "output_type": "execute_result"
    }
   ],
   "source": [
    "best_svm_ovr.best_score_"
   ]
  },
  {
   "cell_type": "markdown",
   "metadata": {},
   "source": [
    "### TFIDF UNIGRAM CORPUS"
   ]
  },
  {
   "cell_type": "code",
   "execution_count": 58,
   "metadata": {},
   "outputs": [
    {
     "data": {
      "text/plain": [
       "RandomizedSearchCV(cv=3,\n",
       "                   estimator=OneVsRestClassifier(estimator=LinearSVC(max_iter=50000,\n",
       "                                                                     random_state=42,\n",
       "                                                                     verbose=1),\n",
       "                                                 n_jobs=-1),\n",
       "                   n_iter=5, n_jobs=-1,\n",
       "                   param_distributions={'estimator__C': [2, 1, 0.5, 0.1, 0.01,\n",
       "                                                         0]},\n",
       "                   scoring=make_scorer(jaccard_score, average=micro))"
      ]
     },
     "execution_count": 58,
     "metadata": {},
     "output_type": "execute_result"
    }
   ],
   "source": [
    "best_svm_ovr.fit(unigram_tfidf_corpus, labels)"
   ]
  },
  {
   "cell_type": "code",
   "execution_count": 59,
   "metadata": {},
   "outputs": [
    {
     "data": {
      "text/plain": [
       "{'estimator__C': 1}"
      ]
     },
     "execution_count": 59,
     "metadata": {},
     "output_type": "execute_result"
    }
   ],
   "source": [
    "best_svm_ovr.best_params_"
   ]
  },
  {
   "cell_type": "code",
   "execution_count": 60,
   "metadata": {},
   "outputs": [
    {
     "data": {
      "text/plain": [
       "0.35970803324115347"
      ]
     },
     "execution_count": 60,
     "metadata": {},
     "output_type": "execute_result"
    }
   ],
   "source": [
    "best_svm_ovr.best_score_"
   ]
  },
  {
   "cell_type": "markdown",
   "metadata": {},
   "source": [
    "### TFIDF UNI+BIGRAM CORPUS"
   ]
  },
  {
   "cell_type": "code",
   "execution_count": 61,
   "metadata": {},
   "outputs": [
    {
     "data": {
      "text/plain": [
       "RandomizedSearchCV(cv=3,\n",
       "                   estimator=OneVsRestClassifier(estimator=LinearSVC(max_iter=50000,\n",
       "                                                                     random_state=42,\n",
       "                                                                     verbose=1),\n",
       "                                                 n_jobs=-1),\n",
       "                   n_iter=5, n_jobs=-1,\n",
       "                   param_distributions={'estimator__C': [2, 1, 0.5, 0.1, 0.01,\n",
       "                                                         0]},\n",
       "                   scoring=make_scorer(jaccard_score, average=micro))"
      ]
     },
     "execution_count": 61,
     "metadata": {},
     "output_type": "execute_result"
    }
   ],
   "source": [
    "best_svm_ovr.fit(uni_and_bigram_tfidf_corpus, labels)"
   ]
  },
  {
   "cell_type": "code",
   "execution_count": 62,
   "metadata": {},
   "outputs": [
    {
     "data": {
      "text/plain": [
       "{'estimator__C': 1}"
      ]
     },
     "execution_count": 62,
     "metadata": {},
     "output_type": "execute_result"
    }
   ],
   "source": [
    "best_svm_ovr.best_params_"
   ]
  },
  {
   "cell_type": "code",
   "execution_count": 63,
   "metadata": {},
   "outputs": [
    {
     "data": {
      "text/plain": [
       "0.36267199408424333"
      ]
     },
     "execution_count": 63,
     "metadata": {},
     "output_type": "execute_result"
    }
   ],
   "source": [
    "best_svm_ovr.best_score_"
   ]
  },
  {
   "cell_type": "markdown",
   "metadata": {},
   "source": [
    "\n",
    "<div class=\"alert alert-success\">Best performing appears to be TFIDF Uni+Bigram corpus with C=1 </div>\n"
   ]
  },
  {
   "cell_type": "markdown",
   "metadata": {},
   "source": [
    "\n",
    "<div class=\"alert alert-success\">Also nice that LinearSVC appears to train fairly fast</div>\n"
   ]
  },
  {
   "cell_type": "markdown",
   "metadata": {},
   "source": [
    "# SVC - Radial Basis"
   ]
  },
  {
   "cell_type": "markdown",
   "metadata": {},
   "source": [
    "### Single Estimator in OVR"
   ]
  },
  {
   "cell_type": "code",
   "execution_count": 65,
   "metadata": {},
   "outputs": [
    {
     "name": "stdout",
     "output_type": "stream",
     "text": [
      "[LibSVM][LibSVM][LibSVM][LibSVM][LibSVM][LibSVM][LibSVM][LibSVM][LibSVM][LibSVM][LibSVM][LibSVM][LibSVM][LibSVM][LibSVM][LibSVM][LibSVM][LibSVM][LibSVM][LibSVM][LibSVM][LibSVM][LibSVM][LibSVM][LibSVM][LibSVM][LibSVM][LibSVM][LibSVM][LibSVM][LibSVM][LibSVM][LibSVM][LibSVM][LibSVM][LibSVM][LibSVM][LibSVM][LibSVM][LibSVM][LibSVM][LibSVM][LibSVM][LibSVM][LibSVM][LibSVM][LibSVM][LibSVM][LibSVM][LibSVM][LibSVM][LibSVM][LibSVM][LibSVM][LibSVM][LibSVM][LibSVM][LibSVM][LibSVM][LibSVM][LibSVM][LibSVM][LibSVM][LibSVM][LibSVM][LibSVM][LibSVM][LibSVM][LibSVM][LibSVM][LibSVM][LibSVM][LibSVM][LibSVM][LibSVM][LibSVM][LibSVM][LibSVM][LibSVM][LibSVM][LibSVM][LibSVM][LibSVM]"
     ]
    }
   ],
   "source": [
    "# Single iteration\n",
    "svm = SVC(random_state=42\n",
    "          , max_iter = -1 # -1 for no limit.\n",
    "          , verbose=1\n",
    "          , kernel = 'rbf'\n",
    "           )\n",
    "ovr = OneVsRestClassifier(svm).fit(X_train, y_train)"
   ]
  },
  {
   "cell_type": "code",
   "execution_count": 66,
   "metadata": {},
   "outputs": [
    {
     "data": {
      "text/plain": [
       "0.14110787172011663"
      ]
     },
     "execution_count": 66,
     "metadata": {},
     "output_type": "execute_result"
    }
   ],
   "source": [
    "ovr.score(X_test, y_test)"
   ]
  },
  {
   "cell_type": "code",
   "execution_count": 67,
   "metadata": {},
   "outputs": [],
   "source": [
    "y_pred_svm_ovr = ovr.predict(X_test)"
   ]
  },
  {
   "cell_type": "code",
   "execution_count": 68,
   "metadata": {},
   "outputs": [
    {
     "data": {
      "text/plain": [
       "0.2650083963056255"
      ]
     },
     "execution_count": 68,
     "metadata": {},
     "output_type": "execute_result"
    }
   ],
   "source": [
    "jaccard_score(y_test, y_pred_svm_ovr, average='micro')"
   ]
  },
  {
   "cell_type": "markdown",
   "metadata": {},
   "source": [
    "\n",
    "<div class=\"alert alert-warning\">Trains quite slow and performs worse</div>\n"
   ]
  },
  {
   "cell_type": "markdown",
   "metadata": {},
   "source": [
    "## Two best models\n",
    "### LogRegon on BOW Uni+Bigram Corpus w/ C=.5 => Jacc Score = .3416\n",
    "### LinearSVC on TFIDF Uni+Bigram Corpus w/ C=1 => Jacc Score = .36267"
   ]
  },
  {
   "cell_type": "markdown",
   "metadata": {},
   "source": [
    "### Checking performance on test set - Logistic Regression"
   ]
  },
  {
   "cell_type": "code",
   "execution_count": 125,
   "metadata": {},
   "outputs": [],
   "source": [
    "# Best Logistic Regression Performance on best data and parameters\n",
    "X_train = uni_and_bigram_bow_corpus[train_indices]\n",
    "y_train = labels.iloc[train_indices, :]\n",
    "\n",
    "X_test = uni_and_bigram_bow_corpus[test_indices]\n",
    "y_test = labels.iloc[test_indices, :]\n",
    "\n",
    "\n",
    "lr = LogisticRegression(max_iter=1000, C=.5)\n",
    "ovr = OneVsRestClassifier(lr).fit(X_train, y_train)"
   ]
  },
  {
   "cell_type": "code",
   "execution_count": 126,
   "metadata": {},
   "outputs": [
    {
     "name": "stdout",
     "output_type": "stream",
     "text": [
      "TRAINING DATA  (13716, 2773)\n",
      "TRAINING DATA  (13716, 83)\n",
      "TEST DATA  (3430, 2773)\n",
      "TEST DATA  (3430, 83)\n"
     ]
    }
   ],
   "source": [
    "print(\"TRAINING DATA \", X_train.shape)\n",
    "print(\"TRAINING DATA \", y_train.shape)\n",
    "print(\"TEST DATA \", X_test.shape)\n",
    "print(\"TEST DATA \", y_test.shape)"
   ]
  },
  {
   "cell_type": "code",
   "execution_count": 127,
   "metadata": {},
   "outputs": [
    {
     "data": {
      "text/plain": [
       "0.15160349854227406"
      ]
     },
     "execution_count": 127,
     "metadata": {},
     "output_type": "execute_result"
    }
   ],
   "source": [
    "ovr.score(X_test, y_test)"
   ]
  },
  {
   "cell_type": "code",
   "execution_count": 128,
   "metadata": {},
   "outputs": [],
   "source": [
    "y_pred_lr_ovr = ovr.predict(X_test)"
   ]
  },
  {
   "cell_type": "code",
   "execution_count": 49,
   "metadata": {},
   "outputs": [
    {
     "data": {
      "text/plain": [
       "0.3654808959156785"
      ]
     },
     "execution_count": 49,
     "metadata": {},
     "output_type": "execute_result"
    }
   ],
   "source": [
    "jaccard_score(y_test, y_pred_lr_ovr, average='micro')"
   ]
  },
  {
   "cell_type": "code",
   "execution_count": 50,
   "metadata": {},
   "outputs": [
    {
     "data": {
      "text/plain": [
       "0.02537496926481436"
      ]
     },
     "execution_count": 50,
     "metadata": {},
     "output_type": "execute_result"
    }
   ],
   "source": [
    "hamming_loss(y_test, y_pred_lr_ovr) # Fraction of labels incorrectly predicted; Lower is better"
   ]
  },
  {
   "cell_type": "code",
   "execution_count": 51,
   "metadata": {},
   "outputs": [
    {
     "data": {
      "text/plain": [
       "0.8483965014577259"
      ]
     },
     "execution_count": 51,
     "metadata": {},
     "output_type": "execute_result"
    }
   ],
   "source": [
    "zero_one_loss(y_test, y_pred_lr_ovr)"
   ]
  },
  {
   "cell_type": "code",
   "execution_count": 52,
   "metadata": {},
   "outputs": [],
   "source": [
    "y_prob_lr_ovr = ovr.predict_proba(X_test);"
   ]
  },
  {
   "cell_type": "code",
   "execution_count": 53,
   "metadata": {},
   "outputs": [
    {
     "data": {
      "text/plain": [
       "0.914257006644184"
      ]
     },
     "execution_count": 53,
     "metadata": {},
     "output_type": "execute_result"
    }
   ],
   "source": [
    "roc_auc_score(y_test, y_prob_lr_ovr, average='micro')"
   ]
  },
  {
   "cell_type": "code",
   "execution_count": 54,
   "metadata": {},
   "outputs": [
    {
     "name": "stdout",
     "output_type": "stream",
     "text": [
      "Micro-average quality numbers\n",
      "Precision: 0.6505, Recall: 0.4548, F1-measure: 0.5353\n"
     ]
    }
   ],
   "source": [
    "precision = precision_score(y_test, y_pred_lr_ovr, average='micro')\n",
    "recall = recall_score(y_test, y_pred_lr_ovr, average='micro')\n",
    "f1 = f1_score(y_test, y_pred_lr_ovr, average='micro')\n",
    "print(\"Micro-average quality numbers\")\n",
    "print(\"Precision: {:.4f}, Recall: {:.4f}, F1-measure: {:.4f}\".format(precision, recall, f1))"
   ]
  },
  {
   "cell_type": "code",
   "execution_count": null,
   "metadata": {},
   "outputs": [],
   "source": []
  },
  {
   "cell_type": "code",
   "execution_count": null,
   "metadata": {},
   "outputs": [],
   "source": []
  },
  {
   "cell_type": "markdown",
   "metadata": {},
   "source": [
    "### Checking Performance on Test Set - Linear SVC"
   ]
  },
  {
   "cell_type": "code",
   "execution_count": 151,
   "metadata": {},
   "outputs": [
    {
     "name": "stdout",
     "output_type": "stream",
     "text": [
      "[LibLinear][LibLinear][LibLinear][LibLinear][LibLinear][LibLinear][LibLinear][LibLinear][LibLinear][LibLinear][LibLinear][LibLinear][LibLinear][LibLinear][LibLinear][LibLinear][LibLinear][LibLinear][LibLinear][LibLinear][LibLinear][LibLinear][LibLinear][LibLinear][LibLinear][LibLinear][LibLinear][LibLinear][LibLinear][LibLinear][LibLinear][LibLinear][LibLinear][LibLinear][LibLinear][LibLinear][LibLinear][LibLinear][LibLinear][LibLinear][LibLinear][LibLinear][LibLinear][LibLinear][LibLinear][LibLinear][LibLinear][LibLinear][LibLinear][LibLinear][LibLinear][LibLinear][LibLinear][LibLinear][LibLinear][LibLinear][LibLinear][LibLinear][LibLinear][LibLinear][LibLinear][LibLinear][LibLinear][LibLinear][LibLinear][LibLinear][LibLinear][LibLinear][LibLinear][LibLinear][LibLinear][LibLinear][LibLinear][LibLinear][LibLinear][LibLinear][LibLinear][LibLinear][LibLinear][LibLinear][LibLinear][LibLinear][LibLinear]"
     ]
    }
   ],
   "source": [
    "# Best Logistic Regression Performance on best data and parameters\n",
    "X_train = uni_and_bigram_tfidf_corpus[train_indices]\n",
    "y_train = labels.iloc[train_indices, :]\n",
    "\n",
    "X_test = uni_and_bigram_tfidf_corpus[test_indices]\n",
    "y_test = labels.iloc[test_indices, :]\n",
    "\n",
    "\n",
    "svm = LinearSVC(random_state=42\n",
    "                , max_iter = 50000\n",
    "                , verbose=1\n",
    "                , C=1)\n",
    "\n",
    "ovr = OneVsRestClassifier(svm).fit(X_train, y_train)"
   ]
  },
  {
   "cell_type": "code",
   "execution_count": 152,
   "metadata": {},
   "outputs": [
    {
     "data": {
      "text/plain": [
       "0.18658892128279883"
      ]
     },
     "execution_count": 152,
     "metadata": {},
     "output_type": "execute_result"
    }
   ],
   "source": [
    "ovr.score(X_test, y_test)"
   ]
  },
  {
   "cell_type": "code",
   "execution_count": 153,
   "metadata": {},
   "outputs": [],
   "source": [
    "y_pred_svm_ovr = ovr.predict(X_test)"
   ]
  },
  {
   "cell_type": "code",
   "execution_count": 154,
   "metadata": {},
   "outputs": [
    {
     "data": {
      "text/plain": [
       "0.38786254427108263"
      ]
     },
     "execution_count": 154,
     "metadata": {},
     "output_type": "execute_result"
    }
   ],
   "source": [
    "jaccard_score(y_test, y_pred_svm_ovr, average='micro')"
   ]
  },
  {
   "cell_type": "code",
   "execution_count": 155,
   "metadata": {},
   "outputs": [
    {
     "data": {
      "text/plain": [
       "0.022463029962415258"
      ]
     },
     "execution_count": 155,
     "metadata": {},
     "output_type": "execute_result"
    }
   ],
   "source": [
    "hamming_loss(y_test, y_pred_svm_ovr) # Fraction of labels incorrectly predicted; Lower is better"
   ]
  },
  {
   "cell_type": "code",
   "execution_count": 156,
   "metadata": {},
   "outputs": [
    {
     "data": {
      "text/plain": [
       "0.8134110787172012"
      ]
     },
     "execution_count": 156,
     "metadata": {},
     "output_type": "execute_result"
    }
   ],
   "source": [
    "zero_one_loss(y_test, y_pred_svm_ovr)"
   ]
  },
  {
   "cell_type": "code",
   "execution_count": 63,
   "metadata": {},
   "outputs": [
    {
     "name": "stdout",
     "output_type": "stream",
     "text": [
      "Micro-average quality numbers\n",
      "Precision: 0.7574, Recall: 0.4429, F1-measure: 0.5589\n"
     ]
    }
   ],
   "source": [
    "precision = precision_score(y_test, y_pred_svm_ovr, average='micro')\n",
    "recall = recall_score(y_test, y_pred_svm_ovr, average='micro')\n",
    "f1 = f1_score(y_test, y_pred_svm_ovr, average='micro')\n",
    "print(\"Micro-average quality numbers\")\n",
    "print(\"Precision: {:.4f}, Recall: {:.4f}, F1-measure: {:.4f}\".format(precision, recall, f1))"
   ]
  },
  {
   "cell_type": "markdown",
   "metadata": {},
   "source": [
    "\n",
    "<div class=\"alert alert-success\">It appears that LinearSVC performs slightly better than LogReg on the Test data</div>\n",
    "\n",
    "Although it's worth pointing out that maybe it's not a fair comparison, because it's not really the same data (one is BOW, the other TFIDF), but CrossValidation suggested those are the best corresponding. I went back and tried giving LogReg the TFIDF corpus and it did much worse! So verified :)\n"
   ]
  },
  {
   "cell_type": "markdown",
   "metadata": {},
   "source": [
    "### Checking Performance on Test Set - Linear SVC - WITH BALANCED DATA"
   ]
  },
  {
   "cell_type": "code",
   "execution_count": 132,
   "metadata": {},
   "outputs": [
    {
     "name": "stdout",
     "output_type": "stream",
     "text": [
      "[LibLinear][LibLinear][LibLinear][LibLinear][LibLinear][LibLinear][LibLinear][LibLinear][LibLinear][LibLinear][LibLinear][LibLinear][LibLinear][LibLinear][LibLinear][LibLinear][LibLinear][LibLinear][LibLinear][LibLinear][LibLinear][LibLinear][LibLinear][LibLinear][LibLinear][LibLinear][LibLinear][LibLinear][LibLinear][LibLinear][LibLinear][LibLinear][LibLinear][LibLinear][LibLinear][LibLinear][LibLinear][LibLinear][LibLinear][LibLinear][LibLinear][LibLinear][LibLinear][LibLinear][LibLinear][LibLinear][LibLinear][LibLinear][LibLinear][LibLinear][LibLinear][LibLinear][LibLinear][LibLinear][LibLinear][LibLinear][LibLinear][LibLinear][LibLinear][LibLinear][LibLinear][LibLinear][LibLinear][LibLinear][LibLinear][LibLinear][LibLinear][LibLinear][LibLinear][LibLinear][LibLinear][LibLinear][LibLinear][LibLinear][LibLinear][LibLinear][LibLinear][LibLinear][LibLinear][LibLinear][LibLinear][LibLinear][LibLinear]"
     ]
    }
   ],
   "source": [
    "# Best Logistic Regression Performance on best data and parameters\n",
    "X_train = uni_and_bigram_tfidf_corpus[train_indices]\n",
    "y_train = labels.iloc[train_indices, :]\n",
    "\n",
    "X_test = uni_and_bigram_tfidf_corpus[test_indices]\n",
    "y_test = labels.iloc[test_indices, :]\n",
    "\n",
    "\n",
    "svm = LinearSVC(random_state=42\n",
    "                , max_iter = 50000\n",
    "                , verbose=1\n",
    "                , C=1\n",
    "                , class_weight = 'balanced')\n",
    "\n",
    "ovr = OneVsRestClassifier(svm).fit(X_train, y_train)"
   ]
  },
  {
   "cell_type": "code",
   "execution_count": 133,
   "metadata": {},
   "outputs": [
    {
     "data": {
      "text/plain": [
       "0.0912536443148688"
      ]
     },
     "execution_count": 133,
     "metadata": {},
     "output_type": "execute_result"
    }
   ],
   "source": [
    "ovr.score(X_test, y_test)"
   ]
  },
  {
   "cell_type": "code",
   "execution_count": 134,
   "metadata": {},
   "outputs": [],
   "source": [
    "y_pred_svm_ovr = ovr.predict(X_test)"
   ]
  },
  {
   "cell_type": "code",
   "execution_count": 135,
   "metadata": {},
   "outputs": [
    {
     "data": {
      "text/plain": [
       "0.3546023794614903"
      ]
     },
     "execution_count": 135,
     "metadata": {},
     "output_type": "execute_result"
    }
   ],
   "source": [
    "jaccard_score(y_test, y_pred_svm_ovr, average='micro')"
   ]
  },
  {
   "cell_type": "code",
   "execution_count": 136,
   "metadata": {},
   "outputs": [
    {
     "data": {
      "text/plain": [
       "0.03620429238821174"
      ]
     },
     "execution_count": 136,
     "metadata": {},
     "output_type": "execute_result"
    }
   ],
   "source": [
    "hamming_loss(y_test, y_pred_svm_ovr) # Fraction of labels incorrectly predicted; Lower is better"
   ]
  },
  {
   "cell_type": "code",
   "execution_count": 137,
   "metadata": {},
   "outputs": [
    {
     "data": {
      "text/plain": [
       "0.9087463556851312"
      ]
     },
     "execution_count": 137,
     "metadata": {},
     "output_type": "execute_result"
    }
   ],
   "source": [
    "zero_one_loss(y_test, y_pred_svm_ovr)"
   ]
  },
  {
   "cell_type": "code",
   "execution_count": 138,
   "metadata": {},
   "outputs": [
    {
     "name": "stdout",
     "output_type": "stream",
     "text": [
      "Micro-average quality numbers\n",
      "Precision: 0.4536, Recall: 0.6190, F1-measure: 0.5236\n"
     ]
    }
   ],
   "source": [
    "precision = precision_score(y_test, y_pred_svm_ovr, average='micro')\n",
    "recall = recall_score(y_test, y_pred_svm_ovr, average='micro')\n",
    "f1 = f1_score(y_test, y_pred_svm_ovr, average='micro')\n",
    "print(\"Micro-average quality numbers\")\n",
    "print(\"Precision: {:.4f}, Recall: {:.4f}, F1-measure: {:.4f}\".format(precision, recall, f1))"
   ]
  },
  {
   "cell_type": "markdown",
   "metadata": {},
   "source": [
    "\n",
    "<div class=\"alert alert-warning\">Performs a bit worse overall on F1, BUT DOES MUCH BETTER ON RECALL!</div>\n"
   ]
  },
  {
   "cell_type": "markdown",
   "metadata": {},
   "source": [
    "### Testing the best LogReg model on the LDA labels"
   ]
  },
  {
   "cell_type": "code",
   "execution_count": 250,
   "metadata": {},
   "outputs": [],
   "source": [
    "# Best Logistic Regression Performance on best data and parameters\n",
    "X_train = uni_and_bigram_bow_corpus[train_indices]\n",
    "y_train = lda_labels[train_indices, :]\n",
    "\n",
    "X_test = uni_and_bigram_bow_corpus[test_indices]\n",
    "y_test = lda_labels[test_indices, :]\n",
    "\n",
    "\n",
    "lr = LogisticRegression(max_iter=1000, C=.5)\n",
    "ovr = OneVsRestClassifier(lr).fit(X_train, y_train)"
   ]
  },
  {
   "cell_type": "code",
   "execution_count": 251,
   "metadata": {},
   "outputs": [
    {
     "data": {
      "text/plain": [
       "0.2087463556851312"
      ]
     },
     "execution_count": 251,
     "metadata": {},
     "output_type": "execute_result"
    }
   ],
   "source": [
    "ovr.score(X_test, y_test)"
   ]
  },
  {
   "cell_type": "code",
   "execution_count": 252,
   "metadata": {},
   "outputs": [],
   "source": [
    "y_pred_lr_ovr = ovr.predict(X_test)"
   ]
  },
  {
   "cell_type": "code",
   "execution_count": 253,
   "metadata": {},
   "outputs": [
    {
     "data": {
      "text/plain": [
       "0.3024501271923952"
      ]
     },
     "execution_count": 253,
     "metadata": {},
     "output_type": "execute_result"
    }
   ],
   "source": [
    "jaccard_score(y_test, y_pred_lr_ovr, average='micro')"
   ]
  },
  {
   "cell_type": "code",
   "execution_count": 254,
   "metadata": {},
   "outputs": [
    {
     "data": {
      "text/plain": [
       "0.07594752186588921"
      ]
     },
     "execution_count": 254,
     "metadata": {},
     "output_type": "execute_result"
    }
   ],
   "source": [
    "hamming_loss(y_test, y_pred_lr_ovr)"
   ]
  },
  {
   "cell_type": "code",
   "execution_count": 255,
   "metadata": {},
   "outputs": [
    {
     "data": {
      "text/plain": [
       "0.7912536443148688"
      ]
     },
     "execution_count": 255,
     "metadata": {},
     "output_type": "execute_result"
    }
   ],
   "source": [
    "zero_one_loss(y_test, y_pred_lr_ovr)"
   ]
  },
  {
   "cell_type": "markdown",
   "metadata": {},
   "source": [
    "### Testing the best LinearSVC on the LDA labels"
   ]
  },
  {
   "cell_type": "code",
   "execution_count": 256,
   "metadata": {},
   "outputs": [
    {
     "name": "stdout",
     "output_type": "stream",
     "text": [
      "[LibLinear][LibLinear][LibLinear][LibLinear][LibLinear][LibLinear][LibLinear][LibLinear][LibLinear][LibLinear][LibLinear][LibLinear][LibLinear][LibLinear][LibLinear][LibLinear][LibLinear][LibLinear][LibLinear][LibLinear]"
     ]
    }
   ],
   "source": [
    "# Best Logistic Regression Performance on best data and parameters\n",
    "X_train = uni_and_bigram_tfidf_corpus[train_indices]\n",
    "y_train = lda_labels[train_indices, :]\n",
    "\n",
    "X_test = uni_and_bigram_tfidf_corpus[test_indices]\n",
    "y_test = lda_labels[test_indices, :]\n",
    "\n",
    "\n",
    "svm = LinearSVC(random_state=42\n",
    "                , max_iter = 50000\n",
    "                , verbose=1\n",
    "                , C=1)\n",
    "\n",
    "ovr = OneVsRestClassifier(svm).fit(X_train, y_train)"
   ]
  },
  {
   "cell_type": "code",
   "execution_count": 257,
   "metadata": {},
   "outputs": [
    {
     "data": {
      "text/plain": [
       "0.2588921282798834"
      ]
     },
     "execution_count": 257,
     "metadata": {},
     "output_type": "execute_result"
    }
   ],
   "source": [
    "ovr.score(X_test, y_test)"
   ]
  },
  {
   "cell_type": "code",
   "execution_count": 258,
   "metadata": {},
   "outputs": [],
   "source": [
    "y_pred_svm_ovr = ovr.predict(X_test)"
   ]
  },
  {
   "cell_type": "code",
   "execution_count": 259,
   "metadata": {},
   "outputs": [
    {
     "data": {
      "text/plain": [
       "0.3269373791462145"
      ]
     },
     "execution_count": 259,
     "metadata": {},
     "output_type": "execute_result"
    }
   ],
   "source": [
    "jaccard_score(y_test, y_pred_svm_ovr, average='micro')"
   ]
  },
  {
   "cell_type": "code",
   "execution_count": 262,
   "metadata": {},
   "outputs": [
    {
     "data": {
      "text/plain": [
       "0.06596209912536444"
      ]
     },
     "execution_count": 262,
     "metadata": {},
     "output_type": "execute_result"
    }
   ],
   "source": [
    "hamming_loss(y_test, y_pred_svm_ovr) # Fraction of labels incorrectly predicted; Lower is better"
   ]
  },
  {
   "cell_type": "code",
   "execution_count": 261,
   "metadata": {},
   "outputs": [
    {
     "data": {
      "text/plain": [
       "0.7411078717201166"
      ]
     },
     "execution_count": 261,
     "metadata": {},
     "output_type": "execute_result"
    }
   ],
   "source": [
    "zero_one_loss(y_test, y_pred_svm_ovr)"
   ]
  },
  {
   "cell_type": "markdown",
   "metadata": {},
   "source": [
    "\n",
    "<div class=\"alert alert-warning\">Unfortunately, both models appear to be performing worse in terms of Jaccard Score, Hamming Loss, and Exact Match Rate</div>\n",
    "\n",
    "They are, however, performing better on zero_one_loss. Oh well.\n"
   ]
  },
  {
   "cell_type": "markdown",
   "metadata": {},
   "source": [
    "### Testing the best LinearSVC on the LDA labels - WITH BALANCED DATA"
   ]
  },
  {
   "cell_type": "code",
   "execution_count": 92,
   "metadata": {},
   "outputs": [
    {
     "name": "stdout",
     "output_type": "stream",
     "text": [
      "[LibLinear][LibLinear][LibLinear][LibLinear][LibLinear][LibLinear][LibLinear][LibLinear][LibLinear][LibLinear][LibLinear][LibLinear][LibLinear][LibLinear][LibLinear][LibLinear][LibLinear][LibLinear][LibLinear][LibLinear]"
     ]
    }
   ],
   "source": [
    "# Best Logistic Regression Performance on best data and parameters\n",
    "X_train = uni_and_bigram_tfidf_corpus[train_indices]\n",
    "y_train = lda_labels[train_indices, :]\n",
    "\n",
    "X_test = uni_and_bigram_tfidf_corpus[test_indices]\n",
    "y_test = lda_labels[test_indices, :]\n",
    "\n",
    "\n",
    "svm = LinearSVC(random_state=42\n",
    "                , max_iter = 50000\n",
    "                , verbose=1\n",
    "                , C=1\n",
    "                , class_weight = 'balanced')\n",
    "\n",
    "ovr = OneVsRestClassifier(svm).fit(X_train, y_train)"
   ]
  },
  {
   "cell_type": "code",
   "execution_count": 93,
   "metadata": {},
   "outputs": [
    {
     "data": {
      "text/plain": [
       "0.1274052478134111"
      ]
     },
     "execution_count": 93,
     "metadata": {},
     "output_type": "execute_result"
    }
   ],
   "source": [
    "ovr.score(X_test, y_test)"
   ]
  },
  {
   "cell_type": "code",
   "execution_count": 94,
   "metadata": {},
   "outputs": [],
   "source": [
    "y_pred_svm_ovr = ovr.predict(X_test)"
   ]
  },
  {
   "cell_type": "code",
   "execution_count": 95,
   "metadata": {},
   "outputs": [
    {
     "data": {
      "text/plain": [
       "0.29479402444545044"
      ]
     },
     "execution_count": 95,
     "metadata": {},
     "output_type": "execute_result"
    }
   ],
   "source": [
    "jaccard_score(y_test, y_pred_svm_ovr, average='micro')"
   ]
  },
  {
   "cell_type": "code",
   "execution_count": 96,
   "metadata": {},
   "outputs": [
    {
     "data": {
      "text/plain": [
       "0.11354227405247813"
      ]
     },
     "execution_count": 96,
     "metadata": {},
     "output_type": "execute_result"
    }
   ],
   "source": [
    "hamming_loss(y_test, y_pred_svm_ovr) # Fraction of labels incorrectly predicted; Lower is better"
   ]
  },
  {
   "cell_type": "code",
   "execution_count": 97,
   "metadata": {},
   "outputs": [
    {
     "data": {
      "text/plain": [
       "0.8725947521865889"
      ]
     },
     "execution_count": 97,
     "metadata": {},
     "output_type": "execute_result"
    }
   ],
   "source": [
    "zero_one_loss(y_test, y_pred_svm_ovr)"
   ]
  },
  {
   "cell_type": "code",
   "execution_count": 98,
   "metadata": {},
   "outputs": [
    {
     "name": "stdout",
     "output_type": "stream",
     "text": [
      "Micro-average quality numbers\n",
      "Precision: 0.3647, Recall: 0.6059, F1-measure: 0.4554\n"
     ]
    }
   ],
   "source": [
    "precision = precision_score(y_test, y_pred_svm_ovr, average='micro')\n",
    "recall = recall_score(y_test, y_pred_svm_ovr, average='micro')\n",
    "f1 = f1_score(y_test, y_pred_svm_ovr, average='micro')\n",
    "print(\"Micro-average quality numbers\")\n",
    "print(\"Precision: {:.4f}, Recall: {:.4f}, F1-measure: {:.4f}\".format(precision, recall, f1))"
   ]
  },
  {
   "cell_type": "markdown",
   "metadata": {},
   "source": [
    "\n",
    "<div class=\"alert alert-warning\">Unfortunately, both models appear to be performing worse in terms of Jaccard Score, Hamming Loss, and Exact Match Rate</div>\n",
    "\n",
    "Again, Recall improves a lot when we use balanced data, but overall performance is not as good in terms of F1 score\n"
   ]
  },
  {
   "cell_type": "markdown",
   "metadata": {},
   "source": [
    "# Some Deep Learning"
   ]
  },
  {
   "cell_type": "code",
   "execution_count": 279,
   "metadata": {},
   "outputs": [],
   "source": [
    "# Will be using this preprocessed data: preprocessed_description_strings"
   ]
  },
  {
   "cell_type": "code",
   "execution_count": 101,
   "metadata": {},
   "outputs": [],
   "source": [
    "# Transforming to Pandas Series so index slicing works\n",
    "preprocessed_descriptions = pd.Series(preprocessed_description_strings)"
   ]
  },
  {
   "cell_type": "code",
   "execution_count": 102,
   "metadata": {},
   "outputs": [],
   "source": [
    "train_texts = preprocessed_descriptions[train_indices]\n",
    "y_train = labels.iloc[train_indices, :]\n",
    "\n",
    "test_texts = preprocessed_descriptions[test_indices]\n",
    "y_test = labels.iloc[test_indices, :]\n",
    "\n",
    "tokenizer = Tokenizer()\n",
    "tokenizer.fit_on_texts(train_texts)\n",
    "max_length = max([len(s.split()) for s in train_texts])"
   ]
  },
  {
   "cell_type": "code",
   "execution_count": 103,
   "metadata": {},
   "outputs": [],
   "source": [
    "encoded_train_texts = tokenizer.texts_to_sequences(train_texts)    \n",
    "X_train = pad_sequences(encoded_train_texts, maxlen=max_length, padding='post')\n",
    "\n",
    "encoded_test_texts = tokenizer.texts_to_sequences(test_texts)\n",
    "X_test = pad_sequences(encoded_test_texts, maxlen=max_length, padding='post')"
   ]
  },
  {
   "cell_type": "code",
   "execution_count": 71,
   "metadata": {},
   "outputs": [
    {
     "name": "stdout",
     "output_type": "stream",
     "text": [
      "53868\n"
     ]
    }
   ],
   "source": [
    "vocab_size = len(tokenizer.word_index) + 1\n",
    "print(vocab_size)"
   ]
  },
  {
   "cell_type": "code",
   "execution_count": 72,
   "metadata": {},
   "outputs": [
    {
     "data": {
      "text/plain": [
       "array([[    6,     1,   356, ...,     0,     0,     0],\n",
       "       [38737, 50189, 44577, ...,     0,     0,     0],\n",
       "       [  139,   106,  9602, ...,     0,     0,     0],\n",
       "       ...,\n",
       "       [   20,     6,  2881, ...,     0,     0,     0],\n",
       "       [ 2883,  1751,     1, ...,     0,     0,     0],\n",
       "       [  572,   648,  3923, ...,     0,     0,     0]], dtype=int32)"
      ]
     },
     "execution_count": 72,
     "metadata": {},
     "output_type": "execute_result"
    }
   ],
   "source": [
    "X_test"
   ]
  },
  {
   "cell_type": "markdown",
   "metadata": {},
   "source": [
    "## Vanilla, fully connected"
   ]
  },
  {
   "cell_type": "code",
   "execution_count": 392,
   "metadata": {},
   "outputs": [
    {
     "name": "stdout",
     "output_type": "stream",
     "text": [
      "Epoch 1/10\n",
      "429/429 [==============================] - 1s 2ms/step - loss: 32.1274 - accuracy: 0.0534\n",
      "Epoch 2/10\n",
      "429/429 [==============================] - 1s 1ms/step - loss: 1.3510 - accuracy: 0.0946\n",
      "Epoch 3/10\n",
      "429/429 [==============================] - 1s 1ms/step - loss: 0.7287 - accuracy: 0.1810\n",
      "Epoch 4/10\n",
      "429/429 [==============================] - 1s 1ms/step - loss: 0.4178 - accuracy: 0.1969\n",
      "Epoch 5/10\n",
      "429/429 [==============================] - 1s 1ms/step - loss: 0.3132 - accuracy: 0.2022\n",
      "Epoch 6/10\n",
      "429/429 [==============================] - 1s 1ms/step - loss: 0.1552 - accuracy: 0.2064\n",
      "Epoch 7/10\n",
      "429/429 [==============================] - 1s 1ms/step - loss: 0.1288 - accuracy: 0.2082\n",
      "Epoch 8/10\n",
      "429/429 [==============================] - 1s 1ms/step - loss: 0.1274 - accuracy: 0.2087\n",
      "Epoch 9/10\n",
      "429/429 [==============================] - 1s 1ms/step - loss: 0.1253 - accuracy: 0.2087\n",
      "Epoch 10/10\n",
      "429/429 [==============================] - 1s 1ms/step - loss: 0.1249 - accuracy: 0.2098\n",
      "108/108 [==============================] - 0s 730us/step - loss: 0.2777 - accuracy: 0.2073\n",
      "Test accuracy: 0.207289\n",
      "Test loss: 0.277656\n"
     ]
    }
   ],
   "source": [
    "model = Sequential()\n",
    "\n",
    "model.add(Dense(200, input_dim=X_train.shape[1], kernel_initializer='he_uniform', activation='relu'))\n",
    "model.add(Dense(200))\n",
    "model.add(Dense(83, activation='sigmoid'))\n",
    "model.compile(loss='binary_crossentropy', optimizer='adam', metrics=['accuracy'])\n",
    "model.fit(X_train, y_train, epochs=10, verbose=1)\n",
    "loss, acc = model.evaluate(X_test, y_test, verbose=1)\n",
    "print('Test accuracy: %f' % acc)\n",
    "print('Test loss: %f' % loss)"
   ]
  },
  {
   "cell_type": "markdown",
   "metadata": {},
   "source": [
    "## Convolutional Layer Added"
   ]
  },
  {
   "cell_type": "code",
   "execution_count": 73,
   "metadata": {},
   "outputs": [],
   "source": [
    "def build_cnn_classifier(vocab_size: int, max_length: int, emb_size=256, num_filters=32, kernel_size=8) -> Sequential:\n",
    "    model = Sequential()\n",
    "    model.add(Embedding(vocab_size, emb_size, input_length=max_length)) # max_len x emb_size\n",
    "    \n",
    "    model.add(Conv1D(filters=num_filters, kernel_size=kernel_size, activation='relu')) # , input_shape=(vocab_size,)\n",
    "    model.add(MaxPooling1D(pool_size=2))\n",
    "    model.add(Flatten())\n",
    "#     model.add(Dropout(rate=0.3))\n",
    "#     model.add(Dense(1000, activation='relu'))\n",
    "    model.add(Dropout(rate=0.3))\n",
    "    model.add(Dense(500, activation='relu'))\n",
    "    model.add(Dropout(rate=0.3))\n",
    "    model.add(Dense(200, activation='relu')) # <-- Tried values: 10, 100, 200\n",
    "    model.add(Dropout(rate=0.3))\n",
    "    model.add(Dense(100, activation='relu')) # \n",
    "    model.add(Dropout(rate=0.3))\n",
    "    model.add(Dense(100, activation='relu')) # \n",
    "    model.add(Dense(83, activation='sigmoid')) #  <--- Number here should equal the number of outputs i.e. the number of categories \n",
    "    print(model.summary())\n",
    "    model.compile(loss='binary_crossentropy', optimizer='adam', metrics=['accuracy'])\n",
    "    return model"
   ]
  },
  {
   "cell_type": "code",
   "execution_count": 74,
   "metadata": {},
   "outputs": [
    {
     "name": "stdout",
     "output_type": "stream",
     "text": [
      "Model: \"sequential_3\"\n",
      "_________________________________________________________________\n",
      "Layer (type)                 Output Shape              Param #   \n",
      "=================================================================\n",
      "embedding_3 (Embedding)      (None, 999, 256)          13790208  \n",
      "_________________________________________________________________\n",
      "conv1d_3 (Conv1D)            (None, 992, 32)           65568     \n",
      "_________________________________________________________________\n",
      "max_pooling1d_3 (MaxPooling1 (None, 496, 32)           0         \n",
      "_________________________________________________________________\n",
      "flatten_3 (Flatten)          (None, 15872)             0         \n",
      "_________________________________________________________________\n",
      "dropout_13 (Dropout)         (None, 15872)             0         \n",
      "_________________________________________________________________\n",
      "dense_16 (Dense)             (None, 500)               7936500   \n",
      "_________________________________________________________________\n",
      "dropout_14 (Dropout)         (None, 500)               0         \n",
      "_________________________________________________________________\n",
      "dense_17 (Dense)             (None, 200)               100200    \n",
      "_________________________________________________________________\n",
      "dropout_15 (Dropout)         (None, 200)               0         \n",
      "_________________________________________________________________\n",
      "dense_18 (Dense)             (None, 100)               20100     \n",
      "_________________________________________________________________\n",
      "dropout_16 (Dropout)         (None, 100)               0         \n",
      "_________________________________________________________________\n",
      "dense_19 (Dense)             (None, 100)               10100     \n",
      "_________________________________________________________________\n",
      "dense_20 (Dense)             (None, 83)                8383      \n",
      "=================================================================\n",
      "Total params: 21,931,059\n",
      "Trainable params: 21,931,059\n",
      "Non-trainable params: 0\n",
      "_________________________________________________________________\n",
      "None\n",
      "Epoch 1/10\n",
      "429/429 [==============================] - 150s 350ms/step - loss: 0.1408 - accuracy: 0.1749 - val_loss: 0.1163 - val_accuracy: 0.2487\n",
      "Epoch 2/10\n",
      "429/429 [==============================] - 129s 302ms/step - loss: 0.1106 - accuracy: 0.2454 - val_loss: 0.1060 - val_accuracy: 0.2534\n",
      "Epoch 3/10\n",
      "429/429 [==============================] - 137s 320ms/step - loss: 0.1004 - accuracy: 0.2566 - val_loss: 0.1013 - val_accuracy: 0.3006\n",
      "Epoch 4/10\n",
      "429/429 [==============================] - 136s 318ms/step - loss: 0.0923 - accuracy: 0.3166 - val_loss: 0.0965 - val_accuracy: 0.3087\n",
      "Epoch 5/10\n",
      "429/429 [==============================] - 139s 324ms/step - loss: 0.0848 - accuracy: 0.3590 - val_loss: 0.0930 - val_accuracy: 0.3222\n",
      "Epoch 6/10\n",
      "429/429 [==============================] - 139s 323ms/step - loss: 0.0791 - accuracy: 0.3829 - val_loss: 0.0912 - val_accuracy: 0.3315\n",
      "Epoch 7/10\n",
      "429/429 [==============================] - 144s 336ms/step - loss: 0.0747 - accuracy: 0.4089 - val_loss: 0.0904 - val_accuracy: 0.3350\n",
      "Epoch 8/10\n",
      "429/429 [==============================] - 129s 301ms/step - loss: 0.0716 - accuracy: 0.4172 - val_loss: 0.0898 - val_accuracy: 0.3414\n",
      "Epoch 9/10\n",
      "429/429 [==============================] - 144s 336ms/step - loss: 0.0687 - accuracy: 0.4329 - val_loss: 0.0904 - val_accuracy: 0.3569\n",
      "Epoch 10/10\n",
      "429/429 [==============================] - 133s 309ms/step - loss: 0.0663 - accuracy: 0.4369 - val_loss: 0.0899 - val_accuracy: 0.3507\n",
      "108/108 [==============================] - 5s 47ms/step - loss: 0.0899 - accuracy: 0.3507\n",
      "Test accuracy: 0.350729\n"
     ]
    }
   ],
   "source": [
    "model_cnn = build_cnn_classifier(vocab_size, max_length)\n",
    "\n",
    "# Define a callback to monitor val_loss\n",
    "monitor_val_loss = EarlyStopping(monitor='val_loss', # <-- Switched to val_loss, because what does accuracy even mean when my true labels are 1-hot encoded and the output of the network are probabilities i.e. floats\n",
    "                       patience=2)\n",
    "\n",
    "h_callback = model_cnn.fit(X_train, y_train\n",
    "                      , validation_data=(X_test, y_test)\n",
    "                      , callbacks = [monitor_val_loss]\n",
    "                      , epochs=10 # Tried 10, 15\n",
    "                      , verbose=1)\n",
    "\n",
    "\n",
    "loss, acc = model_cnn.evaluate(X_test, y_test, verbose=1)\n",
    "print('Test accuracy: %f' % acc)"
   ]
  },
  {
   "cell_type": "markdown",
   "metadata": {},
   "source": [
    "----------------\n",
    "results for CNN: (I think that the loss is not relevant, because of the different architecture?\n",
    "- Dense = 10 epochs = 10 ==> loss: 0.1174 - accuracy: 0.2656l - AUC: 0.7493\n",
    "- Dense = 100 epochs = 10 ==> loss: 0.1784 - accuracy: 0.3478 - AUC:  0.8445\n",
    "- Dense = 100 epochs = 15 ==> loss: 0.2429 - accuracy: 0.3359 - AUC:  0.8372 # I think it begins overfitting after ~10 epochs\n",
    "- Dense = 100 Dense =100 epochs = 10 ==> loss: 0.1517 - accuracy: 0.3397 - AUC:  0.8634\n",
    "- Dropout(.3) > Dense(100) > Dropout(.3) > Dense(100) ==> loss: 0.0898 - accuracy: 0.3478 - AUC:  0.8634\n",
    "- Dropout(.3) > Dense(100) > Dropout(.3) > Dense(100) > Dropout(.3) > Dense(100) ==> loss: 0.0900 - accuracy: 0.3501 - AUC:  0.8588\n",
    "- Dropout(.3) > Dense(200) > Dropout(.3) > Dense(100) > Dropout(.3) > Dense(100) ==> loss: 0.0892 - accuracy: 0.3507 - AUC:  0.8684\n",
    "- Dropout(.3) > Dense(500) > Dropout(.3) > Dense(200) > Dropout(.3) > Dense(100) > Dropout(.3) > Dense(100) ==> loss: 0.0903 - accuracy: 0.3306 - AUC: 0.8684; Precision: 0.5230, Recall: 0.4316, F1-measure: 0.4730  \n",
    "- Embedding_size = 256 ; Dropout(.3) > Dense(500) > Dropout(.3) > Dense(200) > Dropout(.3) > Dense(100) > Dropout(.3) > Dense(100) ==> loss: 0.0899 - accuracy: 0.3507 - AUC:  0.8548; Precision: 0.5296, Recall: 0.4324, F1-measure: 0.4761"
   ]
  },
  {
   "cell_type": "code",
   "execution_count": 104,
   "metadata": {},
   "outputs": [],
   "source": [
    "predictions_cnn = model_cnn.predict(X_test)"
   ]
  },
  {
   "cell_type": "code",
   "execution_count": 105,
   "metadata": {},
   "outputs": [
    {
     "name": "stdout",
     "output_type": "stream",
     "text": [
      "Test AUC:  0.8548\n"
     ]
    }
   ],
   "source": [
    "print('Test AUC: ', round(roc_auc_score(y_test, predictions_cnn), 4))"
   ]
  },
  {
   "cell_type": "code",
   "execution_count": 106,
   "metadata": {},
   "outputs": [
    {
     "name": "stdout",
     "output_type": "stream",
     "text": [
      "THRESHOLD VALUE:  0.1\n",
      "Micro-average quality numbers\n",
      "Precision: 0.2545, Recall: 0.6686, F1-measure: 0.3687\n",
      "THRESHOLD VALUE:  0.2\n",
      "Micro-average quality numbers\n",
      "Precision: 0.4075, Recall: 0.5238, F1-measure: 0.4584\n",
      "THRESHOLD VALUE:  0.25\n",
      "Micro-average quality numbers\n",
      "Precision: 0.4714, Recall: 0.4746, F1-measure: 0.4730\n",
      "THRESHOLD VALUE:  0.3\n",
      "Micro-average quality numbers\n",
      "Precision: 0.5296, Recall: 0.4324, F1-measure: 0.4761\n",
      "THRESHOLD VALUE:  0.35\n",
      "Micro-average quality numbers\n",
      "Precision: 0.5842, Recall: 0.3938, F1-measure: 0.4705\n",
      "THRESHOLD VALUE:  0.4\n",
      "Micro-average quality numbers\n",
      "Precision: 0.6337, Recall: 0.3652, F1-measure: 0.4634\n",
      "THRESHOLD VALUE:  0.5\n",
      "Micro-average quality numbers\n",
      "Precision: 0.7262, Recall: 0.3149, F1-measure: 0.4393\n",
      "THRESHOLD VALUE:  0.6\n",
      "Micro-average quality numbers\n",
      "Precision: 0.7887, Recall: 0.2676, F1-measure: 0.3996\n",
      "THRESHOLD VALUE:  0.7\n",
      "Micro-average quality numbers\n",
      "Precision: 0.8436, Recall: 0.2265, F1-measure: 0.3571\n",
      "THRESHOLD VALUE:  0.8\n",
      "Micro-average quality numbers\n",
      "Precision: 0.8836, Recall: 0.1892, F1-measure: 0.3117\n",
      "THRESHOLD VALUE:  0.9\n",
      "Micro-average quality numbers\n",
      "Precision: 0.9114, Recall: 0.1473, F1-measure: 0.2537\n"
     ]
    }
   ],
   "source": [
    "\n",
    "# thresholds=[0.01,0.02,0.03,0.04,0.05,0.06,0.07,0.08,0.09, .1, .11, .12, .13, .14, .15, .16, .17, .18, .19]\n",
    "thresholds=[0.1,0.2,.25,0.3, .35,0.4,0.5,0.6,0.7,0.8,0.9]\n",
    "for val in thresholds:\n",
    "    pred=predictions_cnn.copy()\n",
    "  \n",
    "    pred[pred>=val]=1\n",
    "    pred[pred<val]=0\n",
    "  \n",
    "    precision = precision_score(y_test, pred, average='micro')\n",
    "    recall = recall_score(y_test, pred, average='micro')\n",
    "    f1 = f1_score(y_test, pred, average='micro')\n",
    "    \n",
    "    print(\"THRESHOLD VALUE: \", val)\n",
    "    print(\"Micro-average quality numbers\")\n",
    "    print(\"Precision: {:.4f}, Recall: {:.4f}, F1-measure: {:.4f}\".format(precision, recall, f1))"
   ]
  },
  {
   "cell_type": "markdown",
   "metadata": {},
   "source": [
    "best threshold is .3"
   ]
  },
  {
   "cell_type": "code",
   "execution_count": 107,
   "metadata": {},
   "outputs": [],
   "source": [
    "pred_cnn=predictions_cnn.copy()\n",
    "  \n",
    "pred_cnn[pred_cnn>=.3]=1\n",
    "pred_cnn[pred_cnn<.3]=0"
   ]
  },
  {
   "cell_type": "code",
   "execution_count": 108,
   "metadata": {},
   "outputs": [
    {
     "data": {
      "text/plain": [
       "0.31240622285398406"
      ]
     },
     "execution_count": 108,
     "metadata": {},
     "output_type": "execute_result"
    }
   ],
   "source": [
    "jaccard_score(y_test, pred_cnn, average='micro')"
   ]
  },
  {
   "cell_type": "code",
   "execution_count": 109,
   "metadata": {},
   "outputs": [
    {
     "data": {
      "text/plain": [
       "0.030584144156802134"
      ]
     },
     "execution_count": 109,
     "metadata": {},
     "output_type": "execute_result"
    }
   ],
   "source": [
    "hamming_loss(y_test,  pred_cnn) # Fraction of labels incorrectly predicted; Lower is better"
   ]
  },
  {
   "cell_type": "code",
   "execution_count": 110,
   "metadata": {},
   "outputs": [
    {
     "data": {
      "text/plain": [
       "0.8653061224489795"
      ]
     },
     "execution_count": 110,
     "metadata": {},
     "output_type": "execute_result"
    }
   ],
   "source": [
    "zero_one_loss(y_test,  pred_cnn)"
   ]
  },
  {
   "cell_type": "code",
   "execution_count": 111,
   "metadata": {},
   "outputs": [
    {
     "name": "stdout",
     "output_type": "stream",
     "text": [
      "Micro-average quality numbers\n",
      "Precision: 0.5296, Recall: 0.4324, F1-measure: 0.4761\n"
     ]
    }
   ],
   "source": [
    "precision = precision_score(y_test, pred_cnn, average='micro')\n",
    "recall = recall_score(y_test, pred_cnn, average='micro')\n",
    "f1 = f1_score(y_test, pred_cnn, average='micro')\n",
    "print(\"Micro-average quality numbers\")\n",
    "print(\"Precision: {:.4f}, Recall: {:.4f}, F1-measure: {:.4f}\".format(precision, recall, f1))"
   ]
  },
  {
   "cell_type": "markdown",
   "metadata": {},
   "source": [
    "# CNN with LDA labels"
   ]
  },
  {
   "cell_type": "code",
   "execution_count": 145,
   "metadata": {},
   "outputs": [],
   "source": [
    "train_texts = preprocessed_descriptions[train_indices]\n",
    "y_train = lda_labels[train_indices, :]\n",
    "\n",
    "test_texts = preprocessed_descriptions[test_indices]\n",
    "y_test = lda_labels[test_indices, :]\n",
    "\n",
    "tokenizer = Tokenizer()\n",
    "tokenizer.fit_on_texts(train_texts)\n",
    "max_length = max([len(s.split()) for s in train_texts])"
   ]
  },
  {
   "cell_type": "code",
   "execution_count": 116,
   "metadata": {},
   "outputs": [],
   "source": [
    "encoded_train_texts = tokenizer.texts_to_sequences(train_texts)    \n",
    "X_train = pad_sequences(encoded_train_texts, maxlen=max_length, padding='post')\n",
    "\n",
    "encoded_test_texts = tokenizer.texts_to_sequences(test_texts)\n",
    "X_test = pad_sequences(encoded_test_texts, maxlen=max_length, padding='post')"
   ]
  },
  {
   "cell_type": "code",
   "execution_count": 117,
   "metadata": {},
   "outputs": [],
   "source": [
    "def build_cnn_classifier(vocab_size: int, max_length: int, emb_size=256, num_filters=32, kernel_size=8) -> Sequential:\n",
    "    model = Sequential()\n",
    "    model.add(Embedding(vocab_size, emb_size, input_length=max_length)) # max_len x emb_size\n",
    "    \n",
    "    model.add(Conv1D(filters=num_filters, kernel_size=kernel_size, activation='relu')) # , input_shape=(vocab_size,)\n",
    "    model.add(MaxPooling1D(pool_size=2))\n",
    "    model.add(Flatten())\n",
    "#     model.add(Dropout(rate=0.3))\n",
    "#     model.add(Dense(1000, activation='relu'))\n",
    "    model.add(Dropout(rate=0.3))\n",
    "    model.add(Dense(500, activation='relu'))\n",
    "    model.add(Dropout(rate=0.3))\n",
    "    model.add(Dense(200, activation='relu')) # <-- Tried values: 10, 100, 200\n",
    "    model.add(Dropout(rate=0.3))\n",
    "    model.add(Dense(100, activation='relu')) # \n",
    "    model.add(Dropout(rate=0.3))\n",
    "    model.add(Dense(100, activation='relu')) # \n",
    "    model.add(Dense(20, activation='sigmoid')) #  <--- Number here should equal the number of outputs i.e. the number of categories \n",
    "    print(model.summary())\n",
    "    model.compile(loss='binary_crossentropy', optimizer='adam', metrics=['accuracy'])\n",
    "    return model"
   ]
  },
  {
   "cell_type": "code",
   "execution_count": 118,
   "metadata": {},
   "outputs": [
    {
     "name": "stdout",
     "output_type": "stream",
     "text": [
      "Model: \"sequential_4\"\n",
      "_________________________________________________________________\n",
      "Layer (type)                 Output Shape              Param #   \n",
      "=================================================================\n",
      "embedding_4 (Embedding)      (None, 999, 256)          13790208  \n",
      "_________________________________________________________________\n",
      "conv1d_4 (Conv1D)            (None, 992, 32)           65568     \n",
      "_________________________________________________________________\n",
      "max_pooling1d_4 (MaxPooling1 (None, 496, 32)           0         \n",
      "_________________________________________________________________\n",
      "flatten_4 (Flatten)          (None, 15872)             0         \n",
      "_________________________________________________________________\n",
      "dropout_17 (Dropout)         (None, 15872)             0         \n",
      "_________________________________________________________________\n",
      "dense_21 (Dense)             (None, 500)               7936500   \n",
      "_________________________________________________________________\n",
      "dropout_18 (Dropout)         (None, 500)               0         \n",
      "_________________________________________________________________\n",
      "dense_22 (Dense)             (None, 200)               100200    \n",
      "_________________________________________________________________\n",
      "dropout_19 (Dropout)         (None, 200)               0         \n",
      "_________________________________________________________________\n",
      "dense_23 (Dense)             (None, 100)               20100     \n",
      "_________________________________________________________________\n",
      "dropout_20 (Dropout)         (None, 100)               0         \n",
      "_________________________________________________________________\n",
      "dense_24 (Dense)             (None, 100)               10100     \n",
      "_________________________________________________________________\n",
      "dense_25 (Dense)             (None, 20)                2020      \n",
      "=================================================================\n",
      "Total params: 21,924,696\n",
      "Trainable params: 21,924,696\n",
      "Non-trainable params: 0\n",
      "_________________________________________________________________\n",
      "None\n",
      "Epoch 1/10\n",
      "429/429 [==============================] - 136s 316ms/step - loss: 0.2720 - accuracy: 0.1337 - val_loss: 0.2456 - val_accuracy: 0.1318\n",
      "Epoch 2/10\n",
      "429/429 [==============================] - 141s 328ms/step - loss: 0.2384 - accuracy: 0.1909 - val_loss: 0.2340 - val_accuracy: 0.2122\n",
      "Epoch 3/10\n",
      "429/429 [==============================] - 150s 349ms/step - loss: 0.2152 - accuracy: 0.2725 - val_loss: 0.2228 - val_accuracy: 0.2825\n",
      "Epoch 4/10\n",
      "429/429 [==============================] - 147s 343ms/step - loss: 0.1903 - accuracy: 0.3694 - val_loss: 0.2190 - val_accuracy: 0.3397\n",
      "Epoch 5/10\n",
      "429/429 [==============================] - 146s 341ms/step - loss: 0.1700 - accuracy: 0.4507 - val_loss: 0.2177 - val_accuracy: 0.3481\n",
      "Epoch 6/10\n",
      "429/429 [==============================] - 138s 321ms/step - loss: 0.1550 - accuracy: 0.5079 - val_loss: 0.2209 - val_accuracy: 0.3729\n",
      "Epoch 7/10\n",
      "429/429 [==============================] - 129s 301ms/step - loss: 0.1423 - accuracy: 0.5583 - val_loss: 0.2204 - val_accuracy: 0.3621\n",
      "108/108 [==============================] - 5s 49ms/step - loss: 0.2204 - accuracy: 0.3621\n",
      "Test accuracy: 0.362099\n"
     ]
    }
   ],
   "source": [
    "model_cnn = build_cnn_classifier(vocab_size, max_length)\n",
    "\n",
    "# Define a callback to monitor val_loss\n",
    "monitor_val_loss = EarlyStopping(monitor='val_loss', # <-- Switched to val_loss, because what does accuracy even mean when my true labels are 1-hot encoded and the output of the network are probabilities i.e. floats\n",
    "                       patience=2)\n",
    "\n",
    "h_callback = model_cnn.fit(X_train, y_train\n",
    "                      , validation_data=(X_test, y_test)\n",
    "                      , callbacks = [monitor_val_loss]\n",
    "                      , epochs=10 # Tried 10, 15\n",
    "                      , verbose=1)\n",
    "\n",
    "\n",
    "loss, acc = model_cnn.evaluate(X_test, y_test, verbose=1)\n",
    "print('Test accuracy: %f' % acc)"
   ]
  },
  {
   "cell_type": "code",
   "execution_count": 119,
   "metadata": {},
   "outputs": [],
   "source": [
    "predictions_cnn = model_cnn.predict(X_test)"
   ]
  },
  {
   "cell_type": "code",
   "execution_count": 120,
   "metadata": {},
   "outputs": [
    {
     "name": "stdout",
     "output_type": "stream",
     "text": [
      "Test AUC:  0.8175\n"
     ]
    }
   ],
   "source": [
    "print('Test AUC: ', round(roc_auc_score(y_test, predictions_cnn), 4))"
   ]
  },
  {
   "cell_type": "code",
   "execution_count": 121,
   "metadata": {},
   "outputs": [
    {
     "name": "stdout",
     "output_type": "stream",
     "text": [
      "THRESHOLD VALUE:  0.1\n",
      "Micro-average quality numbers\n",
      "Precision: 0.2175, Recall: 0.7183, F1-measure: 0.3339\n",
      "THRESHOLD VALUE:  0.2\n",
      "Micro-average quality numbers\n",
      "Precision: 0.3248, Recall: 0.5329, F1-measure: 0.4036\n",
      "THRESHOLD VALUE:  0.25\n",
      "Micro-average quality numbers\n",
      "Precision: 0.3878, Recall: 0.4555, F1-measure: 0.4190\n",
      "THRESHOLD VALUE:  0.3\n",
      "Micro-average quality numbers\n",
      "Precision: 0.4456, Recall: 0.3984, F1-measure: 0.4207\n",
      "THRESHOLD VALUE:  0.35\n",
      "Micro-average quality numbers\n",
      "Precision: 0.4930, Recall: 0.3603, F1-measure: 0.4163\n",
      "THRESHOLD VALUE:  0.4\n",
      "Micro-average quality numbers\n",
      "Precision: 0.5413, Recall: 0.3277, F1-measure: 0.4083\n",
      "THRESHOLD VALUE:  0.5\n",
      "Micro-average quality numbers\n",
      "Precision: 0.6317, Recall: 0.2767, F1-measure: 0.3848\n",
      "THRESHOLD VALUE:  0.6\n",
      "Micro-average quality numbers\n",
      "Precision: 0.6952, Recall: 0.2389, F1-measure: 0.3556\n",
      "THRESHOLD VALUE:  0.7\n",
      "Micro-average quality numbers\n",
      "Precision: 0.7517, Recall: 0.2045, F1-measure: 0.3215\n",
      "THRESHOLD VALUE:  0.8\n",
      "Micro-average quality numbers\n",
      "Precision: 0.8078, Recall: 0.1697, F1-measure: 0.2805\n",
      "THRESHOLD VALUE:  0.9\n",
      "Micro-average quality numbers\n",
      "Precision: 0.8685, Recall: 0.1377, F1-measure: 0.2377\n"
     ]
    }
   ],
   "source": [
    "\n",
    "# thresholds=[0.01,0.02,0.03,0.04,0.05,0.06,0.07,0.08,0.09, .1, .11, .12, .13, .14, .15, .16, .17, .18, .19]\n",
    "thresholds=[0.1,0.2,.25,0.3, .35,0.4,0.5,0.6,0.7,0.8,0.9]\n",
    "for val in thresholds:\n",
    "    pred=predictions_cnn.copy()\n",
    "  \n",
    "    pred[pred>=val]=1\n",
    "    pred[pred<val]=0\n",
    "  \n",
    "    precision = precision_score(y_test, pred, average='micro')\n",
    "    recall = recall_score(y_test, pred, average='micro')\n",
    "    f1 = f1_score(y_test, pred, average='micro')\n",
    "    \n",
    "    print(\"THRESHOLD VALUE: \", val)\n",
    "    print(\"Micro-average quality numbers\")\n",
    "    print(\"Precision: {:.4f}, Recall: {:.4f}, F1-measure: {:.4f}\".format(precision, recall, f1))"
   ]
  },
  {
   "cell_type": "markdown",
   "metadata": {},
   "source": [
    "best threshold is .3"
   ]
  },
  {
   "cell_type": "code",
   "execution_count": 139,
   "metadata": {},
   "outputs": [],
   "source": [
    "pred_cnn=predictions_cnn.copy()\n",
    "  \n",
    "pred_cnn[pred_cnn>=.3]=1\n",
    "pred_cnn[pred_cnn<.3]=0"
   ]
  },
  {
   "cell_type": "code",
   "execution_count": 146,
   "metadata": {},
   "outputs": [
    {
     "data": {
      "text/plain": [
       "0.2663597909927843"
      ]
     },
     "execution_count": 146,
     "metadata": {},
     "output_type": "execute_result"
    }
   ],
   "source": [
    "jaccard_score(y_test, pred_cnn, average='micro')"
   ]
  },
  {
   "cell_type": "code",
   "execution_count": 147,
   "metadata": {},
   "outputs": [
    {
     "data": {
      "text/plain": [
       "(3430, 20)"
      ]
     },
     "execution_count": 147,
     "metadata": {},
     "output_type": "execute_result"
    }
   ],
   "source": [
    "y_test.shape"
   ]
  },
  {
   "cell_type": "code",
   "execution_count": 148,
   "metadata": {},
   "outputs": [
    {
     "data": {
      "text/plain": [
       "0.08596209912536443"
      ]
     },
     "execution_count": 148,
     "metadata": {},
     "output_type": "execute_result"
    }
   ],
   "source": [
    "hamming_loss(y_test,  pred_cnn) # Fraction of labels incorrectly predicted; Lower is better"
   ]
  },
  {
   "cell_type": "code",
   "execution_count": 149,
   "metadata": {},
   "outputs": [
    {
     "data": {
      "text/plain": [
       "0.7618075801749271"
      ]
     },
     "execution_count": 149,
     "metadata": {},
     "output_type": "execute_result"
    }
   ],
   "source": [
    "zero_one_loss(y_test,  pred_cnn)"
   ]
  },
  {
   "cell_type": "code",
   "execution_count": 150,
   "metadata": {},
   "outputs": [
    {
     "name": "stdout",
     "output_type": "stream",
     "text": [
      "Micro-average quality numbers\n",
      "Precision: 0.4456, Recall: 0.3984, F1-measure: 0.4207\n"
     ]
    }
   ],
   "source": [
    "precision = precision_score(y_test, pred_cnn, average='micro')\n",
    "recall = recall_score(y_test, pred_cnn, average='micro')\n",
    "f1 = f1_score(y_test, pred_cnn, average='micro')\n",
    "print(\"Micro-average quality numbers\")\n",
    "print(\"Precision: {:.4f}, Recall: {:.4f}, F1-measure: {:.4f}\".format(precision, recall, f1))"
   ]
  },
  {
   "cell_type": "markdown",
   "metadata": {},
   "source": [
    "# LSTM"
   ]
  },
  {
   "cell_type": "code",
   "execution_count": 407,
   "metadata": {},
   "outputs": [
    {
     "name": "stdout",
     "output_type": "stream",
     "text": [
      "Model: \"sequential_20\"\n",
      "_________________________________________________________________\n",
      "Layer (type)                 Output Shape              Param #   \n",
      "=================================================================\n",
      "embedding_16 (Embedding)     (None, 999, 128)          6895104   \n",
      "_________________________________________________________________\n",
      "lstm (LSTM)                  (None, 999, 128)          131584    \n",
      "_________________________________________________________________\n",
      "dropout_19 (Dropout)         (None, 999, 128)          0         \n",
      "_________________________________________________________________\n",
      "lstm_1 (LSTM)                (None, 64)                49408     \n",
      "_________________________________________________________________\n",
      "dropout_20 (Dropout)         (None, 64)                0         \n",
      "_________________________________________________________________\n",
      "dense_53 (Dense)             (None, 83)                5395      \n",
      "=================================================================\n",
      "Total params: 7,081,491\n",
      "Trainable params: 7,081,491\n",
      "Non-trainable params: 0\n",
      "_________________________________________________________________\n"
     ]
    }
   ],
   "source": [
    "model = Sequential()\n",
    "# Configuring the parameters\n",
    "model.add(Embedding(vocab_size, output_dim=128, input_length=max_length))\n",
    "model.add(LSTM(128, return_sequences=True))  \n",
    "# Adding a dropout layer\n",
    "model.add(Dropout(0.5))\n",
    "model.add(LSTM(64))\n",
    "model.add(Dropout(0.5))\n",
    "# Adding a dense output layer with sigmoid activation\n",
    "model.add(Dense(83, activation='sigmoid'))\n",
    "model.summary()"
   ]
  },
  {
   "cell_type": "code",
   "execution_count": 411,
   "metadata": {},
   "outputs": [
    {
     "name": "stdout",
     "output_type": "stream",
     "text": [
      "Epoch 1/5\n",
      "429/429 [==============================] - 434s 1s/step - loss: 0.1322 - val_loss: 0.1244\n",
      "Epoch 2/5\n",
      "429/429 [==============================] - 411s 959ms/step - loss: 0.1273 - val_loss: 0.1243\n",
      "Epoch 3/5\n",
      "429/429 [==============================] - 428s 998ms/step - loss: 0.1263 - val_loss: 0.1242\n",
      "Epoch 4/5\n",
      "429/429 [==============================] - 473s 1s/step - loss: 0.1256 - val_loss: 0.1242\n",
      "Epoch 5/5\n",
      "429/429 [==============================] - 456s 1s/step - loss: 0.1255 - val_loss: 0.1242\n"
     ]
    }
   ],
   "source": [
    "model.compile(optimizer='adam', loss='binary_crossentropy')\n",
    "history = model.fit(X_train, y_train\n",
    "#                     , class_weight='balanced'\n",
    "                    , epochs=5\n",
    "                    , batch_size=32\n",
    "                    , validation_data=(X_test, y_test)\n",
    "                    , callbacks = [monitor_val_loss]\n",
    "                    , verbose = 1\n",
    "                   )"
   ]
  },
  {
   "cell_type": "code",
   "execution_count": 414,
   "metadata": {},
   "outputs": [
    {
     "data": {
      "text/plain": [
       "0.7782343644851142"
      ]
     },
     "execution_count": 414,
     "metadata": {},
     "output_type": "execute_result"
    }
   ],
   "source": [
    "roc_auc_score(y_test, predictions, average='micro')"
   ]
  },
  {
   "cell_type": "markdown",
   "metadata": {},
   "source": [
    "Best threshold value is  0.11"
   ]
  },
  {
   "cell_type": "code",
   "execution_count": 417,
   "metadata": {},
   "outputs": [
    {
     "name": "stdout",
     "output_type": "stream",
     "text": [
      "THRESHOLD VALUE:  0.01\n",
      "Micro-average quality numbers\n",
      "Precision: 0.0470, Recall: 0.9170, F1-measure: 0.0895\n",
      "THRESHOLD VALUE:  0.02\n",
      "Micro-average quality numbers\n",
      "Precision: 0.0602, Recall: 0.8127, F1-measure: 0.1121\n",
      "THRESHOLD VALUE:  0.03\n",
      "Micro-average quality numbers\n",
      "Precision: 0.0736, Recall: 0.7172, F1-measure: 0.1335\n",
      "THRESHOLD VALUE:  0.04\n",
      "Micro-average quality numbers\n",
      "Precision: 0.0851, Recall: 0.6383, F1-measure: 0.1502\n",
      "THRESHOLD VALUE:  0.05\n",
      "Micro-average quality numbers\n",
      "Precision: 0.0995, Recall: 0.5220, F1-measure: 0.1671\n",
      "THRESHOLD VALUE:  0.06\n",
      "Micro-average quality numbers\n",
      "Precision: 0.1109, Recall: 0.4573, F1-measure: 0.1785\n",
      "THRESHOLD VALUE:  0.07\n",
      "Micro-average quality numbers\n",
      "Precision: 0.1206, Recall: 0.4069, F1-measure: 0.1861\n",
      "THRESHOLD VALUE:  0.08\n",
      "Micro-average quality numbers\n",
      "Precision: 0.1564, Recall: 0.2931, F1-measure: 0.2040\n",
      "THRESHOLD VALUE:  0.09\n",
      "Micro-average quality numbers\n",
      "Precision: 0.1736, Recall: 0.2604, F1-measure: 0.2083\n",
      "THRESHOLD VALUE:  0.1\n",
      "Micro-average quality numbers\n",
      "Precision: 0.1736, Recall: 0.2604, F1-measure: 0.2083\n",
      "THRESHOLD VALUE:  0.11\n",
      "Micro-average quality numbers\n",
      "Precision: 0.2014, Recall: 0.2265, F1-measure: 0.2132\n",
      "THRESHOLD VALUE:  0.12\n",
      "Micro-average quality numbers\n",
      "Precision: 0.2392, Recall: 0.1794, F1-measure: 0.2050\n",
      "THRESHOLD VALUE:  0.13\n",
      "Micro-average quality numbers\n",
      "Precision: 0.2392, Recall: 0.1794, F1-measure: 0.2050\n",
      "THRESHOLD VALUE:  0.14\n",
      "Micro-average quality numbers\n",
      "Precision: 0.2392, Recall: 0.1794, F1-measure: 0.2050\n",
      "THRESHOLD VALUE:  0.15\n",
      "Micro-average quality numbers\n",
      "Precision: 0.2392, Recall: 0.1794, F1-measure: 0.2050\n",
      "THRESHOLD VALUE:  0.16\n",
      "Micro-average quality numbers\n",
      "Precision: 0.2392, Recall: 0.1794, F1-measure: 0.2050\n",
      "THRESHOLD VALUE:  0.17\n",
      "Micro-average quality numbers\n",
      "Precision: 0.2392, Recall: 0.1794, F1-measure: 0.2050\n",
      "THRESHOLD VALUE:  0.18\n",
      "Micro-average quality numbers\n",
      "Precision: 0.2392, Recall: 0.1794, F1-measure: 0.2050\n",
      "THRESHOLD VALUE:  0.19\n",
      "Micro-average quality numbers\n",
      "Precision: 0.2933, Recall: 0.1100, F1-measure: 0.1599\n"
     ]
    }
   ],
   "source": [
    "predictions=model.predict(X_test)\n",
    "thresholds=[0.01,0.02,0.03,0.04,0.05,0.06,0.07,0.08,0.09, .1, .11, .12, .13, .14, .15, .16, .17, .18, .19]\n",
    "for val in thresholds:\n",
    "    pred=predictions.copy()\n",
    "  \n",
    "    pred[pred>=val]=1\n",
    "    pred[pred<val]=0\n",
    "  \n",
    "    precision = precision_score(y_test, pred, average='micro')\n",
    "    recall = recall_score(y_test, pred, average='micro')\n",
    "    f1 = f1_score(y_test, pred, average='micro')\n",
    "    \n",
    "    print(\"THRESHOLD VALUE: \", val)\n",
    "    print(\"Micro-average quality numbers\")\n",
    "    print(\"Precision: {:.4f}, Recall: {:.4f}, F1-measure: {:.4f}\".format(precision, recall, f1))"
   ]
  },
  {
   "cell_type": "code",
   "execution_count": 413,
   "metadata": {},
   "outputs": [
    {
     "data": {
      "text/plain": [
       "array([[0.07365957, 0.04420111, 0.04498366, ..., 0.00941122, 0.05537581,\n",
       "        0.00921142],\n",
       "       [0.07365957, 0.04420111, 0.04498366, ..., 0.00941122, 0.05537581,\n",
       "        0.00921142],\n",
       "       [0.07365957, 0.04420111, 0.04498366, ..., 0.00941122, 0.05537581,\n",
       "        0.00921142],\n",
       "       ...,\n",
       "       [0.07365957, 0.04420111, 0.04498366, ..., 0.00941122, 0.05537581,\n",
       "        0.00921142],\n",
       "       [0.07365957, 0.04420111, 0.04498366, ..., 0.00941122, 0.05537581,\n",
       "        0.00921142],\n",
       "       [0.07365957, 0.04420111, 0.04498366, ..., 0.00941122, 0.05537581,\n",
       "        0.00921142]], dtype=float32)"
      ]
     },
     "execution_count": 413,
     "metadata": {},
     "output_type": "execute_result"
    }
   ],
   "source": [
    "predictions"
   ]
  },
  {
   "cell_type": "markdown",
   "metadata": {},
   "source": [
    "# BERT"
   ]
  },
  {
   "cell_type": "code",
   "execution_count": 114,
   "metadata": {},
   "outputs": [],
   "source": [
    "# import numpy as np\n",
    "# import pandas as pd\n",
    "# from sklearn import metrics\n",
    "# import transformers\n",
    "# import torch\n",
    "# from torch.utils.data import Dataset, DataLoader, RandomSampler, SequentialSampler\n",
    "# from transformers import BertTokenizer, BertModel, BertConfig\n",
    "\n",
    "# from torch import cuda\n",
    "# device = 'cuda' if cuda.is_available() else 'cpu'\n",
    "# print(device)\n",
    "\n",
    "# class BERTClass(torch.nn.Module):\n",
    "#     def __init__(self):\n",
    "#         super(BERTClass, self).__init__()\n",
    "#         self.l1 = transformers.BertModel.from_pretrained('bert-base-uncased')\n",
    "#         self.l2 = torch.nn.Dropout(0.3)\n",
    "#         self.l3 = torch.nn.Linear(768, 83)\n",
    "    \n",
    "#     def forward(self, ids, mask, token_type_ids):\n",
    "#         _, output_1= self.l1(ids, attention_mask = mask, token_type_ids = token_type_ids)\n",
    "#         output_2 = self.l2(output_1)\n",
    "#         output = self.l3(output_2)\n",
    "#         return output\n",
    "\n",
    "    \n",
    "#     torch.load with map_location=torch.device('cpu')\n",
    "# with open('model.pickle', 'rb') as file:\n",
    "#     bert = pickle.load(file)"
   ]
  },
  {
   "cell_type": "markdown",
   "metadata": {},
   "source": [
    "Got this error: RuntimeError: Attempting to deserialize object on a CUDA device but torch.cuda.is_available() is False. If you are running on a CPU-only machine, please use torch.load with map_location=torch.device('cpu') to map your storages to the CPU.\n",
    "\n",
    "Not able to load, because model trained on Google Colab with GPU and my laptop is CPU only"
   ]
  },
  {
   "cell_type": "markdown",
   "metadata": {},
   "source": [
    "Accuracy Score = 0.27354913969087197\n",
    "F1 Score (Micro) = 0.6409557200363589"
   ]
  },
  {
   "cell_type": "markdown",
   "metadata": {},
   "source": [
    "# Saving Best Model and artefacts"
   ]
  },
  {
   "cell_type": "code",
   "execution_count": 164,
   "metadata": {},
   "outputs": [],
   "source": [
    "# AFTER REVIEWING ALL MODELS I FOUND THIS ONE TO HAVE THE HIGHEST JACCARD SCORE AND SO WILL USE THIS IN PRODUCTION\n",
    "with open('linear_svc_ovr.pkl', 'wb') as handle:\n",
    "    pickle.dump(ovr, handle)\n",
    "    \n",
    "# TFIDF unigrams and bigrams\n",
    "tfidf_vectorizer = TfidfVectorizer(lowercase=False, ngram_range =(1,2), max_df = .5, min_df = 100)\n",
    "tfidf_vectorizer.fit(preprocessed_description_strings)\n",
    "\n",
    "with open('tfidf_vectorizer.pkl', 'wb') as handle:\n",
    "    pickle.dump(tfidf_vectorizer, handle)\n"
   ]
  },
  {
   "cell_type": "code",
   "execution_count": 189,
   "metadata": {},
   "outputs": [],
   "source": [
    "categories = np.array([cat[11:] for cat in df.columns[3:]]); categories\n",
    "\n",
    "with open('categories.pkl', 'wb') as handle:\n",
    "    pickle.dump(categories, handle)"
   ]
  },
  {
   "cell_type": "code",
   "execution_count": 190,
   "metadata": {},
   "outputs": [
    {
     "data": {
      "text/plain": [
       "array(['Abstract Strategy', 'Action / Dexterity', 'Adventure',\n",
       "       'Age of Reason', 'American Civil War', 'American Indian Wars',\n",
       "       'American Revolutionary War', 'American West', 'Ancient',\n",
       "       'Animals', 'Arabian', 'Aviation / Flight', 'Bluffing', 'Book',\n",
       "       'Card Game', \"Children's Game\", 'City Building', 'Civil War',\n",
       "       'Civilization', 'Collectible Components', 'Comic Book / Strip',\n",
       "       'Deduction', 'Dice', 'Economic', 'Educational', 'Electronic',\n",
       "       'Environmental', 'Expansion for Base-game', 'Exploration',\n",
       "       'Fantasy', 'Farming', 'Fighting', 'Game System', 'Horror', 'Humor',\n",
       "       'Industry / Manufacturing', 'Korean War', 'Mafia', 'Math',\n",
       "       'Mature / Adult', 'Maze', 'Medical', 'Medieval', 'Memory',\n",
       "       'Miniatures', 'Modern Warfare', 'Movies / TV / Radio theme',\n",
       "       'Murder/Mystery', 'Music', 'Mythology', 'Napoleonic', 'Nautical',\n",
       "       'Negotiation', 'Novel-based', 'Number', 'Party Game',\n",
       "       'Pike and Shot', 'Pirates', 'Political', 'Post-Napoleonic',\n",
       "       'Prehistoric', 'Print & Play', 'Puzzle', 'Racing', 'Real-time',\n",
       "       'Religious', 'Renaissance', 'Science Fiction', 'Space Exploration',\n",
       "       'Spies/Secret Agents', 'Sports', 'Territory Building', 'Trains',\n",
       "       'Transportation', 'Travel', 'Trivia', 'Video Game Theme',\n",
       "       'Vietnam War', 'Wargame', 'Word Game', 'World War I',\n",
       "       'World War II', 'Zombies'], dtype='<U26')"
      ]
     },
     "execution_count": 190,
     "metadata": {},
     "output_type": "execute_result"
    }
   ],
   "source": [
    "categories"
   ]
  },
  {
   "cell_type": "code",
   "execution_count": 191,
   "metadata": {},
   "outputs": [],
   "source": [
    "CATEGORIES_FILE = 'categories.pkl'\n",
    "with open(CATEGORIES_FILE, 'rb') as handle:\n",
    "    categories = pickle.load(handle)"
   ]
  },
  {
   "cell_type": "code",
   "execution_count": 192,
   "metadata": {},
   "outputs": [
    {
     "data": {
      "text/plain": [
       "array(['Abstract Strategy', 'Action / Dexterity', 'Adventure',\n",
       "       'Age of Reason', 'American Civil War', 'American Indian Wars',\n",
       "       'American Revolutionary War', 'American West', 'Ancient',\n",
       "       'Animals', 'Arabian', 'Aviation / Flight', 'Bluffing', 'Book',\n",
       "       'Card Game', \"Children's Game\", 'City Building', 'Civil War',\n",
       "       'Civilization', 'Collectible Components', 'Comic Book / Strip',\n",
       "       'Deduction', 'Dice', 'Economic', 'Educational', 'Electronic',\n",
       "       'Environmental', 'Expansion for Base-game', 'Exploration',\n",
       "       'Fantasy', 'Farming', 'Fighting', 'Game System', 'Horror', 'Humor',\n",
       "       'Industry / Manufacturing', 'Korean War', 'Mafia', 'Math',\n",
       "       'Mature / Adult', 'Maze', 'Medical', 'Medieval', 'Memory',\n",
       "       'Miniatures', 'Modern Warfare', 'Movies / TV / Radio theme',\n",
       "       'Murder/Mystery', 'Music', 'Mythology', 'Napoleonic', 'Nautical',\n",
       "       'Negotiation', 'Novel-based', 'Number', 'Party Game',\n",
       "       'Pike and Shot', 'Pirates', 'Political', 'Post-Napoleonic',\n",
       "       'Prehistoric', 'Print & Play', 'Puzzle', 'Racing', 'Real-time',\n",
       "       'Religious', 'Renaissance', 'Science Fiction', 'Space Exploration',\n",
       "       'Spies/Secret Agents', 'Sports', 'Territory Building', 'Trains',\n",
       "       'Transportation', 'Travel', 'Trivia', 'Video Game Theme',\n",
       "       'Vietnam War', 'Wargame', 'Word Game', 'World War I',\n",
       "       'World War II', 'Zombies'], dtype='<U26')"
      ]
     },
     "execution_count": 192,
     "metadata": {},
     "output_type": "execute_result"
    }
   ],
   "source": [
    "categories"
   ]
  },
  {
   "cell_type": "code",
   "execution_count": 173,
   "metadata": {},
   "outputs": [
    {
     "data": {
      "text/plain": [
       "<1x2773 sparse matrix of type '<class 'numpy.float64'>'\n",
       "\twith 96 stored elements in Compressed Sparse Row format>"
      ]
     },
     "execution_count": 173,
     "metadata": {},
     "output_type": "execute_result"
    }
   ],
   "source": [
    "uni_and_bigram_tfidf_corpus[0]"
   ]
  },
  {
   "cell_type": "code",
   "execution_count": 179,
   "metadata": {},
   "outputs": [
    {
     "data": {
      "text/plain": [
       "array([[0, 0, 0, 0, 0, 0, 0, 0, 0, 0, 0, 0, 0, 0, 0, 0, 0, 0, 0, 0, 0, 0,\n",
       "        0, 0, 0, 0, 0, 0, 0, 0, 0, 0, 0, 0, 0, 0, 0, 0, 0, 0, 0, 1, 0, 0,\n",
       "        0, 0, 0, 0, 0, 0, 0, 0, 0, 0, 0, 0, 0, 0, 0, 0, 0, 0, 0, 0, 0, 0,\n",
       "        0, 0, 0, 0, 0, 0, 0, 0, 0, 0, 0, 0, 0, 0, 0, 0, 0]])"
      ]
     },
     "execution_count": 179,
     "metadata": {},
     "output_type": "execute_result"
    }
   ],
   "source": [
    "one_hot_prediction = ovr.predict(uni_and_bigram_tfidf_corpus[1]); one_hot_prediction "
   ]
  },
  {
   "cell_type": "code",
   "execution_count": 180,
   "metadata": {},
   "outputs": [
    {
     "data": {
      "text/plain": [
       "array([41])"
      ]
     },
     "execution_count": 180,
     "metadata": {},
     "output_type": "execute_result"
    }
   ],
   "source": [
    "np.where(one_hot_prediction==1)[1]"
   ]
  },
  {
   "cell_type": "code",
   "execution_count": 183,
   "metadata": {},
   "outputs": [
    {
     "data": {
      "text/plain": [
       "(1,)"
      ]
     },
     "execution_count": 183,
     "metadata": {},
     "output_type": "execute_result"
    }
   ],
   "source": [
    "categories[np.where(one_hot_prediction==1)[1]].shape"
   ]
  },
  {
   "cell_type": "code",
   "execution_count": 162,
   "metadata": {},
   "outputs": [
    {
     "data": {
      "text/plain": [
       "<1x2773 sparse matrix of type '<class 'numpy.float64'>'\n",
       "\twith 2 stored elements in Compressed Sparse Row format>"
      ]
     },
     "execution_count": 162,
     "metadata": {},
     "output_type": "execute_result"
    }
   ],
   "source": [
    "some_vectorizer.transform(['card miniatures'])"
   ]
  },
  {
   "cell_type": "code",
   "execution_count": 196,
   "metadata": {},
   "outputs": [
    {
     "data": {
      "text/html": [
       "<div>\n",
       "<style scoped>\n",
       "    .dataframe tbody tr th:only-of-type {\n",
       "        vertical-align: middle;\n",
       "    }\n",
       "\n",
       "    .dataframe tbody tr th {\n",
       "        vertical-align: top;\n",
       "    }\n",
       "\n",
       "    .dataframe thead th {\n",
       "        text-align: right;\n",
       "    }\n",
       "</style>\n",
       "<table border=\"1\" class=\"dataframe\">\n",
       "  <thead>\n",
       "    <tr style=\"text-align: right;\">\n",
       "      <th></th>\n",
       "      <th>id</th>\n",
       "      <th>name</th>\n",
       "      <th>description</th>\n",
       "      <th>categories_Abstract Strategy</th>\n",
       "      <th>categories_Action / Dexterity</th>\n",
       "      <th>categories_Adventure</th>\n",
       "      <th>categories_Age of Reason</th>\n",
       "      <th>categories_American Civil War</th>\n",
       "      <th>categories_American Indian Wars</th>\n",
       "      <th>categories_American Revolutionary War</th>\n",
       "      <th>...</th>\n",
       "      <th>categories_Transportation</th>\n",
       "      <th>categories_Travel</th>\n",
       "      <th>categories_Trivia</th>\n",
       "      <th>categories_Video Game Theme</th>\n",
       "      <th>categories_Vietnam War</th>\n",
       "      <th>categories_Wargame</th>\n",
       "      <th>categories_Word Game</th>\n",
       "      <th>categories_World War I</th>\n",
       "      <th>categories_World War II</th>\n",
       "      <th>categories_Zombies</th>\n",
       "    </tr>\n",
       "  </thead>\n",
       "  <tbody>\n",
       "    <tr>\n",
       "      <th>100</th>\n",
       "      <td>194655</td>\n",
       "      <td>Santorini</td>\n",
       "      <td>Santorini is a re-imagining of the purely abst...</td>\n",
       "      <td>1</td>\n",
       "      <td>0</td>\n",
       "      <td>0</td>\n",
       "      <td>0</td>\n",
       "      <td>0</td>\n",
       "      <td>0</td>\n",
       "      <td>0</td>\n",
       "      <td>...</td>\n",
       "      <td>0</td>\n",
       "      <td>0</td>\n",
       "      <td>0</td>\n",
       "      <td>0</td>\n",
       "      <td>0</td>\n",
       "      <td>0</td>\n",
       "      <td>0</td>\n",
       "      <td>0</td>\n",
       "      <td>0</td>\n",
       "      <td>0</td>\n",
       "    </tr>\n",
       "    <tr>\n",
       "      <th>3063</th>\n",
       "      <td>9963</td>\n",
       "      <td>Santorini</td>\n",
       "      <td>You are a god out of Greek mythology. Compete ...</td>\n",
       "      <td>1</td>\n",
       "      <td>0</td>\n",
       "      <td>0</td>\n",
       "      <td>0</td>\n",
       "      <td>0</td>\n",
       "      <td>0</td>\n",
       "      <td>0</td>\n",
       "      <td>...</td>\n",
       "      <td>0</td>\n",
       "      <td>0</td>\n",
       "      <td>0</td>\n",
       "      <td>0</td>\n",
       "      <td>0</td>\n",
       "      <td>0</td>\n",
       "      <td>0</td>\n",
       "      <td>0</td>\n",
       "      <td>0</td>\n",
       "      <td>0</td>\n",
       "    </tr>\n",
       "  </tbody>\n",
       "</table>\n",
       "<p>2 rows × 86 columns</p>\n",
       "</div>"
      ],
      "text/plain": [
       "          id       name                                        description  \\\n",
       "100   194655  Santorini  Santorini is a re-imagining of the purely abst...   \n",
       "3063    9963  Santorini  You are a god out of Greek mythology. Compete ...   \n",
       "\n",
       "      categories_Abstract Strategy  categories_Action / Dexterity  \\\n",
       "100                              1                              0   \n",
       "3063                             1                              0   \n",
       "\n",
       "      categories_Adventure  categories_Age of Reason  \\\n",
       "100                      0                         0   \n",
       "3063                     0                         0   \n",
       "\n",
       "      categories_American Civil War  categories_American Indian Wars  \\\n",
       "100                               0                                0   \n",
       "3063                              0                                0   \n",
       "\n",
       "      categories_American Revolutionary War  ...  categories_Transportation  \\\n",
       "100                                       0  ...                          0   \n",
       "3063                                      0  ...                          0   \n",
       "\n",
       "      categories_Travel  categories_Trivia  categories_Video Game Theme  \\\n",
       "100                   0                  0                            0   \n",
       "3063                  0                  0                            0   \n",
       "\n",
       "      categories_Vietnam War  categories_Wargame  categories_Word Game  \\\n",
       "100                        0                   0                     0   \n",
       "3063                       0                   0                     0   \n",
       "\n",
       "      categories_World War I  categories_World War II  categories_Zombies  \n",
       "100                        0                        0                   0  \n",
       "3063                       0                        0                   0  \n",
       "\n",
       "[2 rows x 86 columns]"
      ]
     },
     "execution_count": 196,
     "metadata": {},
     "output_type": "execute_result"
    }
   ],
   "source": [
    "df[df.name == 'Santorini']"
   ]
  },
  {
   "cell_type": "code",
   "execution_count": 206,
   "metadata": {},
   "outputs": [
    {
     "ename": "IndexError",
     "evalue": "single positional indexer is out-of-bounds",
     "output_type": "error",
     "traceback": [
      "\u001b[0;31m---------------------------------------------------------------------------\u001b[0m",
      "\u001b[0;31mIndexError\u001b[0m                                Traceback (most recent call last)",
      "\u001b[0;32m<ipython-input-206-0bbf543ce0d6>\u001b[0m in \u001b[0;36m<module>\u001b[0;34m\u001b[0m\n\u001b[0;32m----> 1\u001b[0;31m \u001b[0mdf\u001b[0m\u001b[0;34m.\u001b[0m\u001b[0mcolumns\u001b[0m\u001b[0;34m[\u001b[0m\u001b[0;36m3\u001b[0m\u001b[0;34m:\u001b[0m\u001b[0;34m]\u001b[0m\u001b[0;34m[\u001b[0m\u001b[0mnp\u001b[0m\u001b[0;34m.\u001b[0m\u001b[0mwhere\u001b[0m\u001b[0;34m(\u001b[0m\u001b[0mdf\u001b[0m\u001b[0;34m[\u001b[0m\u001b[0mdf\u001b[0m\u001b[0;34m.\u001b[0m\u001b[0mname\u001b[0m \u001b[0;34m==\u001b[0m \u001b[0;34m'Frosthaven'\u001b[0m\u001b[0;34m]\u001b[0m\u001b[0;34m.\u001b[0m\u001b[0miloc\u001b[0m\u001b[0;34m[\u001b[0m\u001b[0;36m0\u001b[0m\u001b[0;34m,\u001b[0m \u001b[0;36m3\u001b[0m\u001b[0;34m:\u001b[0m\u001b[0;34m]\u001b[0m\u001b[0;34m.\u001b[0m\u001b[0mvalues\u001b[0m \u001b[0;34m==\u001b[0m \u001b[0;36m1\u001b[0m\u001b[0;34m)\u001b[0m\u001b[0;34m]\u001b[0m\u001b[0;34m\u001b[0m\u001b[0;34m\u001b[0m\u001b[0m\n\u001b[0m",
      "\u001b[0;32m~/opt/anaconda3/lib/python3.7/site-packages/pandas/core/indexing.py\u001b[0m in \u001b[0;36m__getitem__\u001b[0;34m(self, key)\u001b[0m\n\u001b[1;32m   1760\u001b[0m                 \u001b[0;32mexcept\u001b[0m \u001b[0;34m(\u001b[0m\u001b[0mKeyError\u001b[0m\u001b[0;34m,\u001b[0m \u001b[0mIndexError\u001b[0m\u001b[0;34m,\u001b[0m \u001b[0mAttributeError\u001b[0m\u001b[0;34m)\u001b[0m\u001b[0;34m:\u001b[0m\u001b[0;34m\u001b[0m\u001b[0;34m\u001b[0m\u001b[0m\n\u001b[1;32m   1761\u001b[0m                     \u001b[0;32mpass\u001b[0m\u001b[0;34m\u001b[0m\u001b[0;34m\u001b[0m\u001b[0m\n\u001b[0;32m-> 1762\u001b[0;31m             \u001b[0;32mreturn\u001b[0m \u001b[0mself\u001b[0m\u001b[0;34m.\u001b[0m\u001b[0m_getitem_tuple\u001b[0m\u001b[0;34m(\u001b[0m\u001b[0mkey\u001b[0m\u001b[0;34m)\u001b[0m\u001b[0;34m\u001b[0m\u001b[0;34m\u001b[0m\u001b[0m\n\u001b[0m\u001b[1;32m   1763\u001b[0m         \u001b[0;32melse\u001b[0m\u001b[0;34m:\u001b[0m\u001b[0;34m\u001b[0m\u001b[0;34m\u001b[0m\u001b[0m\n\u001b[1;32m   1764\u001b[0m             \u001b[0;31m# we by definition only have the 0th axis\u001b[0m\u001b[0;34m\u001b[0m\u001b[0;34m\u001b[0m\u001b[0;34m\u001b[0m\u001b[0m\n",
      "\u001b[0;32m~/opt/anaconda3/lib/python3.7/site-packages/pandas/core/indexing.py\u001b[0m in \u001b[0;36m_getitem_tuple\u001b[0;34m(self, tup)\u001b[0m\n\u001b[1;32m   2065\u001b[0m     \u001b[0;32mdef\u001b[0m \u001b[0m_getitem_tuple\u001b[0m\u001b[0;34m(\u001b[0m\u001b[0mself\u001b[0m\u001b[0;34m,\u001b[0m \u001b[0mtup\u001b[0m\u001b[0;34m:\u001b[0m \u001b[0mTuple\u001b[0m\u001b[0;34m)\u001b[0m\u001b[0;34m:\u001b[0m\u001b[0;34m\u001b[0m\u001b[0;34m\u001b[0m\u001b[0m\n\u001b[1;32m   2066\u001b[0m \u001b[0;34m\u001b[0m\u001b[0m\n\u001b[0;32m-> 2067\u001b[0;31m         \u001b[0mself\u001b[0m\u001b[0;34m.\u001b[0m\u001b[0m_has_valid_tuple\u001b[0m\u001b[0;34m(\u001b[0m\u001b[0mtup\u001b[0m\u001b[0;34m)\u001b[0m\u001b[0;34m\u001b[0m\u001b[0;34m\u001b[0m\u001b[0m\n\u001b[0m\u001b[1;32m   2068\u001b[0m         \u001b[0;32mtry\u001b[0m\u001b[0;34m:\u001b[0m\u001b[0;34m\u001b[0m\u001b[0;34m\u001b[0m\u001b[0m\n\u001b[1;32m   2069\u001b[0m             \u001b[0;32mreturn\u001b[0m \u001b[0mself\u001b[0m\u001b[0;34m.\u001b[0m\u001b[0m_getitem_lowerdim\u001b[0m\u001b[0;34m(\u001b[0m\u001b[0mtup\u001b[0m\u001b[0;34m)\u001b[0m\u001b[0;34m\u001b[0m\u001b[0;34m\u001b[0m\u001b[0m\n",
      "\u001b[0;32m~/opt/anaconda3/lib/python3.7/site-packages/pandas/core/indexing.py\u001b[0m in \u001b[0;36m_has_valid_tuple\u001b[0;34m(self, key)\u001b[0m\n\u001b[1;32m    701\u001b[0m                 \u001b[0;32mraise\u001b[0m \u001b[0mIndexingError\u001b[0m\u001b[0;34m(\u001b[0m\u001b[0;34m\"Too many indexers\"\u001b[0m\u001b[0;34m)\u001b[0m\u001b[0;34m\u001b[0m\u001b[0;34m\u001b[0m\u001b[0m\n\u001b[1;32m    702\u001b[0m             \u001b[0;32mtry\u001b[0m\u001b[0;34m:\u001b[0m\u001b[0;34m\u001b[0m\u001b[0;34m\u001b[0m\u001b[0m\n\u001b[0;32m--> 703\u001b[0;31m                 \u001b[0mself\u001b[0m\u001b[0;34m.\u001b[0m\u001b[0m_validate_key\u001b[0m\u001b[0;34m(\u001b[0m\u001b[0mk\u001b[0m\u001b[0;34m,\u001b[0m \u001b[0mi\u001b[0m\u001b[0;34m)\u001b[0m\u001b[0;34m\u001b[0m\u001b[0;34m\u001b[0m\u001b[0m\n\u001b[0m\u001b[1;32m    704\u001b[0m             \u001b[0;32mexcept\u001b[0m \u001b[0mValueError\u001b[0m\u001b[0;34m:\u001b[0m\u001b[0;34m\u001b[0m\u001b[0;34m\u001b[0m\u001b[0m\n\u001b[1;32m    705\u001b[0m                 raise ValueError(\n",
      "\u001b[0;32m~/opt/anaconda3/lib/python3.7/site-packages/pandas/core/indexing.py\u001b[0m in \u001b[0;36m_validate_key\u001b[0;34m(self, key, axis)\u001b[0m\n\u001b[1;32m   1992\u001b[0m             \u001b[0;32mreturn\u001b[0m\u001b[0;34m\u001b[0m\u001b[0;34m\u001b[0m\u001b[0m\n\u001b[1;32m   1993\u001b[0m         \u001b[0;32melif\u001b[0m \u001b[0mis_integer\u001b[0m\u001b[0;34m(\u001b[0m\u001b[0mkey\u001b[0m\u001b[0;34m)\u001b[0m\u001b[0;34m:\u001b[0m\u001b[0;34m\u001b[0m\u001b[0;34m\u001b[0m\u001b[0m\n\u001b[0;32m-> 1994\u001b[0;31m             \u001b[0mself\u001b[0m\u001b[0;34m.\u001b[0m\u001b[0m_validate_integer\u001b[0m\u001b[0;34m(\u001b[0m\u001b[0mkey\u001b[0m\u001b[0;34m,\u001b[0m \u001b[0maxis\u001b[0m\u001b[0;34m)\u001b[0m\u001b[0;34m\u001b[0m\u001b[0;34m\u001b[0m\u001b[0m\n\u001b[0m\u001b[1;32m   1995\u001b[0m         \u001b[0;32melif\u001b[0m \u001b[0misinstance\u001b[0m\u001b[0;34m(\u001b[0m\u001b[0mkey\u001b[0m\u001b[0;34m,\u001b[0m \u001b[0mtuple\u001b[0m\u001b[0;34m)\u001b[0m\u001b[0;34m:\u001b[0m\u001b[0;34m\u001b[0m\u001b[0;34m\u001b[0m\u001b[0m\n\u001b[1;32m   1996\u001b[0m             \u001b[0;31m# a tuple should already have been caught by this point\u001b[0m\u001b[0;34m\u001b[0m\u001b[0;34m\u001b[0m\u001b[0;34m\u001b[0m\u001b[0m\n",
      "\u001b[0;32m~/opt/anaconda3/lib/python3.7/site-packages/pandas/core/indexing.py\u001b[0m in \u001b[0;36m_validate_integer\u001b[0;34m(self, key, axis)\u001b[0m\n\u001b[1;32m   2061\u001b[0m         \u001b[0mlen_axis\u001b[0m \u001b[0;34m=\u001b[0m \u001b[0mlen\u001b[0m\u001b[0;34m(\u001b[0m\u001b[0mself\u001b[0m\u001b[0;34m.\u001b[0m\u001b[0mobj\u001b[0m\u001b[0;34m.\u001b[0m\u001b[0m_get_axis\u001b[0m\u001b[0;34m(\u001b[0m\u001b[0maxis\u001b[0m\u001b[0;34m)\u001b[0m\u001b[0;34m)\u001b[0m\u001b[0;34m\u001b[0m\u001b[0;34m\u001b[0m\u001b[0m\n\u001b[1;32m   2062\u001b[0m         \u001b[0;32mif\u001b[0m \u001b[0mkey\u001b[0m \u001b[0;34m>=\u001b[0m \u001b[0mlen_axis\u001b[0m \u001b[0;32mor\u001b[0m \u001b[0mkey\u001b[0m \u001b[0;34m<\u001b[0m \u001b[0;34m-\u001b[0m\u001b[0mlen_axis\u001b[0m\u001b[0;34m:\u001b[0m\u001b[0;34m\u001b[0m\u001b[0;34m\u001b[0m\u001b[0m\n\u001b[0;32m-> 2063\u001b[0;31m             \u001b[0;32mraise\u001b[0m \u001b[0mIndexError\u001b[0m\u001b[0;34m(\u001b[0m\u001b[0;34m\"single positional indexer is out-of-bounds\"\u001b[0m\u001b[0;34m)\u001b[0m\u001b[0;34m\u001b[0m\u001b[0;34m\u001b[0m\u001b[0m\n\u001b[0m\u001b[1;32m   2064\u001b[0m \u001b[0;34m\u001b[0m\u001b[0m\n\u001b[1;32m   2065\u001b[0m     \u001b[0;32mdef\u001b[0m \u001b[0m_getitem_tuple\u001b[0m\u001b[0;34m(\u001b[0m\u001b[0mself\u001b[0m\u001b[0;34m,\u001b[0m \u001b[0mtup\u001b[0m\u001b[0;34m:\u001b[0m \u001b[0mTuple\u001b[0m\u001b[0;34m)\u001b[0m\u001b[0;34m:\u001b[0m\u001b[0;34m\u001b[0m\u001b[0;34m\u001b[0m\u001b[0m\n",
      "\u001b[0;31mIndexError\u001b[0m: single positional indexer is out-of-bounds"
     ]
    }
   ],
   "source": [
    "df.columns[3:][np.where(df[df.name == 'Frosthaven'].iloc[0, 3:].values == 1)]"
   ]
  },
  {
   "cell_type": "markdown",
   "metadata": {},
   "source": [
    "# THE CUTTING EDGE :D"
   ]
  },
  {
   "cell_type": "markdown",
   "metadata": {},
   "source": [
    "### Visualizing training data"
   ]
  },
  {
   "cell_type": "code",
   "execution_count": null,
   "metadata": {},
   "outputs": [],
   "source": [
    "# Use the below to visualize your history data\n",
    "history=h_callback # From 3 cells up\n",
    "plt.figure()\n",
    "plt.plot(history.history['acc'])\n",
    "plt.plot(history.history['val_acc'])\n",
    "plt.title('Model Accuracy')\n",
    "plt.ylabel('Accuracy')\n",
    "plt.xlabel('Epoch')\n",
    "plt.legend(['Train', 'Test'])\n",
    "plt.show()"
   ]
  },
  {
   "cell_type": "code",
   "execution_count": null,
   "metadata": {},
   "outputs": [],
   "source": [
    "# Extract from the h_callback object loss and val_loss to plot the learning curve\n",
    "plot_loss(h_callback.history['loss'], h_callback.history['val_loss'])"
   ]
  },
  {
   "cell_type": "markdown",
   "metadata": {},
   "source": [
    "### Try different activation function?"
   ]
  },
  {
   "cell_type": "markdown",
   "metadata": {},
   "source": [
    "### Use Batch Normalization?"
   ]
  },
  {
   "cell_type": "markdown",
   "metadata": {},
   "source": [
    "### Use multiple CNN layers?"
   ]
  },
  {
   "cell_type": "markdown",
   "metadata": {},
   "source": [
    "## Predictions & Evaluation"
   ]
  },
  {
   "cell_type": "code",
   "execution_count": 178,
   "metadata": {},
   "outputs": [
    {
     "data": {
      "text/plain": [
       "(3430, 83)"
      ]
     },
     "execution_count": 178,
     "metadata": {},
     "output_type": "execute_result"
    }
   ],
   "source": [
    "y_pred_rf = rf.predict(X_test)\n",
    "y_pred_rf.shape"
   ]
  },
  {
   "cell_type": "code",
   "execution_count": 182,
   "metadata": {},
   "outputs": [
    {
     "name": "stdout",
     "output_type": "stream",
     "text": [
      "EXACT MATCH RATION:  0.11924198250728862\n",
      "JACCARD SCORE average=micro:  0.21248283873693105\n",
      "JACCARD SCORE average=weighted:  0.20345546360720523\n",
      "JACCARD SCORE average=samples:  0.2668857988464402\n",
      "HAMMING LOSS :  0.026193403351013382\n",
      "ZERO-ONE LOSS :  0.8807580174927114\n"
     ]
    }
   ],
   "source": [
    "print(\"EXACT MATCH RATION: \", rf.score(X_test, y_test))\n",
    "print(\"JACCARD SCORE average=micro: \", jaccard_score(y_test, y_pred_rf, average='micro'))\n",
    "print(\"JACCARD SCORE average=weighted: \", jaccard_score(y_test, y_pred_rf, average='weighted'))\n",
    "print(\"JACCARD SCORE average=samples: \", jaccard_score(y_test, y_pred_rf, average='samples'))\n",
    "print(\"HAMMING LOSS : \", hamming_loss(y_test, y_pred_rf))\n",
    "print(\"ZERO-ONE LOSS : \", zero_one_loss(y_test, y_pred_rf))"
   ]
  },
  {
   "cell_type": "code",
   "execution_count": null,
   "metadata": {},
   "outputs": [],
   "source": [
    "rf"
   ]
  },
  {
   "cell_type": "code",
   "execution_count": null,
   "metadata": {},
   "outputs": [],
   "source": [
    "plt.figure(figsize=(20,8))\n",
    "plt.plot(steps, rewards_lst[0], \"-\", label=\"First Trial\")\n",
    "plt.plot(steps, np.mean(rewards_lst[:5],axis=0), \"-\", label=\"Avg. First 5 Trials\")\n",
    "plt.plot(steps, np.mean(rewards_lst,axis=0), \"-\", label=\"Avg. First 10 Trials\")\n",
    "plt.xticks(fontsize=20)\n",
    "plt.yticks(fontsize=20)\n",
    "plt.ylabel(\"Average Reward\", fontsize = 20)\n",
    "plt.xlabel(\"Number of Steps\")\n",
    "plt.title(\"Average Reward over 100,000 steps for 1, 5, and 10 trials\", fontsize = 30)\n",
    "plt.legend(loc=\"right\", prop={'size': 16})"
   ]
  },
  {
   "cell_type": "markdown",
   "metadata": {},
   "source": [
    "# Appendix"
   ]
  },
  {
   "cell_type": "markdown",
   "metadata": {},
   "source": [
    "### Minimum example of using a classifier for Multi-Label classification in a One-vs-Rest STrategy\n",
    "\"This strategy consists of fitting one classifier per target. This is a simple strategy for extending classifiers that do not natively support multi-target classification\"\n",
    "\n",
    "https://scikit-learn.org/stable/modules/generated/sklearn.multioutput.MultiOutputClassifier.html#sklearn.multioutput.MultiOutputClassifier"
   ]
  },
  {
   "cell_type": "code",
   "execution_count": 299,
   "metadata": {},
   "outputs": [
    {
     "name": "stdout",
     "output_type": "stream",
     "text": [
      "X.shape= (100, 20)\n",
      "X \n",
      " [[3. 6. 1. ... 1. 5. 0.]\n",
      " [3. 5. 5. ... 1. 1. 1.]\n",
      " [3. 3. 5. ... 0. 2. 1.]\n",
      " ...\n",
      " [3. 7. 3. ... 2. 4. 2.]\n",
      " [7. 2. 1. ... 1. 1. 1.]\n",
      " [3. 5. 3. ... 1. 2. 4.]]\n",
      "y.shape= (100, 3)\n",
      "y \n",
      " [[0 1 0]\n",
      " [0 1 0]\n",
      " [1 1 1]\n",
      " [1 1 1]\n",
      " [0 1 0]]\n"
     ]
    }
   ],
   "source": [
    "from sklearn.multioutput import MultiOutputClassifier\n",
    "from sklearn.neighbors import KNeighborsClassifier\n",
    "\n",
    "from sklearn.datasets import make_multilabel_classification\n",
    "X, y = make_multilabel_classification(n_samples=100 # Number of rows in X & y\n",
    "                                      , n_features=20 # Number of features in X\n",
    "                                      , n_classes=3 # Number of columns in y\n",
    "                                      , n_labels=2 # Supposed to be the number of unique values for the classes in y, but doesn't change for some reason\n",
    "                                      , random_state=0)\n",
    "print(\"X.shape=\", X.shape)\n",
    "print('X \\n', X)\n",
    "print(\"y.shape=\", y.shape)\n",
    "print('y \\n', y[:5])"
   ]
  },
  {
   "cell_type": "code",
   "execution_count": 300,
   "metadata": {},
   "outputs": [],
   "source": [
    "clf = MultiOutputClassifier(KNeighborsClassifier()).fit(X, y)"
   ]
  },
  {
   "cell_type": "code",
   "execution_count": 301,
   "metadata": {},
   "outputs": [
    {
     "data": {
      "text/plain": [
       "array([[1, 1, 1],\n",
       "       [1, 0, 1]])"
      ]
     },
     "execution_count": 301,
     "metadata": {},
     "output_type": "execute_result"
    }
   ],
   "source": [
    "# True data for last two observations\n",
    "y[-2:]"
   ]
  },
  {
   "cell_type": "code",
   "execution_count": 302,
   "metadata": {},
   "outputs": [
    {
     "data": {
      "text/plain": [
       "array([[1, 1, 0],\n",
       "       [1, 1, 1]])"
      ]
     },
     "execution_count": 302,
     "metadata": {},
     "output_type": "execute_result"
    }
   ],
   "source": [
    "# Prediction for the last two observations in X\n",
    "clf.predict(X[-2:])"
   ]
  },
  {
   "cell_type": "code",
   "execution_count": 68,
   "metadata": {},
   "outputs": [
    {
     "data": {
      "text/plain": [
       "[array([[0., 1.],\n",
       "        [0., 1.]]),\n",
       " array([[0. , 1. ],\n",
       "        [0.2, 0.8]]),\n",
       " array([[0.6, 0.4],\n",
       "        [0.4, 0.6]])]"
      ]
     },
     "execution_count": 68,
     "metadata": {},
     "output_type": "execute_result"
    }
   ],
   "source": [
    "# Prediction probabilities\n",
    "# We have n_classes (in this case 3) n_samples x n_labels matrices(where n_labels appears to be always 2)\n",
    "# In other words, the first matrix gives us the probabilities for 0 or 1 for the first class\n",
    "clf.predict_proba(X[-2:])"
   ]
  },
  {
   "cell_type": "markdown",
   "metadata": {},
   "source": [
    "Note above how all the numbers in the right column are larger.  \n",
    "This corresponds to the fact taht in the predictions, all the predictions are 1\n",
    "EXCEPT the one for the first observation in the 3rd column.  \n",
    "This is correct, because if we look at the _third_ matrix above, we will see that the first row for the first observation has a higher probability for the label 0 (prob = .6) as opposed to the prob for the label 1 (prob = .4)"
   ]
  },
  {
   "cell_type": "code",
   "execution_count": 69,
   "metadata": {},
   "outputs": [
    {
     "data": {
      "text/plain": [
       "(2, 3)"
      ]
     },
     "execution_count": 69,
     "metadata": {},
     "output_type": "execute_result"
    }
   ],
   "source": [
    "# clf.predict(X[-2:]).shape\n",
    "y[-2:].shape"
   ]
  },
  {
   "cell_type": "markdown",
   "metadata": {},
   "source": [
    "### Using OneVsRestClassifier - Appears to be the same as MultiOutputClassifier"
   ]
  },
  {
   "cell_type": "code",
   "execution_count": 305,
   "metadata": {},
   "outputs": [],
   "source": [
    "from sklearn.multiclass import OneVsRestClassifier\n",
    "# Based on this post: https://stackoverflow.com/questions/42819460/what-is-the-difference-between-onevsrestclassifier-and-multioutputclassifier-in\n",
    "# it appears that OneVsRestClassifier works the same as MultiOutputClassifier in our case with binary Multi-Label classification."
   ]
  },
  {
   "cell_type": "code",
   "execution_count": 306,
   "metadata": {},
   "outputs": [],
   "source": [
    "ovr = OneVsRestClassifier(KNeighborsClassifier()).fit(X, y)"
   ]
  },
  {
   "cell_type": "code",
   "execution_count": 307,
   "metadata": {},
   "outputs": [
    {
     "data": {
      "text/plain": [
       "array([[0, 1, 0],\n",
       "       [1, 1, 0],\n",
       "       [1, 1, 1]])"
      ]
     },
     "execution_count": 307,
     "metadata": {},
     "output_type": "execute_result"
    }
   ],
   "source": [
    "ovr.predict(X[-3:])"
   ]
  },
  {
   "cell_type": "code",
   "execution_count": 308,
   "metadata": {},
   "outputs": [
    {
     "data": {
      "text/plain": [
       "array([[0.2, 1. , 0.4],\n",
       "       [1. , 1. , 0.4],\n",
       "       [1. , 0.8, 0.6]])"
      ]
     },
     "execution_count": 308,
     "metadata": {},
     "output_type": "execute_result"
    }
   ],
   "source": [
    "ovr.predict_proba(X[-3:]) # This gives the same values as the MultiOutPut Classifier but a bit clearer\n",
    "# Each row refers to a specific observation and each column is just the probability of a positive response for that observation for that class."
   ]
  },
  {
   "cell_type": "code",
   "execution_count": 309,
   "metadata": {},
   "outputs": [
    {
     "data": {
      "text/plain": [
       "0.0"
      ]
     },
     "execution_count": 309,
     "metadata": {},
     "output_type": "execute_result"
    }
   ],
   "source": [
    "ovr.score(X[-3:], y[-3:])"
   ]
  },
  {
   "cell_type": "code",
   "execution_count": 310,
   "metadata": {},
   "outputs": [
    {
     "data": {
      "text/plain": [
       "0.68"
      ]
     },
     "execution_count": 310,
     "metadata": {},
     "output_type": "execute_result"
    }
   ],
   "source": [
    "ovr.score(X, y)"
   ]
  },
  {
   "cell_type": "code",
   "execution_count": 312,
   "metadata": {},
   "outputs": [
    {
     "data": {
      "text/plain": [
       "array([[0, 1, 1],\n",
       "       [1, 1, 1],\n",
       "       [1, 0, 1]])"
      ]
     },
     "execution_count": 312,
     "metadata": {},
     "output_type": "execute_result"
    }
   ],
   "source": [
    "y[-3:]"
   ]
  },
  {
   "cell_type": "code",
   "execution_count": 317,
   "metadata": {},
   "outputs": [
    {
     "data": {
      "text/plain": [
       "0.7857142857142857"
      ]
     },
     "execution_count": 317,
     "metadata": {},
     "output_type": "execute_result"
    }
   ],
   "source": [
    "roc_auc_score(y[-3:], ovr.predict_proba(X[-3:]), average='micro')"
   ]
  },
  {
   "cell_type": "markdown",
   "metadata": {},
   "source": [
    "# MODEL EVALUATION"
   ]
  },
  {
   "cell_type": "markdown",
   "metadata": {},
   "source": [
    "### Measuring success with Exact Match Ratio"
   ]
  },
  {
   "cell_type": "code",
   "execution_count": 72,
   "metadata": {},
   "outputs": [
    {
     "data": {
      "text/plain": [
       "0.68"
      ]
     },
     "execution_count": 72,
     "metadata": {},
     "output_type": "execute_result"
    }
   ],
   "source": [
    "# Performance on entire dataset - this is the EXACT MATCH RATIO!\n",
    "clf.score(X, y)"
   ]
  },
  {
   "cell_type": "code",
   "execution_count": 75,
   "metadata": {},
   "outputs": [
    {
     "data": {
      "text/plain": [
       "0.0"
      ]
     },
     "execution_count": 75,
     "metadata": {},
     "output_type": "execute_result"
    }
   ],
   "source": [
    "# From the docstring:\n",
    "# In multilabel classification, this function computes subset accuracy:\n",
    "# the set of labels predicted for a sample must *exactly* match the\n",
    "# corresponding set of labels in y_true.\n",
    "\n",
    "# In other words, this is the EXACT MATCH RATIO!\n",
    "\n",
    "accuracy_score(y[-2:], clf.predict(X[-2:]))"
   ]
  },
  {
   "cell_type": "code",
   "execution_count": 76,
   "metadata": {},
   "outputs": [
    {
     "data": {
      "text/plain": [
       "0.0"
      ]
     },
     "execution_count": 76,
     "metadata": {},
     "output_type": "execute_result"
    }
   ],
   "source": [
    "# It produces the same results as:\n",
    "clf.score(X[-2:], y[-2:])\n",
    "\n",
    "# From the source code, this is equivalent to:\n",
    "np.mean(np.all(y[-2:] == clf.predict(X[-2:]), axis=1))"
   ]
  },
  {
   "cell_type": "markdown",
   "metadata": {},
   "source": [
    "## Alternative measures of success other than EXACT MATCH RATIO"
   ]
  },
  {
   "cell_type": "markdown",
   "metadata": {},
   "source": [
    "### Jaccard Score - Measures positive matches\n",
    "For binary classification this formula is clearest and simplest: https://en.wikipedia.org/wiki/Jaccard_index#Similarity_of_asymmetric_binary_attributes"
   ]
  },
  {
   "cell_type": "code",
   "execution_count": 82,
   "metadata": {},
   "outputs": [
    {
     "name": "stdout",
     "output_type": "stream",
     "text": [
      "True labels \n",
      " [[0 1 1]\n",
      " [1 1 1]\n",
      " [1 0 1]]\n",
      "Predicted labels \n",
      " [[0 1 0]\n",
      " [1 1 0]\n",
      " [1 1 1]]\n"
     ]
    }
   ],
   "source": [
    "print(\"True labels \\n\", y[-3:])\n",
    "print(\"Predicted labels \\n\", clf.predict(X[-3:]))"
   ]
  },
  {
   "cell_type": "code",
   "execution_count": 101,
   "metadata": {},
   "outputs": [
    {
     "data": {
      "text/plain": [
       "array([1.        , 0.66666667, 0.33333333])"
      ]
     },
     "execution_count": 101,
     "metadata": {},
     "output_type": "execute_result"
    }
   ],
   "source": [
    "# If None, the scores for each class are returned.\n",
    "# i.e. this does column-wise jaccard score\n",
    "jaccard_score(y[-3:], clf.predict(X[-3:]), average=None)"
   ]
  },
  {
   "cell_type": "code",
   "execution_count": 102,
   "metadata": {},
   "outputs": [
    {
     "data": {
      "text/plain": [
       "0.625"
      ]
     },
     "execution_count": 102,
     "metadata": {},
     "output_type": "execute_result"
    }
   ],
   "source": [
    "# Calculate metrics globally by counting the total true positives, false negatives and false positives.\n",
    "jaccard_score(y[-3:], clf.predict(X[-3:]), average='micro')"
   ]
  },
  {
   "cell_type": "code",
   "execution_count": 85,
   "metadata": {},
   "outputs": [
    {
     "data": {
      "text/plain": [
       "0.6666666666666666"
      ]
     },
     "execution_count": 85,
     "metadata": {},
     "output_type": "execute_result"
    }
   ],
   "source": [
    "# Calculate metrics for each label, and find their unweighted mean. This does not take label imbalance into account.\n",
    "jaccard_score(y[-3:], clf.predict(X[-3:]), average='macro')"
   ]
  },
  {
   "cell_type": "code",
   "execution_count": 87,
   "metadata": {},
   "outputs": [
    {
     "data": {
      "text/plain": [
       "0.619047619047619"
      ]
     },
     "execution_count": 87,
     "metadata": {},
     "output_type": "execute_result"
    }
   ],
   "source": [
    "# Calculate metrics for each label, and find their average, weighted by support \n",
    "# (the number of true instances for each label). This alters ‘macro’ to account for label imbalance.\n",
    "jaccard_score(y[-3:], clf.predict(X[-3:]), average='weighted')"
   ]
  },
  {
   "cell_type": "code",
   "execution_count": 86,
   "metadata": {},
   "outputs": [
    {
     "data": {
      "text/plain": [
       "0.611111111111111"
      ]
     },
     "execution_count": 86,
     "metadata": {},
     "output_type": "execute_result"
    }
   ],
   "source": [
    "# Calculate metrics for each instance, and find their average (only meaningful for multilabel classification).\n",
    "jaccard_score(y[-3:], clf.predict(X[-3:]), average='samples')"
   ]
  },
  {
   "cell_type": "markdown",
   "metadata": {},
   "source": [
    "### Hamming Loss - Measures proportion of labels correctly classified\n",
    "The Hamming loss is the fraction of labels that are incorrectly predicted.  \n",
    "\n",
    "In multilabel classification, the Hamming loss is different from the subset zero-one loss. The zero-one loss considers the entire set of labels for a given sample incorrect if it does not entirely match the true set of labels. Hamming loss is more forgiving in that it penalizes only the individual labels.\n",
    "\n",
    "The Hamming loss is upperbounded by the subset zero-one loss, when normalize parameter is set to True. It is always between 0 and 1, lower being better."
   ]
  },
  {
   "cell_type": "code",
   "execution_count": 106,
   "metadata": {},
   "outputs": [
    {
     "data": {
      "text/plain": [
       "array([[1, 1, 0],\n",
       "       [1, 1, 1]])"
      ]
     },
     "execution_count": 106,
     "metadata": {},
     "output_type": "execute_result"
    }
   ],
   "source": [
    "ovr.predict(X[-2:])"
   ]
  },
  {
   "cell_type": "code",
   "execution_count": 105,
   "metadata": {},
   "outputs": [
    {
     "data": {
      "text/plain": [
       "array([[1, 1, 1],\n",
       "       [1, 0, 1]])"
      ]
     },
     "execution_count": 105,
     "metadata": {},
     "output_type": "execute_result"
    }
   ],
   "source": [
    "y[-2:]"
   ]
  },
  {
   "cell_type": "code",
   "execution_count": 107,
   "metadata": {},
   "outputs": [
    {
     "data": {
      "text/plain": [
       "0.3333333333333333"
      ]
     },
     "execution_count": 107,
     "metadata": {},
     "output_type": "execute_result"
    }
   ],
   "source": [
    "from sklearn.metrics import hamming_loss\n",
    "\n",
    "hamming_loss(y[-2:], ovr.predict(X[-2:]))"
   ]
  },
  {
   "cell_type": "code",
   "execution_count": 108,
   "metadata": {},
   "outputs": [
    {
     "data": {
      "text/plain": [
       "0.25"
      ]
     },
     "execution_count": 108,
     "metadata": {},
     "output_type": "execute_result"
    }
   ],
   "source": [
    "hamming_loss(np.array([[0, 1], [1, 1]]), np.ones((2, 2)))"
   ]
  },
  {
   "cell_type": "markdown",
   "metadata": {},
   "source": [
    "### Zero-One Loss - Number of things incorrectly classified"
   ]
  },
  {
   "cell_type": "code",
   "execution_count": 109,
   "metadata": {},
   "outputs": [
    {
     "data": {
      "text/plain": [
       "0.25"
      ]
     },
     "execution_count": 109,
     "metadata": {},
     "output_type": "execute_result"
    }
   ],
   "source": [
    "from sklearn.metrics import zero_one_loss\n",
    "y_pred = [1, 2, 3, 4]\n",
    "y_true = [2, 2, 3, 4]\n",
    "zero_one_loss(y_true, y_pred)"
   ]
  },
  {
   "cell_type": "code",
   "execution_count": 110,
   "metadata": {},
   "outputs": [
    {
     "data": {
      "text/plain": [
       "1"
      ]
     },
     "execution_count": 110,
     "metadata": {},
     "output_type": "execute_result"
    }
   ],
   "source": [
    "zero_one_loss(y_true, y_pred, normalize=False) # A LOT MORE UNFORGIVING"
   ]
  },
  {
   "cell_type": "code",
   "execution_count": 112,
   "metadata": {},
   "outputs": [
    {
     "data": {
      "text/plain": [
       "0.6666666666666667"
      ]
     },
     "execution_count": 112,
     "metadata": {},
     "output_type": "execute_result"
    }
   ],
   "source": [
    "zero_one_loss(np.array([[0, 1], [1, 1], [1, 0]]), np.ones((3, 2)))"
   ]
  },
  {
   "cell_type": "markdown",
   "metadata": {},
   "source": [
    "### Multilabel Confusion Matrix"
   ]
  },
  {
   "cell_type": "code",
   "execution_count": 113,
   "metadata": {},
   "outputs": [],
   "source": [
    "from sklearn.metrics import multilabel_confusion_matrix"
   ]
  },
  {
   "cell_type": "markdown",
   "metadata": {},
   "source": [
    "The outpush below is the same type as for MultiOutputClassification.  \n",
    "i.e. each matrix is a 2x2 confusion matrix for the corresponding label"
   ]
  },
  {
   "cell_type": "code",
   "execution_count": 115,
   "metadata": {},
   "outputs": [
    {
     "data": {
      "text/plain": [
       "array([[[1, 0],\n",
       "        [0, 1]],\n",
       "\n",
       "       [[1, 0],\n",
       "        [0, 1]],\n",
       "\n",
       "       [[0, 1],\n",
       "        [1, 0]],\n",
       "\n",
       "       [[0, 0],\n",
       "        [1, 1]]])"
      ]
     },
     "execution_count": 115,
     "metadata": {},
     "output_type": "execute_result"
    }
   ],
   "source": [
    "y_true = np.array([[1, 0, 1, 1],\n",
    "                   [0, 1, 0, 1]])\n",
    "y_pred = np.array([[1, 0, 0, 1],\n",
    "                   [0, 1, 1, 0]])\n",
    "multilabel_confusion_matrix(y_true, y_pred)\n"
   ]
  },
  {
   "cell_type": "code",
   "execution_count": 116,
   "metadata": {},
   "outputs": [
    {
     "data": {
      "text/plain": [
       "array([[[1, 0],\n",
       "        [1, 2]],\n",
       "\n",
       "       [[1, 1],\n",
       "        [1, 1]]])"
      ]
     },
     "execution_count": 116,
     "metadata": {},
     "output_type": "execute_result"
    }
   ],
   "source": [
    "y_true = np.array([[1, 0, 1, 1],\n",
    "                   [0, 1, 0, 1]])\n",
    "y_pred = np.array([[1, 0, 0, 1],\n",
    "                   [0, 1, 1, 0]])\n",
    "multilabel_confusion_matrix(y_true, y_pred, samplewise=True) # This does it ROW BY ROW instead of for each label\n"
   ]
  }
 ],
 "metadata": {
  "kernelspec": {
   "display_name": "Python 3",
   "language": "python",
   "name": "python3"
  },
  "language_info": {
   "codemirror_mode": {
    "name": "ipython",
    "version": 3
   },
   "file_extension": ".py",
   "mimetype": "text/x-python",
   "name": "python",
   "nbconvert_exporter": "python",
   "pygments_lexer": "ipython3",
   "version": "3.7.4"
  }
 },
 "nbformat": 4,
 "nbformat_minor": 4
}
